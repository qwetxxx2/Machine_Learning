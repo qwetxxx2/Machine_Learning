{
  "cells": [
    {
      "cell_type": "markdown",
      "id": "54a45bcc",
      "metadata": {
        "id": "54a45bcc"
      },
      "source": [
        "# Classification. Part 2\n",
        "---\n",
        "Author: Anatoliy Durkin\n",
        "\n",
        "Updated: 17.03.2025\n",
        "\n",
        "---\n",
        "В данном ноутбуке будут рассмотрены несколько моделей классификации, новые функции для метрик и сами новые метрики, а также будет уделено внимание подбору гиперпараметров для моделей."
      ]
    },
    {
      "cell_type": "code",
      "execution_count": 16,
      "id": "dd24dbba",
      "metadata": {
        "id": "dd24dbba"
      },
      "outputs": [],
      "source": [
        "import pandas as pd\n",
        "import numpy as np\n",
        "import matplotlib.pyplot as plt\n",
        "import seaborn as sns\n",
        "from sklearn.model_selection import train_test_split\n",
        "from sklearn.metrics import confusion_matrix, classification_report"
      ]
    },
    {
      "cell_type": "markdown",
      "id": "9233e9e3",
      "metadata": {
        "id": "9233e9e3"
      },
      "source": [
        "В прошлом ноутбуке мы писали функцию, выводившую все необходимые нам метрики вместе. Мы импортировали несколько функций, но в этом ноутбуке используем только две: `confusion_matrix` выводит матрицу ошибок, а `classification_report` выдает остальные метрики, увидим уже на примере. Зачем нужен `fill_diagonal`, увидим в конце ноутбука."
      ]
    },
    {
      "cell_type": "code",
      "execution_count": 17,
      "id": "0df50372",
      "metadata": {
        "id": "0df50372"
      },
      "outputs": [],
      "source": [
        "def metrics(target, pred, fill=False):\n",
        "    print(classification_report(target, pred))\n",
        "    matrix = np.array(confusion_matrix(target, pred))\n",
        "    if fill:\n",
        "        np.fill_diagonal(matrix, 0)\n",
        "    sns.heatmap(matrix, annot=True, fmt='.0f')\n",
        "    plt.xlabel('Predicted')\n",
        "    plt.ylabel('Actual')\n",
        "    plt.title('Матрица ошибок')"
      ]
    },
    {
      "cell_type": "markdown",
      "id": "266d0516",
      "metadata": {
        "id": "266d0516"
      },
      "source": [
        "## Naive Bayes\n",
        "---\n",
        "\n",
        "Знаете ли вы метод \"съешь лягушку\"? Это о том, что нужно выполнить самую неприятную задачу сразу, не откладывая. Так что съедим лягушку и слегка окунёмся в NLP, или Natural language processing - обработка естественного языка.\n",
        "\n",
        "В этой сфере может быть множество задач классификации, например, отделение спама. Но мы рассмотрим задачу определения кликбейта среди новостных заголовков.\n",
        "\n",
        "> Кликбейт (англ. clickbait от click «щелчок» + bait «приманка») — уничижительный термин, описывающий веб-контент, целью которого является получение дохода от онлайн-рекламы, особенно в ущерб качеству или точности информации.\n",
        "\n",
        "А как модель используем наивный байессовский классиикатор.\n",
        "\n",
        "Итак, познакомимся с данными."
      ]
    },
    {
      "cell_type": "code",
      "execution_count": 20,
      "id": "8fc1fa75",
      "metadata": {
        "id": "8fc1fa75"
      },
      "outputs": [],
      "source": [
        "titles = pd.read_csv('titles_data.csv', sep=';')"
      ]
    },
    {
      "cell_type": "code",
      "execution_count": 21,
      "id": "7b260c53",
      "metadata": {
        "colab": {
          "base_uri": "https://localhost:8080/",
          "height": 424
        },
        "id": "7b260c53",
        "outputId": "523d19f6-7f12-408f-8a89-deb11078f478"
      },
      "outputs": [
        {
          "output_type": "execute_result",
          "data": {
            "text/plain": [
              "                                                 titles  target\n",
              "0     Родственник раскрыл настоящую фамилию Пугачёво...       1\n",
              "1     Предсказания Матроны Московской на 2024-й год:...       1\n",
              "2     Пророчество схимонахини Нины об антихристе, ми...       1\n",
              "3     «Думал об этом»: что Путин сказал о своем прее...       1\n",
              "4     Путин поручил уведомить россиян об изменениях ...       1\n",
              "...                                                 ...     ...\n",
              "3193  Путин поручил передать Республике Крым все акц...       0\n",
              "3194  ЕК изучит просьбу Венгрии по нарушению Болгари...       0\n",
              "3195  Глава \"Россетей\" доложил Путину о достижении ц...       0\n",
              "3196  Платформа \"Мой экспорт\" научит устанавливать д...       0\n",
              "3197  В Татарстане открыли завод по выпуску материнс...       0\n",
              "\n",
              "[3198 rows x 2 columns]"
            ],
            "text/html": [
              "\n",
              "  <div id=\"df-6aa66572-087d-46a2-873a-c1f083bd4304\" class=\"colab-df-container\">\n",
              "    <div>\n",
              "<style scoped>\n",
              "    .dataframe tbody tr th:only-of-type {\n",
              "        vertical-align: middle;\n",
              "    }\n",
              "\n",
              "    .dataframe tbody tr th {\n",
              "        vertical-align: top;\n",
              "    }\n",
              "\n",
              "    .dataframe thead th {\n",
              "        text-align: right;\n",
              "    }\n",
              "</style>\n",
              "<table border=\"1\" class=\"dataframe\">\n",
              "  <thead>\n",
              "    <tr style=\"text-align: right;\">\n",
              "      <th></th>\n",
              "      <th>titles</th>\n",
              "      <th>target</th>\n",
              "    </tr>\n",
              "  </thead>\n",
              "  <tbody>\n",
              "    <tr>\n",
              "      <th>0</th>\n",
              "      <td>Родственник раскрыл настоящую фамилию Пугачёво...</td>\n",
              "      <td>1</td>\n",
              "    </tr>\n",
              "    <tr>\n",
              "      <th>1</th>\n",
              "      <td>Предсказания Матроны Московской на 2024-й год:...</td>\n",
              "      <td>1</td>\n",
              "    </tr>\n",
              "    <tr>\n",
              "      <th>2</th>\n",
              "      <td>Пророчество схимонахини Нины об антихристе, ми...</td>\n",
              "      <td>1</td>\n",
              "    </tr>\n",
              "    <tr>\n",
              "      <th>3</th>\n",
              "      <td>«Думал об этом»: что Путин сказал о своем прее...</td>\n",
              "      <td>1</td>\n",
              "    </tr>\n",
              "    <tr>\n",
              "      <th>4</th>\n",
              "      <td>Путин поручил уведомить россиян об изменениях ...</td>\n",
              "      <td>1</td>\n",
              "    </tr>\n",
              "    <tr>\n",
              "      <th>...</th>\n",
              "      <td>...</td>\n",
              "      <td>...</td>\n",
              "    </tr>\n",
              "    <tr>\n",
              "      <th>3193</th>\n",
              "      <td>Путин поручил передать Республике Крым все акц...</td>\n",
              "      <td>0</td>\n",
              "    </tr>\n",
              "    <tr>\n",
              "      <th>3194</th>\n",
              "      <td>ЕК изучит просьбу Венгрии по нарушению Болгари...</td>\n",
              "      <td>0</td>\n",
              "    </tr>\n",
              "    <tr>\n",
              "      <th>3195</th>\n",
              "      <td>Глава \"Россетей\" доложил Путину о достижении ц...</td>\n",
              "      <td>0</td>\n",
              "    </tr>\n",
              "    <tr>\n",
              "      <th>3196</th>\n",
              "      <td>Платформа \"Мой экспорт\" научит устанавливать д...</td>\n",
              "      <td>0</td>\n",
              "    </tr>\n",
              "    <tr>\n",
              "      <th>3197</th>\n",
              "      <td>В Татарстане открыли завод по выпуску материнс...</td>\n",
              "      <td>0</td>\n",
              "    </tr>\n",
              "  </tbody>\n",
              "</table>\n",
              "<p>3198 rows × 2 columns</p>\n",
              "</div>\n",
              "    <div class=\"colab-df-buttons\">\n",
              "\n",
              "  <div class=\"colab-df-container\">\n",
              "    <button class=\"colab-df-convert\" onclick=\"convertToInteractive('df-6aa66572-087d-46a2-873a-c1f083bd4304')\"\n",
              "            title=\"Convert this dataframe to an interactive table.\"\n",
              "            style=\"display:none;\">\n",
              "\n",
              "  <svg xmlns=\"http://www.w3.org/2000/svg\" height=\"24px\" viewBox=\"0 -960 960 960\">\n",
              "    <path d=\"M120-120v-720h720v720H120Zm60-500h600v-160H180v160Zm220 220h160v-160H400v160Zm0 220h160v-160H400v160ZM180-400h160v-160H180v160Zm440 0h160v-160H620v160ZM180-180h160v-160H180v160Zm440 0h160v-160H620v160Z\"/>\n",
              "  </svg>\n",
              "    </button>\n",
              "\n",
              "  <style>\n",
              "    .colab-df-container {\n",
              "      display:flex;\n",
              "      gap: 12px;\n",
              "    }\n",
              "\n",
              "    .colab-df-convert {\n",
              "      background-color: #E8F0FE;\n",
              "      border: none;\n",
              "      border-radius: 50%;\n",
              "      cursor: pointer;\n",
              "      display: none;\n",
              "      fill: #1967D2;\n",
              "      height: 32px;\n",
              "      padding: 0 0 0 0;\n",
              "      width: 32px;\n",
              "    }\n",
              "\n",
              "    .colab-df-convert:hover {\n",
              "      background-color: #E2EBFA;\n",
              "      box-shadow: 0px 1px 2px rgba(60, 64, 67, 0.3), 0px 1px 3px 1px rgba(60, 64, 67, 0.15);\n",
              "      fill: #174EA6;\n",
              "    }\n",
              "\n",
              "    .colab-df-buttons div {\n",
              "      margin-bottom: 4px;\n",
              "    }\n",
              "\n",
              "    [theme=dark] .colab-df-convert {\n",
              "      background-color: #3B4455;\n",
              "      fill: #D2E3FC;\n",
              "    }\n",
              "\n",
              "    [theme=dark] .colab-df-convert:hover {\n",
              "      background-color: #434B5C;\n",
              "      box-shadow: 0px 1px 3px 1px rgba(0, 0, 0, 0.15);\n",
              "      filter: drop-shadow(0px 1px 2px rgba(0, 0, 0, 0.3));\n",
              "      fill: #FFFFFF;\n",
              "    }\n",
              "  </style>\n",
              "\n",
              "    <script>\n",
              "      const buttonEl =\n",
              "        document.querySelector('#df-6aa66572-087d-46a2-873a-c1f083bd4304 button.colab-df-convert');\n",
              "      buttonEl.style.display =\n",
              "        google.colab.kernel.accessAllowed ? 'block' : 'none';\n",
              "\n",
              "      async function convertToInteractive(key) {\n",
              "        const element = document.querySelector('#df-6aa66572-087d-46a2-873a-c1f083bd4304');\n",
              "        const dataTable =\n",
              "          await google.colab.kernel.invokeFunction('convertToInteractive',\n",
              "                                                    [key], {});\n",
              "        if (!dataTable) return;\n",
              "\n",
              "        const docLinkHtml = 'Like what you see? Visit the ' +\n",
              "          '<a target=\"_blank\" href=https://colab.research.google.com/notebooks/data_table.ipynb>data table notebook</a>'\n",
              "          + ' to learn more about interactive tables.';\n",
              "        element.innerHTML = '';\n",
              "        dataTable['output_type'] = 'display_data';\n",
              "        await google.colab.output.renderOutput(dataTable, element);\n",
              "        const docLink = document.createElement('div');\n",
              "        docLink.innerHTML = docLinkHtml;\n",
              "        element.appendChild(docLink);\n",
              "      }\n",
              "    </script>\n",
              "  </div>\n",
              "\n",
              "\n",
              "<div id=\"df-fe04411b-4f81-4d88-800a-7508cd333f2b\">\n",
              "  <button class=\"colab-df-quickchart\" onclick=\"quickchart('df-fe04411b-4f81-4d88-800a-7508cd333f2b')\"\n",
              "            title=\"Suggest charts\"\n",
              "            style=\"display:none;\">\n",
              "\n",
              "<svg xmlns=\"http://www.w3.org/2000/svg\" height=\"24px\"viewBox=\"0 0 24 24\"\n",
              "     width=\"24px\">\n",
              "    <g>\n",
              "        <path d=\"M19 3H5c-1.1 0-2 .9-2 2v14c0 1.1.9 2 2 2h14c1.1 0 2-.9 2-2V5c0-1.1-.9-2-2-2zM9 17H7v-7h2v7zm4 0h-2V7h2v10zm4 0h-2v-4h2v4z\"/>\n",
              "    </g>\n",
              "</svg>\n",
              "  </button>\n",
              "\n",
              "<style>\n",
              "  .colab-df-quickchart {\n",
              "      --bg-color: #E8F0FE;\n",
              "      --fill-color: #1967D2;\n",
              "      --hover-bg-color: #E2EBFA;\n",
              "      --hover-fill-color: #174EA6;\n",
              "      --disabled-fill-color: #AAA;\n",
              "      --disabled-bg-color: #DDD;\n",
              "  }\n",
              "\n",
              "  [theme=dark] .colab-df-quickchart {\n",
              "      --bg-color: #3B4455;\n",
              "      --fill-color: #D2E3FC;\n",
              "      --hover-bg-color: #434B5C;\n",
              "      --hover-fill-color: #FFFFFF;\n",
              "      --disabled-bg-color: #3B4455;\n",
              "      --disabled-fill-color: #666;\n",
              "  }\n",
              "\n",
              "  .colab-df-quickchart {\n",
              "    background-color: var(--bg-color);\n",
              "    border: none;\n",
              "    border-radius: 50%;\n",
              "    cursor: pointer;\n",
              "    display: none;\n",
              "    fill: var(--fill-color);\n",
              "    height: 32px;\n",
              "    padding: 0;\n",
              "    width: 32px;\n",
              "  }\n",
              "\n",
              "  .colab-df-quickchart:hover {\n",
              "    background-color: var(--hover-bg-color);\n",
              "    box-shadow: 0 1px 2px rgba(60, 64, 67, 0.3), 0 1px 3px 1px rgba(60, 64, 67, 0.15);\n",
              "    fill: var(--button-hover-fill-color);\n",
              "  }\n",
              "\n",
              "  .colab-df-quickchart-complete:disabled,\n",
              "  .colab-df-quickchart-complete:disabled:hover {\n",
              "    background-color: var(--disabled-bg-color);\n",
              "    fill: var(--disabled-fill-color);\n",
              "    box-shadow: none;\n",
              "  }\n",
              "\n",
              "  .colab-df-spinner {\n",
              "    border: 2px solid var(--fill-color);\n",
              "    border-color: transparent;\n",
              "    border-bottom-color: var(--fill-color);\n",
              "    animation:\n",
              "      spin 1s steps(1) infinite;\n",
              "  }\n",
              "\n",
              "  @keyframes spin {\n",
              "    0% {\n",
              "      border-color: transparent;\n",
              "      border-bottom-color: var(--fill-color);\n",
              "      border-left-color: var(--fill-color);\n",
              "    }\n",
              "    20% {\n",
              "      border-color: transparent;\n",
              "      border-left-color: var(--fill-color);\n",
              "      border-top-color: var(--fill-color);\n",
              "    }\n",
              "    30% {\n",
              "      border-color: transparent;\n",
              "      border-left-color: var(--fill-color);\n",
              "      border-top-color: var(--fill-color);\n",
              "      border-right-color: var(--fill-color);\n",
              "    }\n",
              "    40% {\n",
              "      border-color: transparent;\n",
              "      border-right-color: var(--fill-color);\n",
              "      border-top-color: var(--fill-color);\n",
              "    }\n",
              "    60% {\n",
              "      border-color: transparent;\n",
              "      border-right-color: var(--fill-color);\n",
              "    }\n",
              "    80% {\n",
              "      border-color: transparent;\n",
              "      border-right-color: var(--fill-color);\n",
              "      border-bottom-color: var(--fill-color);\n",
              "    }\n",
              "    90% {\n",
              "      border-color: transparent;\n",
              "      border-bottom-color: var(--fill-color);\n",
              "    }\n",
              "  }\n",
              "</style>\n",
              "\n",
              "  <script>\n",
              "    async function quickchart(key) {\n",
              "      const quickchartButtonEl =\n",
              "        document.querySelector('#' + key + ' button');\n",
              "      quickchartButtonEl.disabled = true;  // To prevent multiple clicks.\n",
              "      quickchartButtonEl.classList.add('colab-df-spinner');\n",
              "      try {\n",
              "        const charts = await google.colab.kernel.invokeFunction(\n",
              "            'suggestCharts', [key], {});\n",
              "      } catch (error) {\n",
              "        console.error('Error during call to suggestCharts:', error);\n",
              "      }\n",
              "      quickchartButtonEl.classList.remove('colab-df-spinner');\n",
              "      quickchartButtonEl.classList.add('colab-df-quickchart-complete');\n",
              "    }\n",
              "    (() => {\n",
              "      let quickchartButtonEl =\n",
              "        document.querySelector('#df-fe04411b-4f81-4d88-800a-7508cd333f2b button');\n",
              "      quickchartButtonEl.style.display =\n",
              "        google.colab.kernel.accessAllowed ? 'block' : 'none';\n",
              "    })();\n",
              "  </script>\n",
              "</div>\n",
              "    </div>\n",
              "  </div>\n"
            ],
            "application/vnd.google.colaboratory.intrinsic+json": {
              "type": "dataframe",
              "variable_name": "titles",
              "summary": "{\n  \"name\": \"titles\",\n  \"rows\": 3198,\n  \"fields\": [\n    {\n      \"column\": \"titles\",\n      \"properties\": {\n        \"dtype\": \"string\",\n        \"num_unique_values\": 3153,\n        \"samples\": [\n          \"\\u0427\\u0435\\u0440\\u043d\\u044b\\u0448\\u0435\\u043d\\u043a\\u043e \\u0440\\u0430\\u0441\\u0441\\u043a\\u0430\\u0437\\u0430\\u043b \\u043e \\u0433\\u043e\\u0441\\u043f\\u0440\\u043e\\u0433\\u0440\\u0430\\u043c\\u043c\\u0435 \\u043d\\u0430\\u0443\\u0447\\u043d\\u043e-\\u0442\\u0435\\u0445\\u043d\\u043e\\u043b\\u043e\\u0433\\u0438\\u0447\\u0435\\u0441\\u043a\\u043e\\u0433\\u043e \\u0440\\u0430\\u0437\\u0432\\u0438\\u0442\\u0438\\u044f \\u0420\\u043e\\u0441\\u0441\\u0438\\u0438\",\n          \"\\u0421 \\u043d\\u0438\\u043c \\u043f\\u043e\\u043a\\u043e\\u043d\\u0447\\u0435\\u043d\\u043e. \\u0412 \\u0421\\u0428\\u0410 \\u0440\\u0430\\u0441\\u043a\\u0440\\u044b\\u043b\\u0438 \\u0448\\u043e\\u043a\\u0438\\u0440\\u0443\\u044e\\u0449\\u0443\\u044e \\u0434\\u0435\\u0442\\u0430\\u043b\\u044c \\u043f\\u0440\\u043e \\u0417\\u0435\\u043b\\u0435\\u043d\\u0441\\u043a\\u043e\\u0433\\u043e\",\n          \"\\u0423\\u0447\\u0435\\u043d\\u044b\\u0435 \\u0441\\u043e\\u0437\\u0434\\u0430\\u043b\\u0438 \\u0434\\u043e\\u043b\\u0433\\u043e\\u0432\\u0435\\u0447\\u043d\\u043e\\u0435 \\u0438 \\u044d\\u043a\\u043e\\u043b\\u043e\\u0433\\u0438\\u0447\\u043d\\u043e\\u0435 \\u043f\\u043e\\u043a\\u0440\\u044b\\u0442\\u0438\\u0435 \\u0434\\u043b\\u044f \\u043a\\u0440\\u043e\\u0432\\u043b\\u0438\"\n        ],\n        \"semantic_type\": \"\",\n        \"description\": \"\"\n      }\n    },\n    {\n      \"column\": \"target\",\n      \"properties\": {\n        \"dtype\": \"number\",\n        \"std\": 0,\n        \"min\": 0,\n        \"max\": 1,\n        \"num_unique_values\": 2,\n        \"samples\": [\n          0,\n          1\n        ],\n        \"semantic_type\": \"\",\n        \"description\": \"\"\n      }\n    }\n  ]\n}"
            }
          },
          "metadata": {},
          "execution_count": 21
        }
      ],
      "source": [
        "titles"
      ]
    },
    {
      "cell_type": "markdown",
      "id": "bc20e1bc",
      "metadata": {
        "id": "bc20e1bc"
      },
      "source": [
        "Поделим выборку на обучающую и тестовую."
      ]
    },
    {
      "cell_type": "code",
      "execution_count": 22,
      "id": "042bebde",
      "metadata": {
        "id": "042bebde"
      },
      "outputs": [],
      "source": [
        "X_train, X_test, y_train, y_test = train_test_split(titles['titles'], titles['target'], test_size=0.2, random_state=42)"
      ]
    },
    {
      "cell_type": "markdown",
      "id": "52184036",
      "metadata": {
        "id": "52184036"
      },
      "source": [
        "Конечно, модели не могут просто так работать с обычным текстом. Необходимы какие-то преобразования. Все модели спокойно работают с числами, значит нужно превратить текст в числа. И тут есть два важных процесса: токенизация и векторизация.\n",
        "\n",
        "> Токенизация — процесс разбиения текстового документа на отдельные слова, которые называются токенами.\n",
        "\n",
        "> Векторизация – это термин, обозначающий классический подход к преобразованию входных данных из их исходного формата (например, текста) в векторы действительных чисел, которые понятны моделям машинного обучения.\n",
        "\n",
        "---\n",
        "Как мы применим это к нашим данным?\n",
        "\n",
        "Например, для определения кликбейта можно посчитать, как часто слова встречаются в заголовках. Скорее всего определенные слова могут сигнализировать нам о кликбейте.\n",
        "\n",
        "В этом нам может помочь `CountVectorizer`, который считает, сколько раз каждое слово встречается в определенной строке."
      ]
    },
    {
      "cell_type": "code",
      "execution_count": 23,
      "id": "36ce00bf",
      "metadata": {
        "id": "36ce00bf"
      },
      "outputs": [],
      "source": [
        "from sklearn.feature_extraction.text import CountVectorizer"
      ]
    },
    {
      "cell_type": "code",
      "execution_count": 24,
      "id": "729c85b4",
      "metadata": {
        "id": "729c85b4"
      },
      "outputs": [],
      "source": [
        "txt = ['мама мыла раму',\n",
        "      'мама чинила раму',\n",
        "      'мама мыла, мама чинила']"
      ]
    },
    {
      "cell_type": "code",
      "execution_count": 25,
      "id": "5f749cb9",
      "metadata": {
        "id": "5f749cb9"
      },
      "outputs": [],
      "source": [
        "vectorizer = CountVectorizer()\n",
        "txt = vectorizer.fit_transform(txt)"
      ]
    },
    {
      "cell_type": "code",
      "execution_count": 26,
      "id": "4b199904",
      "metadata": {
        "colab": {
          "base_uri": "https://localhost:8080/"
        },
        "id": "4b199904",
        "outputId": "0a39778a-19d7-4aad-9a71-08fe075719c5"
      },
      "outputs": [
        {
          "output_type": "execute_result",
          "data": {
            "text/plain": [
              "array([[1, 1, 1, 0],\n",
              "       [1, 0, 1, 1],\n",
              "       [2, 1, 0, 1]])"
            ]
          },
          "metadata": {},
          "execution_count": 26
        }
      ],
      "source": [
        "# результат\n",
        "txt.toarray()"
      ]
    },
    {
      "cell_type": "code",
      "execution_count": 27,
      "id": "fd2beb40",
      "metadata": {
        "colab": {
          "base_uri": "https://localhost:8080/"
        },
        "id": "fd2beb40",
        "outputId": "ae4209b5-9210-4b4e-9849-51d86eb97285"
      },
      "outputs": [
        {
          "output_type": "execute_result",
          "data": {
            "text/plain": [
              "array(['мама', 'мыла', 'раму', 'чинила'], dtype=object)"
            ]
          },
          "metadata": {},
          "execution_count": 27
        }
      ],
      "source": [
        "# словарь\n",
        "vectorizer.get_feature_names_out()"
      ]
    },
    {
      "cell_type": "markdown",
      "id": "43ec2267",
      "metadata": {
        "id": "43ec2267"
      },
      "source": [
        "Мы получаем таблицу, в которой каждый столбец соответствует слову из сформированного словаря, а строка - фразе из исходного корпуса (набора) текстов. Если взглянуть на таблицу и на словарь, видно, что на пересечении находится количество, сколько раз встречается определенное слово в определенном тексте.\n",
        "\n",
        "Словарь составляется автоматически в лексикографическом порядке.\n",
        "\n",
        "Уже здесь вы можете указать на значительное упущение, сделанное мной намеренно, и которое может создать сложности при дальнейшей работе. Об этом поговорим позже, а пока применим векторизатор к нашим даным."
      ]
    },
    {
      "cell_type": "code",
      "execution_count": 28,
      "id": "9756e2d0",
      "metadata": {
        "id": "9756e2d0"
      },
      "outputs": [],
      "source": [
        "vectorizer = CountVectorizer()\n",
        "X_train_vec = vectorizer.fit_transform(X_train)\n",
        "X_test_vec = vectorizer.transform(X_test)"
      ]
    },
    {
      "cell_type": "markdown",
      "id": "58a327d4",
      "metadata": {
        "id": "58a327d4"
      },
      "source": [
        "В библиотеке `sklearn` есть несколько моделей наивного байесса, мы возьмем полиномиальную, она хорошо работает как раз с данной векторизацией."
      ]
    },
    {
      "cell_type": "code",
      "execution_count": 29,
      "id": "aafcf854",
      "metadata": {
        "id": "aafcf854"
      },
      "outputs": [],
      "source": [
        "from sklearn.naive_bayes import MultinomialNB"
      ]
    },
    {
      "cell_type": "code",
      "execution_count": 30,
      "id": "f4b153bb",
      "metadata": {
        "colab": {
          "base_uri": "https://localhost:8080/",
          "height": 80
        },
        "id": "f4b153bb",
        "outputId": "ada8ce5f-2c5f-437d-cffe-3cb9a4a44450"
      },
      "outputs": [
        {
          "output_type": "execute_result",
          "data": {
            "text/plain": [
              "MultinomialNB()"
            ],
            "text/html": [
              "<style>#sk-container-id-1 {\n",
              "  /* Definition of color scheme common for light and dark mode */\n",
              "  --sklearn-color-text: #000;\n",
              "  --sklearn-color-text-muted: #666;\n",
              "  --sklearn-color-line: gray;\n",
              "  /* Definition of color scheme for unfitted estimators */\n",
              "  --sklearn-color-unfitted-level-0: #fff5e6;\n",
              "  --sklearn-color-unfitted-level-1: #f6e4d2;\n",
              "  --sklearn-color-unfitted-level-2: #ffe0b3;\n",
              "  --sklearn-color-unfitted-level-3: chocolate;\n",
              "  /* Definition of color scheme for fitted estimators */\n",
              "  --sklearn-color-fitted-level-0: #f0f8ff;\n",
              "  --sklearn-color-fitted-level-1: #d4ebff;\n",
              "  --sklearn-color-fitted-level-2: #b3dbfd;\n",
              "  --sklearn-color-fitted-level-3: cornflowerblue;\n",
              "\n",
              "  /* Specific color for light theme */\n",
              "  --sklearn-color-text-on-default-background: var(--sg-text-color, var(--theme-code-foreground, var(--jp-content-font-color1, black)));\n",
              "  --sklearn-color-background: var(--sg-background-color, var(--theme-background, var(--jp-layout-color0, white)));\n",
              "  --sklearn-color-border-box: var(--sg-text-color, var(--theme-code-foreground, var(--jp-content-font-color1, black)));\n",
              "  --sklearn-color-icon: #696969;\n",
              "\n",
              "  @media (prefers-color-scheme: dark) {\n",
              "    /* Redefinition of color scheme for dark theme */\n",
              "    --sklearn-color-text-on-default-background: var(--sg-text-color, var(--theme-code-foreground, var(--jp-content-font-color1, white)));\n",
              "    --sklearn-color-background: var(--sg-background-color, var(--theme-background, var(--jp-layout-color0, #111)));\n",
              "    --sklearn-color-border-box: var(--sg-text-color, var(--theme-code-foreground, var(--jp-content-font-color1, white)));\n",
              "    --sklearn-color-icon: #878787;\n",
              "  }\n",
              "}\n",
              "\n",
              "#sk-container-id-1 {\n",
              "  color: var(--sklearn-color-text);\n",
              "}\n",
              "\n",
              "#sk-container-id-1 pre {\n",
              "  padding: 0;\n",
              "}\n",
              "\n",
              "#sk-container-id-1 input.sk-hidden--visually {\n",
              "  border: 0;\n",
              "  clip: rect(1px 1px 1px 1px);\n",
              "  clip: rect(1px, 1px, 1px, 1px);\n",
              "  height: 1px;\n",
              "  margin: -1px;\n",
              "  overflow: hidden;\n",
              "  padding: 0;\n",
              "  position: absolute;\n",
              "  width: 1px;\n",
              "}\n",
              "\n",
              "#sk-container-id-1 div.sk-dashed-wrapped {\n",
              "  border: 1px dashed var(--sklearn-color-line);\n",
              "  margin: 0 0.4em 0.5em 0.4em;\n",
              "  box-sizing: border-box;\n",
              "  padding-bottom: 0.4em;\n",
              "  background-color: var(--sklearn-color-background);\n",
              "}\n",
              "\n",
              "#sk-container-id-1 div.sk-container {\n",
              "  /* jupyter's `normalize.less` sets `[hidden] { display: none; }`\n",
              "     but bootstrap.min.css set `[hidden] { display: none !important; }`\n",
              "     so we also need the `!important` here to be able to override the\n",
              "     default hidden behavior on the sphinx rendered scikit-learn.org.\n",
              "     See: https://github.com/scikit-learn/scikit-learn/issues/21755 */\n",
              "  display: inline-block !important;\n",
              "  position: relative;\n",
              "}\n",
              "\n",
              "#sk-container-id-1 div.sk-text-repr-fallback {\n",
              "  display: none;\n",
              "}\n",
              "\n",
              "div.sk-parallel-item,\n",
              "div.sk-serial,\n",
              "div.sk-item {\n",
              "  /* draw centered vertical line to link estimators */\n",
              "  background-image: linear-gradient(var(--sklearn-color-text-on-default-background), var(--sklearn-color-text-on-default-background));\n",
              "  background-size: 2px 100%;\n",
              "  background-repeat: no-repeat;\n",
              "  background-position: center center;\n",
              "}\n",
              "\n",
              "/* Parallel-specific style estimator block */\n",
              "\n",
              "#sk-container-id-1 div.sk-parallel-item::after {\n",
              "  content: \"\";\n",
              "  width: 100%;\n",
              "  border-bottom: 2px solid var(--sklearn-color-text-on-default-background);\n",
              "  flex-grow: 1;\n",
              "}\n",
              "\n",
              "#sk-container-id-1 div.sk-parallel {\n",
              "  display: flex;\n",
              "  align-items: stretch;\n",
              "  justify-content: center;\n",
              "  background-color: var(--sklearn-color-background);\n",
              "  position: relative;\n",
              "}\n",
              "\n",
              "#sk-container-id-1 div.sk-parallel-item {\n",
              "  display: flex;\n",
              "  flex-direction: column;\n",
              "}\n",
              "\n",
              "#sk-container-id-1 div.sk-parallel-item:first-child::after {\n",
              "  align-self: flex-end;\n",
              "  width: 50%;\n",
              "}\n",
              "\n",
              "#sk-container-id-1 div.sk-parallel-item:last-child::after {\n",
              "  align-self: flex-start;\n",
              "  width: 50%;\n",
              "}\n",
              "\n",
              "#sk-container-id-1 div.sk-parallel-item:only-child::after {\n",
              "  width: 0;\n",
              "}\n",
              "\n",
              "/* Serial-specific style estimator block */\n",
              "\n",
              "#sk-container-id-1 div.sk-serial {\n",
              "  display: flex;\n",
              "  flex-direction: column;\n",
              "  align-items: center;\n",
              "  background-color: var(--sklearn-color-background);\n",
              "  padding-right: 1em;\n",
              "  padding-left: 1em;\n",
              "}\n",
              "\n",
              "\n",
              "/* Toggleable style: style used for estimator/Pipeline/ColumnTransformer box that is\n",
              "clickable and can be expanded/collapsed.\n",
              "- Pipeline and ColumnTransformer use this feature and define the default style\n",
              "- Estimators will overwrite some part of the style using the `sk-estimator` class\n",
              "*/\n",
              "\n",
              "/* Pipeline and ColumnTransformer style (default) */\n",
              "\n",
              "#sk-container-id-1 div.sk-toggleable {\n",
              "  /* Default theme specific background. It is overwritten whether we have a\n",
              "  specific estimator or a Pipeline/ColumnTransformer */\n",
              "  background-color: var(--sklearn-color-background);\n",
              "}\n",
              "\n",
              "/* Toggleable label */\n",
              "#sk-container-id-1 label.sk-toggleable__label {\n",
              "  cursor: pointer;\n",
              "  display: flex;\n",
              "  width: 100%;\n",
              "  margin-bottom: 0;\n",
              "  padding: 0.5em;\n",
              "  box-sizing: border-box;\n",
              "  text-align: center;\n",
              "  align-items: start;\n",
              "  justify-content: space-between;\n",
              "  gap: 0.5em;\n",
              "}\n",
              "\n",
              "#sk-container-id-1 label.sk-toggleable__label .caption {\n",
              "  font-size: 0.6rem;\n",
              "  font-weight: lighter;\n",
              "  color: var(--sklearn-color-text-muted);\n",
              "}\n",
              "\n",
              "#sk-container-id-1 label.sk-toggleable__label-arrow:before {\n",
              "  /* Arrow on the left of the label */\n",
              "  content: \"▸\";\n",
              "  float: left;\n",
              "  margin-right: 0.25em;\n",
              "  color: var(--sklearn-color-icon);\n",
              "}\n",
              "\n",
              "#sk-container-id-1 label.sk-toggleable__label-arrow:hover:before {\n",
              "  color: var(--sklearn-color-text);\n",
              "}\n",
              "\n",
              "/* Toggleable content - dropdown */\n",
              "\n",
              "#sk-container-id-1 div.sk-toggleable__content {\n",
              "  max-height: 0;\n",
              "  max-width: 0;\n",
              "  overflow: hidden;\n",
              "  text-align: left;\n",
              "  /* unfitted */\n",
              "  background-color: var(--sklearn-color-unfitted-level-0);\n",
              "}\n",
              "\n",
              "#sk-container-id-1 div.sk-toggleable__content.fitted {\n",
              "  /* fitted */\n",
              "  background-color: var(--sklearn-color-fitted-level-0);\n",
              "}\n",
              "\n",
              "#sk-container-id-1 div.sk-toggleable__content pre {\n",
              "  margin: 0.2em;\n",
              "  border-radius: 0.25em;\n",
              "  color: var(--sklearn-color-text);\n",
              "  /* unfitted */\n",
              "  background-color: var(--sklearn-color-unfitted-level-0);\n",
              "}\n",
              "\n",
              "#sk-container-id-1 div.sk-toggleable__content.fitted pre {\n",
              "  /* unfitted */\n",
              "  background-color: var(--sklearn-color-fitted-level-0);\n",
              "}\n",
              "\n",
              "#sk-container-id-1 input.sk-toggleable__control:checked~div.sk-toggleable__content {\n",
              "  /* Expand drop-down */\n",
              "  max-height: 200px;\n",
              "  max-width: 100%;\n",
              "  overflow: auto;\n",
              "}\n",
              "\n",
              "#sk-container-id-1 input.sk-toggleable__control:checked~label.sk-toggleable__label-arrow:before {\n",
              "  content: \"▾\";\n",
              "}\n",
              "\n",
              "/* Pipeline/ColumnTransformer-specific style */\n",
              "\n",
              "#sk-container-id-1 div.sk-label input.sk-toggleable__control:checked~label.sk-toggleable__label {\n",
              "  color: var(--sklearn-color-text);\n",
              "  background-color: var(--sklearn-color-unfitted-level-2);\n",
              "}\n",
              "\n",
              "#sk-container-id-1 div.sk-label.fitted input.sk-toggleable__control:checked~label.sk-toggleable__label {\n",
              "  background-color: var(--sklearn-color-fitted-level-2);\n",
              "}\n",
              "\n",
              "/* Estimator-specific style */\n",
              "\n",
              "/* Colorize estimator box */\n",
              "#sk-container-id-1 div.sk-estimator input.sk-toggleable__control:checked~label.sk-toggleable__label {\n",
              "  /* unfitted */\n",
              "  background-color: var(--sklearn-color-unfitted-level-2);\n",
              "}\n",
              "\n",
              "#sk-container-id-1 div.sk-estimator.fitted input.sk-toggleable__control:checked~label.sk-toggleable__label {\n",
              "  /* fitted */\n",
              "  background-color: var(--sklearn-color-fitted-level-2);\n",
              "}\n",
              "\n",
              "#sk-container-id-1 div.sk-label label.sk-toggleable__label,\n",
              "#sk-container-id-1 div.sk-label label {\n",
              "  /* The background is the default theme color */\n",
              "  color: var(--sklearn-color-text-on-default-background);\n",
              "}\n",
              "\n",
              "/* On hover, darken the color of the background */\n",
              "#sk-container-id-1 div.sk-label:hover label.sk-toggleable__label {\n",
              "  color: var(--sklearn-color-text);\n",
              "  background-color: var(--sklearn-color-unfitted-level-2);\n",
              "}\n",
              "\n",
              "/* Label box, darken color on hover, fitted */\n",
              "#sk-container-id-1 div.sk-label.fitted:hover label.sk-toggleable__label.fitted {\n",
              "  color: var(--sklearn-color-text);\n",
              "  background-color: var(--sklearn-color-fitted-level-2);\n",
              "}\n",
              "\n",
              "/* Estimator label */\n",
              "\n",
              "#sk-container-id-1 div.sk-label label {\n",
              "  font-family: monospace;\n",
              "  font-weight: bold;\n",
              "  display: inline-block;\n",
              "  line-height: 1.2em;\n",
              "}\n",
              "\n",
              "#sk-container-id-1 div.sk-label-container {\n",
              "  text-align: center;\n",
              "}\n",
              "\n",
              "/* Estimator-specific */\n",
              "#sk-container-id-1 div.sk-estimator {\n",
              "  font-family: monospace;\n",
              "  border: 1px dotted var(--sklearn-color-border-box);\n",
              "  border-radius: 0.25em;\n",
              "  box-sizing: border-box;\n",
              "  margin-bottom: 0.5em;\n",
              "  /* unfitted */\n",
              "  background-color: var(--sklearn-color-unfitted-level-0);\n",
              "}\n",
              "\n",
              "#sk-container-id-1 div.sk-estimator.fitted {\n",
              "  /* fitted */\n",
              "  background-color: var(--sklearn-color-fitted-level-0);\n",
              "}\n",
              "\n",
              "/* on hover */\n",
              "#sk-container-id-1 div.sk-estimator:hover {\n",
              "  /* unfitted */\n",
              "  background-color: var(--sklearn-color-unfitted-level-2);\n",
              "}\n",
              "\n",
              "#sk-container-id-1 div.sk-estimator.fitted:hover {\n",
              "  /* fitted */\n",
              "  background-color: var(--sklearn-color-fitted-level-2);\n",
              "}\n",
              "\n",
              "/* Specification for estimator info (e.g. \"i\" and \"?\") */\n",
              "\n",
              "/* Common style for \"i\" and \"?\" */\n",
              "\n",
              ".sk-estimator-doc-link,\n",
              "a:link.sk-estimator-doc-link,\n",
              "a:visited.sk-estimator-doc-link {\n",
              "  float: right;\n",
              "  font-size: smaller;\n",
              "  line-height: 1em;\n",
              "  font-family: monospace;\n",
              "  background-color: var(--sklearn-color-background);\n",
              "  border-radius: 1em;\n",
              "  height: 1em;\n",
              "  width: 1em;\n",
              "  text-decoration: none !important;\n",
              "  margin-left: 0.5em;\n",
              "  text-align: center;\n",
              "  /* unfitted */\n",
              "  border: var(--sklearn-color-unfitted-level-1) 1pt solid;\n",
              "  color: var(--sklearn-color-unfitted-level-1);\n",
              "}\n",
              "\n",
              ".sk-estimator-doc-link.fitted,\n",
              "a:link.sk-estimator-doc-link.fitted,\n",
              "a:visited.sk-estimator-doc-link.fitted {\n",
              "  /* fitted */\n",
              "  border: var(--sklearn-color-fitted-level-1) 1pt solid;\n",
              "  color: var(--sklearn-color-fitted-level-1);\n",
              "}\n",
              "\n",
              "/* On hover */\n",
              "div.sk-estimator:hover .sk-estimator-doc-link:hover,\n",
              ".sk-estimator-doc-link:hover,\n",
              "div.sk-label-container:hover .sk-estimator-doc-link:hover,\n",
              ".sk-estimator-doc-link:hover {\n",
              "  /* unfitted */\n",
              "  background-color: var(--sklearn-color-unfitted-level-3);\n",
              "  color: var(--sklearn-color-background);\n",
              "  text-decoration: none;\n",
              "}\n",
              "\n",
              "div.sk-estimator.fitted:hover .sk-estimator-doc-link.fitted:hover,\n",
              ".sk-estimator-doc-link.fitted:hover,\n",
              "div.sk-label-container:hover .sk-estimator-doc-link.fitted:hover,\n",
              ".sk-estimator-doc-link.fitted:hover {\n",
              "  /* fitted */\n",
              "  background-color: var(--sklearn-color-fitted-level-3);\n",
              "  color: var(--sklearn-color-background);\n",
              "  text-decoration: none;\n",
              "}\n",
              "\n",
              "/* Span, style for the box shown on hovering the info icon */\n",
              ".sk-estimator-doc-link span {\n",
              "  display: none;\n",
              "  z-index: 9999;\n",
              "  position: relative;\n",
              "  font-weight: normal;\n",
              "  right: .2ex;\n",
              "  padding: .5ex;\n",
              "  margin: .5ex;\n",
              "  width: min-content;\n",
              "  min-width: 20ex;\n",
              "  max-width: 50ex;\n",
              "  color: var(--sklearn-color-text);\n",
              "  box-shadow: 2pt 2pt 4pt #999;\n",
              "  /* unfitted */\n",
              "  background: var(--sklearn-color-unfitted-level-0);\n",
              "  border: .5pt solid var(--sklearn-color-unfitted-level-3);\n",
              "}\n",
              "\n",
              ".sk-estimator-doc-link.fitted span {\n",
              "  /* fitted */\n",
              "  background: var(--sklearn-color-fitted-level-0);\n",
              "  border: var(--sklearn-color-fitted-level-3);\n",
              "}\n",
              "\n",
              ".sk-estimator-doc-link:hover span {\n",
              "  display: block;\n",
              "}\n",
              "\n",
              "/* \"?\"-specific style due to the `<a>` HTML tag */\n",
              "\n",
              "#sk-container-id-1 a.estimator_doc_link {\n",
              "  float: right;\n",
              "  font-size: 1rem;\n",
              "  line-height: 1em;\n",
              "  font-family: monospace;\n",
              "  background-color: var(--sklearn-color-background);\n",
              "  border-radius: 1rem;\n",
              "  height: 1rem;\n",
              "  width: 1rem;\n",
              "  text-decoration: none;\n",
              "  /* unfitted */\n",
              "  color: var(--sklearn-color-unfitted-level-1);\n",
              "  border: var(--sklearn-color-unfitted-level-1) 1pt solid;\n",
              "}\n",
              "\n",
              "#sk-container-id-1 a.estimator_doc_link.fitted {\n",
              "  /* fitted */\n",
              "  border: var(--sklearn-color-fitted-level-1) 1pt solid;\n",
              "  color: var(--sklearn-color-fitted-level-1);\n",
              "}\n",
              "\n",
              "/* On hover */\n",
              "#sk-container-id-1 a.estimator_doc_link:hover {\n",
              "  /* unfitted */\n",
              "  background-color: var(--sklearn-color-unfitted-level-3);\n",
              "  color: var(--sklearn-color-background);\n",
              "  text-decoration: none;\n",
              "}\n",
              "\n",
              "#sk-container-id-1 a.estimator_doc_link.fitted:hover {\n",
              "  /* fitted */\n",
              "  background-color: var(--sklearn-color-fitted-level-3);\n",
              "}\n",
              "</style><div id=\"sk-container-id-1\" class=\"sk-top-container\"><div class=\"sk-text-repr-fallback\"><pre>MultinomialNB()</pre><b>In a Jupyter environment, please rerun this cell to show the HTML representation or trust the notebook. <br />On GitHub, the HTML representation is unable to render, please try loading this page with nbviewer.org.</b></div><div class=\"sk-container\" hidden><div class=\"sk-item\"><div class=\"sk-estimator fitted sk-toggleable\"><input class=\"sk-toggleable__control sk-hidden--visually\" id=\"sk-estimator-id-1\" type=\"checkbox\" checked><label for=\"sk-estimator-id-1\" class=\"sk-toggleable__label fitted sk-toggleable__label-arrow\"><div><div>MultinomialNB</div></div><div><a class=\"sk-estimator-doc-link fitted\" rel=\"noreferrer\" target=\"_blank\" href=\"https://scikit-learn.org/1.6/modules/generated/sklearn.naive_bayes.MultinomialNB.html\">?<span>Documentation for MultinomialNB</span></a><span class=\"sk-estimator-doc-link fitted\">i<span>Fitted</span></span></div></label><div class=\"sk-toggleable__content fitted\"><pre>MultinomialNB()</pre></div> </div></div></div></div>"
            ]
          },
          "metadata": {},
          "execution_count": 30
        }
      ],
      "source": [
        "model = MultinomialNB()\n",
        "model.fit(X_train_vec, y_train)"
      ]
    },
    {
      "cell_type": "code",
      "execution_count": 31,
      "id": "d5d8617d",
      "metadata": {
        "colab": {
          "base_uri": "https://localhost:8080/",
          "height": 628
        },
        "id": "d5d8617d",
        "outputId": "e7261794-7735-4bb5-e5f6-85f88d6354a9"
      },
      "outputs": [
        {
          "output_type": "stream",
          "name": "stdout",
          "text": [
            "              precision    recall  f1-score   support\n",
            "\n",
            "           0       0.89      0.90      0.89       301\n",
            "           1       0.91      0.90      0.91       339\n",
            "\n",
            "    accuracy                           0.90       640\n",
            "   macro avg       0.90      0.90      0.90       640\n",
            "weighted avg       0.90      0.90      0.90       640\n",
            "\n"
          ]
        },
        {
          "output_type": "display_data",
          "data": {
            "text/plain": [
              "<Figure size 640x480 with 2 Axes>"
            ],
            "image/png": "[encoded data removed]"
          },
          "metadata": {}
        }
      ],
      "source": [
        "y_pred = model.predict(X_test_vec)\n",
        "metrics(y_test, y_pred)"
      ]
    },
    {
      "cell_type": "markdown",
      "id": "52c48f43",
      "metadata": {
        "id": "52c48f43"
      },
      "source": [
        "Не самые плохие результаты.\n",
        "\n",
        "Но можно ли улучшить показатели модели? И за счет чего?\n",
        "\n",
        "---\n",
        "`CountVectorizer` будет создавать выбросы для слишком асто встречающихся слов, из-за чего будут занижаться значения для некоторых важных слов. Чтобы этого избежать, попробуем использовать другой векторизатор, TF-IDF.\n",
        "\n",
        "> Термины \"TF\" (Term Frequency) и \"IDF\" (Inverse Document Frequency).\n",
        ">\n",
        "> TF (Частота термина) обозначает, насколько часто определенное слово появляется в данном документе. Таким образом, TF измеряет важность слова в контексте отдельного документа.\n",
        ">\n",
        "> IDF (Обратная частота документа) измеряет, насколько уникально слово является по всей коллекции документов. Слова, которые появляются в большинстве документов, имеют низкое IDF, так как они не вносят большой информационной ценности.\n",
        "\n",
        "Формула TF-IDF комбинирует понятия TF и IDF, чтобы вычислить важность каждого слова в каждом документе. Формально, формула выглядит следующим образом:\n",
        "\n",
        "> **TF-IDF(t, d) = TF(t, d) * IDF(t)**\n",
        "\n",
        "Где:\n",
        "\n",
        "TF(t, d) - Частота термина (TF) для слова \"t\" в документе \"d\".\n",
        "\n",
        "IDF(t) - Обратная частота документа (IDF) для слова \"t\"."
      ]
    },
    {
      "cell_type": "code",
      "execution_count": 32,
      "id": "e06b3596",
      "metadata": {
        "id": "e06b3596"
      },
      "outputs": [],
      "source": [
        "from sklearn.feature_extraction.text import TfidfVectorizer"
      ]
    },
    {
      "cell_type": "markdown",
      "id": "59e40bb2",
      "metadata": {
        "id": "59e40bb2"
      },
      "source": [
        "Как выглядит таблица и словарь? Напишите код, чтобы посмотреть."
      ]
    },
    {
      "cell_type": "code",
      "execution_count": 33,
      "id": "311000d1",
      "metadata": {
        "id": "311000d1"
      },
      "outputs": [],
      "source": [
        "# Корпус текстов можете заменить по желанию\n",
        "txt = ['мама мыла раму',\n",
        "      'мама чинила раму',\n",
        "      'мама мыла, мама чинила']"
      ]
    },
    {
      "cell_type": "code",
      "execution_count": 34,
      "id": "81a0d2b2",
      "metadata": {
        "colab": {
          "base_uri": "https://localhost:8080/"
        },
        "id": "81a0d2b2",
        "outputId": "c94d31ce-ce22-4112-e1d7-d0408329b0a1"
      },
      "outputs": [
        {
          "output_type": "stream",
          "name": "stdout",
          "text": [
            "Таблица TF-IDF:\n",
            "[[0.48133417 0.61980538 0.61980538 0.        ]\n",
            " [0.48133417 0.         0.61980538 0.61980538]\n",
            " [0.73941068 0.47606294 0.         0.47606294]]\n",
            "\n",
            "Словарь:\n",
            "['мама' 'мыла' 'раму' 'чинила']\n"
          ]
        }
      ],
      "source": [
        "# Создаем корпус текстов\n",
        "txt = ['мама мыла раму',\n",
        "      'мама чинила раму',\n",
        "      'мама мыла, мама чинила']\n",
        "\n",
        "# Инициализируем TfidfVectorizer\n",
        "tfidf_vectorizer = TfidfVectorizer()\n",
        "\n",
        "# Применяем векторизацию к текстам\n",
        "txt_tfidf = tfidf_vectorizer.fit_transform(txt)\n",
        "\n",
        "# Преобразуем результат в массив\n",
        "txt_tfidf_array = txt_tfidf.toarray()\n",
        "\n",
        "# Получаем словарь\n",
        "feature_names = tfidf_vectorizer.get_feature_names_out()\n",
        "\n",
        "# Выводим таблицу и словарь\n",
        "print(\"Таблица TF-IDF:\")\n",
        "print(txt_tfidf_array)\n",
        "\n",
        "print(\"\\nСловарь:\")\n",
        "print(feature_names)"
      ]
    },
    {
      "cell_type": "markdown",
      "id": "5ed24a5f",
      "metadata": {
        "id": "5ed24a5f"
      },
      "source": [
        "А теперь можно обучить модель с использованием данного векторизатора."
      ]
    },
    {
      "cell_type": "code",
      "execution_count": 35,
      "id": "8eb4f94a",
      "metadata": {
        "id": "8eb4f94a"
      },
      "outputs": [],
      "source": [
        "tfidf_vectorizer = TfidfVectorizer()\n",
        "X_train_tfidf = tfidf_vectorizer.fit_transform(X_train)\n",
        "X_test_tfidf = tfidf_vectorizer.transform(X_test)"
      ]
    },
    {
      "cell_type": "code",
      "execution_count": 36,
      "id": "8e14157d",
      "metadata": {
        "colab": {
          "base_uri": "https://localhost:8080/",
          "height": 628
        },
        "id": "8e14157d",
        "outputId": "514ff2cc-470a-4aab-bbd0-dd1337e6990b"
      },
      "outputs": [
        {
          "output_type": "stream",
          "name": "stdout",
          "text": [
            "              precision    recall  f1-score   support\n",
            "\n",
            "           0       0.90      0.90      0.90       301\n",
            "           1       0.91      0.91      0.91       339\n",
            "\n",
            "    accuracy                           0.90       640\n",
            "   macro avg       0.90      0.90      0.90       640\n",
            "weighted avg       0.90      0.90      0.90       640\n",
            "\n"
          ]
        },
        {
          "output_type": "display_data",
          "data": {
            "text/plain": [
              "<Figure size 640x480 with 2 Axes>"
            ],
            "image/png": "[encoded data removed]"
          },
          "metadata": {}
        }
      ],
      "source": [
        "model = MultinomialNB()\n",
        "model.fit(X_train_tfidf, y_train)\n",
        "y_pred = model.predict(X_test_tfidf)\n",
        "metrics(y_test, y_pred)"
      ]
    },
    {
      "cell_type": "markdown",
      "id": "9c6357e9",
      "metadata": {
        "id": "9c6357e9"
      },
      "source": [
        "Изменения незначительны. На самом деле это связано с устройством самой модели. Даже в документации вы можете прочитать, что модель работает с дискретными целыми значениями. А TF-IDF, как мы видели, дробный. Однако, отметим, что всё равно модель успешно справилась.\n",
        "\n",
        "---\n",
        "Что ещё мы можем сделать?\n",
        "\n",
        "Конечно, мы пропустили первый и важный этап обработки текста. Токенизация. Нам нужно превратить сплошной текст в набор токенов. Да, если разбитьь текст по пробелу, это тоже токены, однако, у нас в текстах могут встречаться числа и символы (иногда они нужны, но зачастую нет), а также одно и то же слово может быть представлено в различных словоформах (приставки, суффиксы, окончания). Со всем этим нужно работать.\n",
        "\n",
        "Для борьбы со словоформами можно использовать два разных алгоритма:\n",
        "\n",
        "> Лемматиза́ция — процесс приведения словоформы к лемме — её нормальной (словарной) форме.\n",
        "\n",
        "> Сте́мминг (англ. stemming — находить происхождение) — это процесс нахождения основы слова для заданного исходного слова.\n",
        "\n",
        "Мы используем лемматизацию, для этого подгрузим библиотеку `pymystem3`, разработанную в Яндекс."
      ]
    },
    {
      "cell_type": "code",
      "execution_count": 37,
      "id": "3bdbda01",
      "metadata": {
        "id": "3bdbda01"
      },
      "outputs": [],
      "source": [
        "from pymystem3 import Mystem\n",
        "import re\n",
        "import nltk\n",
        "from nltk.corpus import stopwords"
      ]
    },
    {
      "cell_type": "markdown",
      "id": "23c74ec7",
      "metadata": {
        "id": "23c74ec7"
      },
      "source": [
        "Мы создадим лемматизатор, а также загрузим список стоп-слов. Это такие слова, которые обычно не несут никакой смысловой нагрузки (союзы, предлоги, etc.)."
      ]
    },
    {
      "cell_type": "code",
      "execution_count": 38,
      "id": "77a16607",
      "metadata": {
        "colab": {
          "base_uri": "https://localhost:8080/"
        },
        "id": "77a16607",
        "outputId": "d613f6f8-c0a5-4dfa-9c00-f2bdf39df088"
      },
      "outputs": [
        {
          "output_type": "stream",
          "name": "stderr",
          "text": [
            "Installing mystem to /root/.local/bin/mystem from http://download.cdn.yandex.net/mystem/mystem-3.1-linux-64bit.tar.gz\n",
            "[nltk_data] Downloading package stopwords to /root/nltk_data...\n",
            "[nltk_data]   Unzipping corpora/stopwords.zip.\n"
          ]
        }
      ],
      "source": [
        "m = Mystem()\n",
        "nltk.download('stopwords')\n",
        "stop_words = list(stopwords.words('russian'))"
      ]
    },
    {
      "cell_type": "markdown",
      "id": "b6ca422a",
      "metadata": {
        "id": "b6ca422a"
      },
      "source": [
        "Вот что получается при работе лемматизатора:"
      ]
    },
    {
      "cell_type": "code",
      "execution_count": 39,
      "id": "eccb5a84",
      "metadata": {
        "colab": {
          "base_uri": "https://localhost:8080/"
        },
        "id": "eccb5a84",
        "outputId": "3d8602e3-459e-4285-9220-e1df7ee1ee1e"
      },
      "outputs": [
        {
          "output_type": "execute_result",
          "data": {
            "text/plain": [
              "['интересный', ' ', 'текст', ' ', 'много', ' ', 'не', ' ', 'бывать', '\\n']"
            ]
          },
          "metadata": {},
          "execution_count": 39
        }
      ],
      "source": [
        "m.lemmatize('Интересного текста много не бывает')"
      ]
    },
    {
      "cell_type": "markdown",
      "id": "7db7cdae",
      "metadata": {
        "id": "7db7cdae"
      },
      "source": [
        "Также накинем регулярные выражения, чтоы оставить в каждом тексте только русские буквы. И лемматизируем полученные тексты."
      ]
    },
    {
      "cell_type": "code",
      "execution_count": 40,
      "id": "7a7e8772",
      "metadata": {
        "id": "7a7e8772"
      },
      "outputs": [],
      "source": [
        "train_ru = [\" \".join(re.sub(r'[^а-яА-ЯёЁ]', ' ', text).split()) for text in X_train.values.astype('U')]\n",
        "train_full = ' br '.join(train_ru)\n",
        "train_lem = (''.join([word for word in m.lemmatize(train_full) if word != '\\n'])).split(' br ')\n",
        "\n",
        "test_ru = [\" \".join(re.sub(r'[^а-яА-ЯёЁ]', ' ', text).split()) for text in X_test.values.astype('U')]\n",
        "test_full = ' br '.join(test_ru)\n",
        "test_lem = (''.join([word for word in m.lemmatize(test_full) if word != '\\n'])).split(' br ')"
      ]
    },
    {
      "cell_type": "code",
      "execution_count": 41,
      "id": "1cef8dd9",
      "metadata": {
        "colab": {
          "base_uri": "https://localhost:8080/"
        },
        "id": "1cef8dd9",
        "outputId": "cfa60d07-6e3d-44e3-8a77-46a004178f26"
      },
      "outputs": [
        {
          "output_type": "execute_result",
          "data": {
            "text/plain": [
              "['шиитский вооруженный формирование обстреливать американский база в ирак',\n",
              " 'погибший военкор журавлев отмечать литературный премия',\n",
              " 'кто пересчитывать пенсия с ноябрь на индексация мочь рассчитывать несколько категория',\n",
              " 'вылетать через окно страшный гибель жена известный блогер',\n",
              " 'депутат ямпольская выражать соболезнование в связь со смерть гладков',\n",
              " 'чтобы сближаться с мужчина просто задавать он этот вопрос',\n",
              " 'за место в очередь для покупка билет на щелкунчик просить тысяча рубль',\n",
              " 'музей восток на выставка россия представлять много сто экспонат',\n",
              " 'в россия представлять отечественный мусоровоз гибрид',\n",
              " 'путин поручать разрабатывать программа развитие электроэнергетика в дфо',\n",
              " 'заявление захарова о мус прогреметь на весь мир',\n",
              " 'ответ знать единица как часто нужно менять губка для мытье посуда',\n",
              " 'в ран сделать заявление о таинственный инопланетный сигнал',\n",
              " 'невероятный заявление диетолог мочь ли простой колбаса вызывать онкология',\n",
              " 'умирать писательница нина садур',\n",
              " 'музей блокада ленинград хотеть развивать до всероссийский уровень',\n",
              " 'бояться мы что отравлять жизнь билан с самый детство',\n",
              " 'ученый создавать сахарный межзвездный лед на земля',\n",
              " 'по рубль быть доплачивать каждый месяц пенсионер обрадовать хороший новость',\n",
              " 'путин начинать награждение представитель избирком в новый огаревый',\n",
              " 'безотцовщина почему муслим магомаев вырастать не в родной семья',\n",
              " 'правило для привлечение богатство где в дом нужно хранить денежный сбережение',\n",
              " 'содрогаться якубович становиться напоминать раздуваться старичок',\n",
              " 'в иркутск начинать проверка из за нападение стая собака на школьница',\n",
              " 'в россия создавать тугоплавкий керамика с применение кожура помести',\n",
              " 'больше не одинокий пахмутов недолго горевать после смерть добронравов',\n",
              " 'самый полезный ягода для пожилой она творить чудо с мозг даже при признак деменция',\n",
              " 'путин одобрять идея врио глава ФТС об усиление ответственность за нарушение',\n",
              " 'примадонна не узнавать сосед пугачева рассказывать о состояние артистка',\n",
              " 'мид китай заявлять о план байден и си цзиньпина для развитие отношение',\n",
              " 'европейский кидаловый так поступать с киев',\n",
              " 'тоже надо кушать на что пойти уезжать чулпан хаматов',\n",
              " 'песков анонсировать публичный встреча путин в новый огаревый',\n",
              " 'лидер турецкий партия родина рассказывать чем грозить членство швеция в нато',\n",
              " 'госдума прекращать полномочие депутат белоусов и власов',\n",
              " 'россиянин решать выплачивать по рубль от ПФР в ноябрь называть дата приход деньги на карта',\n",
              " 'как стакан теплый вода натощак помогать организм мало кто об это знать',\n",
              " 'указ подписывать пенсионер назначать выплата в размер рубль с ноябрь',\n",
              " 'у зеленский истерик сша выбирать виновный в поражение на украина',\n",
              " 'пять продукт который нельзя держать в холодильник срочно доставать они',\n",
              " 'песков прокомментировать заметка об инициативный группа по выдвижение путин',\n",
              " 'отказываться от он пока не поздно называть самый вредный продукт для печень',\n",
              " 'в ресторан это продавать втридорога повторять под сила все',\n",
              " 'в япония отвечать на слово о желание создавать новый экономический порядок',\n",
              " 'с национальный акцент как ковер превращать в модный одежда',\n",
              " 'где нужно поставлять зеркало чтобы привлекать в дом счастие и богатство',\n",
              " 'в калининградский область прокомментировать штраф за склонение к аборт',\n",
              " 'путин проводить встреча с главый вологодский область и георгий филимонов',\n",
              " 'двое польский наемник ранить в донбасс сообщать сми',\n",
              " 'этот стюардесса из рф выходить в финал международный конкурс фото',\n",
              " 'весть о происходить с сын кадыров вмиг облетать планета',\n",
              " 'король то голый как филипп киркоров по ухо погрязать в долг',\n",
              " 'запад запрашивать заседание СБ оон по гуманитарный ситуация на украина',\n",
              " 'указ вступать в сила пенсионер у который быть стаж год ожидать сюрприз от СФР',\n",
              " 'путин и мирзиеев принимать программа культурный сотрудничество',\n",
              " 'новый пророк этот шутка задорнов сбываться',\n",
              " 'как хитрить боевик всу попадать в плен к россиянин',\n",
              " 'голова дроид из звездный война выставлять на торги',\n",
              " 'о чем анатолий трушкин попросить клара новиков перед смерть',\n",
              " 'как сейчас выглядеть танцор диско чакраборть его не узнавать',\n",
              " 'в индия рассказывать когда планировать отправлять астронавт на луна',\n",
              " 'не рад и там с опальный наргиз случаться несчастие за граница',\n",
              " 'в дтп в россия погибать жена популярный блогер',\n",
              " 'в сша находить странный деталь в поведение блинкен на встреча с си цзиньпин',\n",
              " 'от давление для сердце и сосуд кто полезно есть тыква а кто овощ мочь только навредить',\n",
              " 'поэтому и вернуться друг пугачева рассказывать зачем певица вновь приезжать в россия',\n",
              " 'ингушетия отправлять тонна гуманитарный помощь житель запорожский область',\n",
              " 'конкурс стенин сво и олимпиада в объектив победитель',\n",
              " 'швыдкой предлагать создавать комиссия по регулирование ия',\n",
              " 'сложно выздоравливать ученый обнаруживать необычный последствие орвь',\n",
              " 'не пресняков кто на самый дело быть первый муж орбакайте',\n",
              " 'для что на самый дело нужный закрывать крышка унитаз факт о который вы не знать',\n",
              " 'очень хитрый схема как мошенник отнимать деньги у пенсионер',\n",
              " 'летний загитова показывать себя в полупрозрачный платье фото',\n",
              " 'госдума повышать выплата военный и неработающий пенсионер',\n",
              " 'каждый пожилой человек должный делать это чтоб избегать многий болезнь',\n",
              " 'байден предостерегать си цзиньпина от вмешательство в выборы в сша',\n",
              " 'теперь мочь заменять сценарист заявлять эксперт',\n",
              " 'сколько литр вода нужно выпивать человек в день доктор гинзбург давать честный ответ',\n",
              " 'песков не давать прямой ответ на вопрос о выдвижение путин в президент',\n",
              " 'теперь все и работать и неработающий пенсионер обрадовать новый льгота с ноябрь',\n",
              " 'ученый опровергать гипотеза о седьмой затонуть континент зеландия',\n",
              " 'алла это придумывать галкин проговариваться что жить с вайкуле',\n",
              " 'серьезный опасность здоровье диетолог объяснять при какой заболевание нельзя питаться яблоко',\n",
              " 'вне зависимость от уровень доход пенсионер ждать рекордный индексация выплата',\n",
              " 'рекордный содержание ртуть этот рыба наиболее опасный для ваш здоровье',\n",
              " 'подоляк больше не скрывать что происходить в авдеевка',\n",
              " 'осиротеть при живой отец отказываться от свидание с дочка по один причина',\n",
              " 'в сочи открываться выставка посвящать режиссер леонид гайдай',\n",
              " 'подвиг изменять ход история как казак помогать побеждать наполеон',\n",
              " 'израиль заявлять о перенос боевой действие на юг сектор газа',\n",
              " 'путин поручать передавать республика крым весь акция крымэнерго',\n",
              " 'известный актриса и модель умирать в год',\n",
              " 'алла пугачева приезжать в москва эксклюзивный кадр',\n",
              " 'баррель нефть подешеветь до доллар',\n",
              " 'как я умирать и воскресать история человек побывать на тот сторона',\n",
              " 'внук шарль де голль заявлять о дискриминация российский культура на запад',\n",
              " 'маша уже нет по рф прокатиться горький весть о распутина',\n",
              " 'рэц запускать образовательный программа для глава центр поддержка экспорт',\n",
              " 'спектакль по человек амфибия представлять в театр на малый ордынка',\n",
              " 'погибать много американский наемник раскрывать неприятный правда о всу',\n",
              " 'в россия всегда добиваться результат заявлять путин',\n",
              " 'что в израиль сделать с посол россия',\n",
              " 'с хамас обсуждать освобождение заложник и прекращение огонь писать сми',\n",
              " 'в милан задерживать экоактивист испортить краска арка мир',\n",
              " 'для что горничная оставлять соль на порог точно не от нечисть хитрость в другой',\n",
              " 'вот как жарить капуста хитрый немка просто запоминать этот трюк',\n",
              " 'учитель год рассказывать с что начинать знакомство ребенок с литература',\n",
              " 'указ уже действовать российский гражданин зачислять по рубль до конец октябрь',\n",
              " 'вот почему летний понаровский никогда не толстеть',\n",
              " 'имя выбирать весь страна а теперь прятать странный факт о тайный сын малахов',\n",
              " 'депутат новиков сша много не намерен поддерживать украина',\n",
              " 'умирать актриса из улица разбивать фонарь и мажор',\n",
              " 'так быть хорошо для весь семья пресняков сделать заявление об эмиграция',\n",
              " 'никогда не варить так макароны слипаться в италия называть главный ошибка приготовление',\n",
              " 'путин в понедельник встречаться с глава минкультуры любимова',\n",
              " 'сми арестович раскрывать весь правда о конфликт зеленский с всу',\n",
              " 'какой продукт можно быть при повышенный холестерин полный список от врач',\n",
              " 'путин выступать с обращение к россиянин',\n",
              " 'федор бондарчук рассказывать как снимать фильм о конюхов',\n",
              " 'предпраздничный бонус пенсионер давать от до рубль до новый год',\n",
              " 'внучка масляков вызывать отвращение у россиянин фото',\n",
              " 'минцифра сообщать о возможный снижение интерес к чтение в россия',\n",
              " 'неприкрытый страх в мокнуть высказываться в отношение россия',\n",
              " 'сми цена на грузоперевозка из польша на украина вырастать в четыре раз',\n",
              " 'израиль заявлять что наносить удар по военный пост в ливан',\n",
              " 'российский ученый разрабатывать новый высокотемпературный покрытие',\n",
              " 'в москва пожаловаться на организация продажа билет на щелкунчик',\n",
              " 'серьезный проблема налицо в сеть обсуждать психический заболевание пугачева',\n",
              " 'аналог нет в россия создавать самый совершенный синхротрон',\n",
              " 'опрос большой часть американец не одобрять политика байден по израиль',\n",
              " 'умирать актер сергей гладков известный по роль в каламбур',\n",
              " 'экстренный заявление минобороны по сво объявлять на весь страна',\n",
              " 'третий лишний этот человек разрушать брак киркоров и пугачева',\n",
              " 'ученый придумывать способ получение катализатор для переработка газ в спирт',\n",
              " 'в россия находить способ подавление эффект кофейный кольцо',\n",
              " 'в крым называть сценарий заморозок конфликт на украина неприемлемый',\n",
              " 'до кипр не долетать пугачева переставать выходить на связь даже с близкий',\n",
              " 'закинуть лавровый лист в машинка при стирка химия больше не понадобиться',\n",
              " 'воз потерять связь с сотрудник больница аш шифа в газ',\n",
              " 'бюджет СГ на год сформировывать с профицит около миллиард рубль',\n",
              " 'в госдума направлять урина вопрос о ситуация с билет на щелкунчик',\n",
              " 'центральный телеграф накануне столетие обретать второй жизнь',\n",
              " 'совфед одобрять поправка в закон о выборы президент',\n",
              " 'в кремль своевременно сообщать о возможный встреча путин и лукашенко',\n",
              " 'неизлечимый больной внук пугачева попадать в беда',\n",
              " 'украина сходить с ум кто мочь пополнять ряд всу',\n",
              " 'их тьма солдат всу передавать тайный послание после слово залужный о россия',\n",
              " 'кубань отправлять почти три тысяча набор для младенец в новый регион',\n",
              " 'почему не стоить пить вода перед сон о вред знать единица',\n",
              " 'точно не армянин кто по национальность актер ефим копелян',\n",
              " 'огонек вот кто увидеть зритель',\n",
              " 'выставка африка любовь с первый взгляд',\n",
              " 'лауреат литературный премия ясный поляна становиться саша николаенко',\n",
              " 'песков отвечать на вопрос о возможный агломерация тюмень с екатеринбург',\n",
              " 'только так нужно питаться в пожилой возраст от некоторый продукт стоять отказываться',\n",
              " 'роскосмос поздравлять индийский коллега с успешный посадка аппарат на луна',\n",
              " 'в киев и несколько область украина объявлять воздушный тревога',\n",
              " 'путин давать оценка экономический ситуация в россия',\n",
              " 'источник ГД обсуждать проект о пенсия неработающий пенсионер во чтение',\n",
              " 'а вы знать у кто орбакайте отбивать муж',\n",
              " 'о случаться с боярский сообщать народ',\n",
              " 'надеждин рассказывать от какой партия пойти на президентский выборы',\n",
              " 'женщина с этот особенность ждать пожизненный одиночество',\n",
              " 'ужасный последствие который ждать вы после употребление в пища баклажан',\n",
              " 'путин обсуждать с правительство мера по борьба с онкозаболевание',\n",
              " 'минэкономразвития улучшать оценка рост ввп россия',\n",
              " 'почему в школа ссср запрещать носить сережка вы удивляться узнавать правда',\n",
              " 'экс полицейский из москва получать год колония за взятка',\n",
              " 'режиссер александр митта вызывать скорый из за повышение температура',\n",
              " 'умирать один из основатель группа алиса андрей шаталин',\n",
              " 'байден и си цзиньпина прогуливаться после переговоры',\n",
              " 'тысяча рубль в час вот на чем делать ошеломительный деньги навка',\n",
              " 'президент израиль обвинять хамас в отсутствие информация о пленный',\n",
              " 'пенсия неработающий пенсионер в год хотеть проиндексировать на',\n",
              " 'как легко отмывать окно и зеркало без развод никакой газета и уксус',\n",
              " 'курс доллар на московский биржа упасть до рубль',\n",
              " 'что услышать боец вс рф от умирать главарь украинский ДРГ',\n",
              " 'неблагоприятный вариант в польша раскрывать на что приходиться пойти украина',\n",
              " 'восстанавливать печень и предотвращать развитие раковый заболевание напиток который укреплять здоровье',\n",
              " 'решение принимать пенсионер находиться в брак выплачивать по рубль',\n",
              " 'почему в магазин низкий цена посуда продавать за копейка каждый должный знать правда',\n",
              " 'мус не смочь уклоняться от иск турция против нетаньяху считать эксперт',\n",
              " 'неприятный правда что творить муж немоляева на съемка',\n",
              " 'мишустин давать старт движение по новый участок дорога в несколько регион',\n",
              " 'япония в октябрь наращивать импорт овощ из россия',\n",
              " 'герцог заявлять что израиль не мочь оставлять вакуум в сектор газа',\n",
              " 'озвучивать официально россиянин рождаться после год предупреждать насчет пенсия',\n",
              " 'оставлять родной в мексика россиянка получать поддержка заявлять сенатор',\n",
              " 'одесса освобождать в сша испугаться маневр россия на украина',\n",
              " 'каждый получать по рубль до ноябрь деньги прийти на карта мир',\n",
              " 'ЕК объяснять как ситуация на украина и ближний восток мочь ударять по ес',\n",
              " 'на украина оценивать ущерб от удар польша и ужасаться',\n",
              " 'вот как выглядеть краса россия год фото',\n",
              " 'одкб не обозначать зона свой ответственность в армения заявлять пашинян',\n",
              " 'реальный доказательство существование жизнь после смерть',\n",
              " 'жить внутри мы ученый опровергать главный миф о микробиом человек',\n",
              " 'сми зеленский мочь уступать пост президент новый политик',\n",
              " 'заявлять об эмиграция галкин и пугачева в сша бежать туда где деньги',\n",
              " 'трепов сказать в суд лишь один фраза резонансный заявление',\n",
              " 'песков прокомментировать публикация об имитация возврат валютный выручка',\n",
              " 'картофель лист салат и еще несколько продукт который приводить к образование тромбоз',\n",
              " 'пенсионер решать поддерживать гражданин ждать небольшой но приятный бонус',\n",
              " 'цб отменять рекомендация банк приостанавливать выселение должник',\n",
              " 'натирать это зеркало автомобиль и они не быть запотевать народный метод и никакой химия',\n",
              " 'ес предлагать вводить ограничение против российский физлиц и организация',\n",
              " 'мид кнр раскрывать подробность четырехчасовой встреча байден и си цзиньпина',\n",
              " 'курс доллар снижаться до рубль',\n",
              " 'выход на углеродный нейтральность становиться цель климатический политика россия',\n",
              " 'в кремль полагать что путин не увидеться с назарбаев в этот визит',\n",
              " 'не россия и не кипр новый местонахождение пугачева мочь удивлять любой',\n",
              " 'армия израиль продолжать операция против хамас в больница аш шифа в газ',\n",
              " 'в италия называть попытка запрещать культурный связь с россия акт насилие',\n",
              " 'киев потерять более военный на запорожский направление',\n",
              " 'анна кикин высказываться об участие в возможный продолжение фильм вызов',\n",
              " 'в польша медведь нападывать на экологический активист',\n",
              " 'на кубань запускать пять импортозамещающий промышленный производство',\n",
              " 'певица кристина дурис умирать в год',\n",
              " 'повсюду военный база нато в сша раскрывать что запад готовить на украина',\n",
              " 'в россия появляться новый элита писать сми',\n",
              " 'убивать весь пехота всу о твориться под клещеевка извещать мир',\n",
              " 'украинский беженец попросить у американец чересчур дорогой подарок',\n",
              " 'путин заявлять что процент памятник находиться в плохой состояние',\n",
              " 'этот продукт не должно быть на ваш стол полный набор который запускать рак и диабет',\n",
              " 'что надо быть для здоровье щитовидка налегать на этот продукт',\n",
              " 'российский ученый находить промышленный применение отходы алмазодобыча',\n",
              " 'в мая разрабатывать печь для экологичный сжигание мусор в поселок',\n",
              " 'сми запад готовить удар в спина польша из за украина',\n",
              " 'не скрывать в сеть приходить в ярость из за фото зеленский и фон дер ляйен',\n",
              " 'все в паутина ребенок странный от происходить в дом киркоров мурашки по кожа фото',\n",
              " 'хантер байден попросить вызывать трамп в суд',\n",
              " 'не в красота счастие русский звезда с необычный внешность',\n",
              " 'чернышенко рассказывать о платформа гостеха',\n",
              " 'находить легендарный воин сибирь ученый приходить к неожиданный вывод',\n",
              " 'отчаянный попытка зеленский проваливаться вот что стрясаться в сша',\n",
              " 'россиянин предупреждать за этот действие в соцсеть мочь увольнять',\n",
              " 'путин пока не принимать решение об участие в съезд единый россия',\n",
              " 'госдума в четверг рассматривать во второй чтение проект о повышение мрот',\n",
              " 'пенсия увеличивать сразу и вдвое законопроект о выплата порядок рубль уже в госдума',\n",
              " 'метка дьяволица такой девушка на русь сторониться от рождение',\n",
              " 'украинский сми сообщать о семь взрыв в харьковский область',\n",
              " 'путин поручать разрабатывать план развитие авиаперевозка на дальний восток',\n",
              " 'платформа мой экспорт научать устанавливать деловой связь с партнер',\n",
              " 'путин поблагодарить представитель избирком новый территория за смелость',\n",
              " 'сми израильский войско снести бульдозер часть клиника аш шифа в газ',\n",
              " 'в малый театр рассказывать о состояние юрий соломин',\n",
              " 'пашинян заявлять о поиск новый партнер в сфера безопасность',\n",
              " 'ванг предупреждать давно этот пророчество о пугачева сбываться с невероятный точность',\n",
              " 'по весь украина объявлять воздушный тревога',\n",
              " 'казак отправлять в зона сво что они там устраивать',\n",
              " 'дом пугачева стремительно пустеть оставаться без дочка лиза',\n",
              " 'встреча байден и си цзиньпина завершаться',\n",
              " 'россиянин предупреждать о новый правило выезд за граница',\n",
              " 'великий актер неожиданно и навсегда сбегать в церковь',\n",
              " 'рейс со второй группа эвакуировать из газ россиянин прибывать в домодедово',\n",
              " 'в госдума прикрывать лазейка для мигрант',\n",
              " 'ливанов жестко врезать под дых сбегать пугачева',\n",
              " 'спектакль о холокост показывать в библиотека иностранный литература',\n",
              " 'в корпус мгу из за случай корь вводить дистанционный обучение',\n",
              " 'путин заявлять что работать вместе с цик и правительство для человек',\n",
              " 'массовый драка в подробность видео',\n",
              " 'дегтярев в хабаровский край отмечать рекордный объем ремонт дорога по БКД',\n",
              " 'называть университет который хорошо все популяризировать наука в регион',\n",
              " 'американский сенатор раскрывать чем заканчиваться конфликт на украина',\n",
              " 'умирать гитарист британский группа анджело брускини',\n",
              " 'на север и юг израиль прозвучать сирена воздушный тревога',\n",
              " 'оверчук рассказывать о негативный эффект санкция для страна атэс',\n",
              " 'съезд единый россия мочь проводить на вднх сообщать источник',\n",
              " 'зрелище не для слабый желудок престарелый мать королева сниматься в смелый бикини фото',\n",
              " 'календарь магнитный буря в ноябрь год называть самый опасный день',\n",
              " 'факультет мгу переходить на дистанционка причина серьезный',\n",
              " 'зачем мыть пол вода с соль лайфхак от опытный хозяйка',\n",
              " 'россиянин становиться доступный пакетный тур на космодром восточный',\n",
              " 'этот звезда хватить смелость бросать свой семья список',\n",
              " 'после новость об инфаркт молодой жена николаев снимать обручальный кольцо',\n",
              " 'эксперт рассказывать о плюс похудение для диабетик',\n",
              " 'за капремонт с октябрь платить не нужно пенсионер объявлять о приятный сюрприз',\n",
              " 'с плесецк запускать ракета со спутник минобороны',\n",
              " 'этот пенсионер повышать пенсия на тысяча рубль кто получать надбавка',\n",
              " 'этот знак зодиак бросать вы в трудный момент они хорошо не доверять',\n",
              " 'в выглядеть на а вот какой сын девочка с лицо пенсионерка',\n",
              " 'для что существовать отверстие на колпачок от ручка факт о который вы даже не догадываться',\n",
              " 'вкус и цвет плод оставаться неизменный два эффективный способ хранение помидор в период холод',\n",
              " 'когнитивный долголетие ученый искать путь сохранение умственный здоровье',\n",
              " 'на чукотка восстанавливать связь после авария',\n",
              " 'оставаться один с больной мать ребенок пугачева увезти в другой страна',\n",
              " 'как пожилой так и молодой этот продукт защищать от любой вид онкология',\n",
              " 'киркоров тайно сделать очередной операция весь страна открывать рот когда увидеть',\n",
              " 'галкин убивать всплывать новый факт о смерть актер',\n",
              " 'сша хотеть вести кулуарный диалог с россия на саммит атэс заявлять в мид',\n",
              " 'рецепт сочный котлета без хлеб весь хозяйка заменять он на это',\n",
              " 'сразу после похороны зачем носить завтрак умерший',\n",
              " 'оон предлагать план действие по газ из десять пункт',\n",
              " 'разбивать стекло картина венера с зеркало активист выдвигать обвинение',\n",
              " 'российский ученый придумывать как очищать вода от фурацилин',\n",
              " 'цифра называть насколько подымать пенсия с январь',\n",
              " 'бритье подмышка почему не следовать это делать',\n",
              " 'жуткий подробность что мужчина сделать с пара из за ревность',\n",
              " 'финн решать судьба консульство россия на аланда',\n",
              " 'новый обязательный предмет мочь появляться в российский школа',\n",
              " 'армения сообщать о переговоры с ес по поставка нелетальный оружие',\n",
              " 'самый полезный орех для пожилой который быть в каждый магазин',\n",
              " 'умирать актер из сериал секс в большой город',\n",
              " 'встреча путин с глава россеть рюмин прямой трансляция',\n",
              " 'что быть если каждый день употреблять сметана результат вы приятно удивлять',\n",
              " 'какой растение опасно держать в дом выделять токсичный вещество',\n",
              " 'для большинство болезнь пока нет генный терапия заявлять эксперт',\n",
              " 'в таиланд находить новый вид вымирать аллигатор время ледниковый период',\n",
              " 'яйцо и не только называть продукт для мужской здоровье',\n",
              " 'в приморский край автомобиль получать повреждение в дтп из за гололед',\n",
              " 'сша оставлять киев без помощь попытка зеленский проваливаться',\n",
              " 'ни при какой обстоятельство не отдавать этот вещь другой человек иначе быть беда',\n",
              " 'вот кто оказываться покидать часть российский военный',\n",
              " 'с вещь и семья раскрывать подробность бегство шнуров из рф',\n",
              " 'кг за три день избавляться от лишний вес с помощь банан',\n",
              " 'какой кетчуп сохранять здоровье и предотвращать рак доктор мясников раскрывать секрет',\n",
              " 'кардиолог называть самый полезный продукт для сохранение здоровье сердце и сосуд',\n",
              " 'в россия изучать эффект от добавка торф в бетон',\n",
              " 'умирать заслуживать артист россия александр готгельф',\n",
              " 'кравцов рассказывать о разработка четыре новый словарь в россия',\n",
              " 'пашинян высказываться о позиция по одкб',\n",
              " 'российский и японский музыкант выступать на фестиваль в такасаки',\n",
              " 'неизлечимый болезнь сгубить артист лещенко заговаривать о тяжелый борьба',\n",
              " 'жить в сша внук пугачева испугаться что его автомобиль хотеть взрывать',\n",
              " 'британия и сша воздерживаться при голосование в СБ оон по резолюция по газ',\n",
              " 'не прилипать к сковорода и выходить ажурный рецепт блин по бабкинский',\n",
              " 'роспотребнадзор рассказывать о ситуация с заболеваемость корь в россия',\n",
              " 'место покойник что никогда нельзя делать на кладбище',\n",
              " 'нетаньяху обвинять эрдоган в поддержка терроризм',\n",
              " 'называть льгота о который пенсионер стоять напоминать',\n",
              " 'спецназ рф уничтожать украинский ДРГ вот кто она командовать',\n",
              " 'что можно быть купить на тысяча доллар год назад',\n",
              " 'лицо незаконно записывать в очередь за билет на щелкунчик задерживать',\n",
              " 'реакция агент деревянко на скандал с артист',\n",
              " 'еще пять область в сша раскрывать как изменяться граница украина',\n",
              " 'еврокомиссия понижать прогноз по экономический рост в ес',\n",
              " 'прийти другой сумма получать пенсия на банковский карта с ноябрь ждать сюрприз',\n",
              " 'песня гладков становиться символ лента союзмультфильм заявлять слащев',\n",
              " 'признак что у женщина психический заболевание',\n",
              " 'нормализовать пищеварение и уровень железо в кровь все о польза яблоко для человек старый год',\n",
              " 'робопс с автомат как быть воевать новый солдат',\n",
              " 'проходить любовь завянуть помидор слух о развод пугачева все много похожий на правда',\n",
              " 'сердце быть работать как у молодой врач давать дельный совет для гражданин весь возраст',\n",
              " 'решение принимать пенсионер получать сразу два выплата в ноябрь',\n",
              " 'ученый предлагать глицин в качество элемент медицинский электроника',\n",
              " 'не ожидать лолита опешить услышать это от сбегать цекало',\n",
              " 'вакцина нужный как можно скоро грозить ли мир эпидемия вирус нип',\n",
              " 'отказываться от бодипозитив из за плохой выручка',\n",
              " 'не оставлять дверца стиральный машинка открывать и вот почему важно знать',\n",
              " 'его гибель неизбежный в киев раскрывать что готовить зеленский',\n",
              " 'что известно о черный ящик самолет пригожин для что нужный черный ящик',\n",
              " 'путин поручать создавать фонд для финансирование технологический развитие дфо',\n",
              " 'в сочи закрывать большинство пляж из за шторм',\n",
              " 'о свадьба вдова шатунов сообщать публично как выглядеть и что знаменитый мужчина',\n",
              " 'юморист валерий пономаренко рассказывать о перенести операция на сосуд',\n",
              " 'самый высокий водопад в крым оказываться высоко чем считаться ранее',\n",
              " 'участник спецоперация посещать концерт бурятский театр байкал в кремль',\n",
              " 'самоучка и уборщик этот певец нагло выдворять михайлов со сцена',\n",
              " 'боррель раскрывать подробность новый пакет санкция ес против россия',\n",
              " 'российский ученый создавать чип для управление рост наночастица',\n",
              " 'ученый оценивать разнообразие млекопитающее ледниковый период в сибирь',\n",
              " 'источник весь беда осиновый щепка в диван приносить несчастие',\n",
              " 'начало испытание элемент метановый ракетный двигатель',\n",
              " 'украинский сми сообщать о взрыв в полтавский область',\n",
              " 'носить булавка только в этот место иначе сглаз не избегать',\n",
              " 'трагический судьба даниил певцова который погибать в год',\n",
              " 'быть любовница с кто спать кончаловский до брак с высоцкая',\n",
              " 'ребенок актер который не доживать до год',\n",
              " 'скандал с мисс россия что сказать о русский мужчина',\n",
              " 'израиль вынуждать хамас обменять пленный после взятие аш шифа писать сми',\n",
              " 'баня или сауна что вредный для здоровье',\n",
              " 'нежный быть таять во рот раскрывать секретный рецепт волшебный сало',\n",
              " 'кончаловский подставлять человек испытывать испанский стыд когда смотреть на серебряков в этот фильм',\n",
              " 'самарский ученый помогать отечественный авиация переходить на экотопливо',\n",
              " 'киноляп чего вы не замечать в любимый фильм',\n",
              " 'кончаться любовь что к этот момент известно о развод пугачева',\n",
              " 'нелепый смерть подробность гибель экс офицер вс рф свиридов',\n",
              " 'касаться весь страна судьбоносный решение путин уже объявлять',\n",
              " 'сми в команда зеленский обрушиваться на он слово путин',\n",
              " 'пассажир метро в москва спрыгивать на путь и уходить навстречу поезд',\n",
              " 'заморозок собственность не затрагивать российский дипмиссия заявлять чехия',\n",
              " 'израильский армия заявлять о взятие под контроль оперативный порт в газ',\n",
              " 'путин вытаскивать россия из пропасть и вернуть она достоинство заявлять матвиенко',\n",
              " 'что обнаруживать на последний фото дочь галкин и пугачева',\n",
              " 'акробат большой московский цирк получать золото на фестиваль в китай',\n",
              " 'пенсионер призывать подавать заявление на новый пособие нужно успевать до ноябрь',\n",
              " 'сми деревянко обвинять в мошенничество более чем на млн рубль',\n",
              " 'вводиться порядок назначение пенсия без необходимость личный обращение гражданин',\n",
              " 'домой она хотеться портниха пугачева объяснять почему тот не мочь вернуться в россия',\n",
              " 'новый деталь что трепов заявлять в суд',\n",
              " 'кто нельзя прикладываться к икона в церковь',\n",
              " 'в прокат выходить мультфильм смешарик снимать кино',\n",
              " 'си цзиньпина озвучивать основа китайский американский отношение',\n",
              " 'гость октоберфест мочь запрещать вход за нацистский приветствие',\n",
              " 'бодипозитив не окупаться модный бизнес отказываться от навязнуть повестка',\n",
              " 'в сибирь начинаться испытание отечественный мРНК вакцина на мышь',\n",
              " 'секрет успех предмет талисман который богатый человек привлекать удача и процветание',\n",
              " 'никогда не оставлять чек в супермаркет юрист рассказывать в чем опасность',\n",
              " 'она быть весь год как уходить из жизнь актриса советский кино',\n",
              " 'путин называть казахстан наиболее близкий союзник россия',\n",
              " 'россиянка который сын бросать в мехико прилетать в москва',\n",
              " 'близкий подруга раскрывать неожиданный правда о пугачева наглый вранье',\n",
              " 'россиянин объяснять на сколько подорожать услуга жкх в год',\n",
              " 'лавров принимать участие в заседание одкб в минск ноябрь',\n",
              " 'нижегородский губернатор выступать на форум в китай',\n",
              " 'биография александр шилова',\n",
              " 'савельев сообщать что россия готовый к создание новый сверхзвуковой тот',\n",
              " 'захарова прокомментировать возможный вступление украина в нато',\n",
              " 'страшный настигать максаков что сообщать народ',\n",
              " 'объявлять весь мир кто пленять военный россия под кременная',\n",
              " 'самый северный в россия виртуальный концертный зал открываться на таймыр',\n",
              " 'маск один слово отреагировать на новость об украина и северный поток',\n",
              " 'пить и спасибо говорить вот что советский проводник год подсыпать в чай пассажир',\n",
              " 'законопроект об индексация пенсия проходить чтение в госдума кто ждать увеличение выплата',\n",
              " 'израиль мочь останавливать операция в газ после взятие аш шифа писать сми',\n",
              " 'избавляться от они немедленно этот вещь притягивать в дом негативный энергия и бедность',\n",
              " 'цена этот монета ссср миллион рубль ваш бабушка и дедушка мочь она обладать',\n",
              " 'в москва начинать повышать температура в система отопление из за похолодание',\n",
              " 'мужчина с этот имя отъявленный алкоголик',\n",
              " 'этот монета стоять миллион рубль рожать в ссср срочно проверять копилка',\n",
              " 'быть полный идиотка вайкуле сообщать о прозрение',\n",
              " 'тревога и страх почему лолита молиться и смотреть в телефон',\n",
              " 'сливать как в унитаз николаев вонзать нож в спина беззащитный королева',\n",
              " 'сша мочь доигрываться вот что заявлять в мид россия',\n",
              " 'не такой как другой ребенок всплывать неожиданный правда о сын королева и глушко',\n",
              " 'болгария вводить налог на российский газ сообщать источник',\n",
              " 'песков отвечать на вопрос о слово байден про си цзиньпина',\n",
              " 'эффектный финал ясновидящий рассказывать о будущее сво',\n",
              " 'в российский школа мочь появляться обязательный предмет семьеведение',\n",
              " 'военный эксперт предупреждать россиянин о следующий шаг киев',\n",
              " 'совбез оон принимать резолюция мальта по сектор газ',\n",
              " 'минпромторг сформировывать группа для создание цифровой пространство бпло',\n",
              " 'мы понятие не иметь в сша раскрывать что россия готовить на украина',\n",
              " 'самый красивый девочка маленький дочь все мало похожий на пугачев фото',\n",
              " 'болеть становиться выгодно становиться известно во сколько раз увеличиваться выплата по больничный',\n",
              " 'пожилой на заметка этот продукт предотвращать старческий слабоумие и укреплять иммунитет',\n",
              " 'только глянуть на дочь звезда любовь и голубь какой красотка',\n",
              " 'кто повышать пенсия в год называть категория и дата',\n",
              " 'в якутия призывать обсуждать на федеральный уровень запрет фильм айта',\n",
              " 'москва и астана заявлять что их сотрудничество не угрожать третий страна',\n",
              " 'этот предмет в кошелек приносить бедность и несчастие',\n",
              " 'сми еще один женщина обвинять солист в сексуальный насилие',\n",
              " 'оверчук рассказывать о расти торговля россия с южный америка и азия',\n",
              " 'больше не смочь все у кто быть банковский кредит ждать сюрприз с октябрь',\n",
              " 'этот российский люксовый седан теперь собирать в оаэ',\n",
              " 'решение принимать на высокий уровень пенсионер проиндексировать выплата на процент',\n",
              " 'хаматова приходиться несладко на чужбина размазывать кровь',\n",
              " 'в мид китай называть саммит байден и си цзиньпина важный веха',\n",
              " 'этот ягода человек после год хорошо не быть врач называть ее опасный для старик',\n",
              " 'кононенко и чуб выходить в открытый космос для отключение контур радиатор',\n",
              " 'рособоронэкспорт рассказывать о продажа оружие за рубеж в условие сво',\n",
              " 'точный удар в сша раскрывать что россия сделать нато на украина',\n",
              " 'прямо из русский плен боевик обращаться к всу с призыв',\n",
              " 'русский все видеть в британия забивать тревога из за супероружие москва',\n",
              " 'долгожданный рост детский пособие какой изменение ожидать родитель в год',\n",
              " 'как отдыхать в декабрь праздник выходной норма рабочий время',\n",
              " 'сокровище из сервант вот почему запрещать выбрасывать советский хрусталь',\n",
              " 'даже произносить стесняться настоящий фамилия татьяна васильева',\n",
              " 'только в один место человек смочь переживать ядерный война',\n",
              " 'гранатовый сок чем он вредный для здоровье',\n",
              " 'никакой химия смешать этот продукт чтобы избавляться от жирный налет на посуда',\n",
              " 'свыше компания москва повышать эффективность труд в рамка нацпроект',\n",
              " 'начинаться беспорядок европа на порог кризис из за дефицит вода',\n",
              " 'эксперт заявлять что индийский луноход не смочь заснимать обломок луна',\n",
              " 'сделать мощно генерал всу удивлять маневр российский армия на украина',\n",
              " 'в россия разрабатывать экстракт авран для лечение поздний стадия рак',\n",
              " 'ПСБ проводить российский форум по финансовый грамотность просто капитал',\n",
              " 'в россия пройти международный научный форум по редактирование геном',\n",
              " 'в россия предлагать новый метод прогноз выживаемость при рак легкое',\n",
              " 'надо каждый день молиться что твориться в авдеевка',\n",
              " 'матвиенко предлагать разрешать принимать в посольский школа иностранец',\n",
              " 'путин поручать правительство разрабатывать программа изучение недра дфо и сфо',\n",
              " 'отчет губернатор енисейский губерния раскрывать россиянин история сибирь',\n",
              " 'жестокий и грубый называть плохой жена по знак зодиак',\n",
              " 'израиль заявлять что наносить удар по резиденция глава политбюро хамас хания',\n",
              " 'спикер палата представитель сша поддерживать расследование против байден',\n",
              " 'нагиев обманывать и воспользоваться известный телеведущая ахнуть узнавать какой он на самый дело',\n",
              " 'снг высказываться за допуск на совет мид обсе делегация весь страна участница',\n",
              " 'постпред израиль в оон называть гибель мирный житель в газ трагический',\n",
              " 'мокрый королева показывать чувственный кадр с отдых фото',\n",
              " 'гуманитарный катастрофа в херсон кастюкевич объявлять на весь мир',\n",
              " 'мтс хакер становиться атаковать российский компания на часто',\n",
              " 'крокодил спасать собака от разъяренный стая пес когда тот забираться в кишеть хищник река фото',\n",
              " 'в год выходить на пенсия не получаться',\n",
              " 'что нужно сделать весь пенсионер работать в е',\n",
              " 'это самый настоящий миф россиянин раскрывать правда о действие витамин при простуда',\n",
              " 'один добавка сделать борщ в раз вкусный свекровь позавидовать',\n",
              " 'потенциал встреча экспортер из рф на составлять млн',\n",
              " 'вот это новость лобода выходить замуж',\n",
              " 'уже известно кто быть утопать в авто беременный петербурженка',\n",
              " 'наследство который оставлять масляков шокировать',\n",
              " 'вино становиться самый популярный у пассажир поезд в крым',\n",
              " 'редкий фото отец орбакайте мгновенно облетелый сеть',\n",
              " 'скарлетт йоханссон подавать в суд на приложение ия за использование ее образ',\n",
              " 'володин призывать депутат воздерживаться от неприемлемый предложение',\n",
              " 'байден заявлять что сша продолжать конкурировать с китай',\n",
              " 'если не хватать солнце этот три продукт лидировать по содержание витамин',\n",
              " 'к делегация россия на саммит атэс относиться достойно заявлять оверчук',\n",
              " 'бедность в узбекистан до конец снижаться на',\n",
              " 'по воля судьба василиса володин называть знак который становиться миллионер в год',\n",
              " 'лавров рассказывать о позиция сша по палестино израильский конфликт',\n",
              " 'ученый проводить эксперимент по создание кирпичик жизнь на луна',\n",
              " 'похоронить заживо судьба сестра федоров песня который знать весь ссср тронуть вы за душа',\n",
              " 'в ташкентский область находить древний памятник время саманид и караханид',\n",
              " 'песков прокомментировать сообщение о решение путин участвовать в выборы',\n",
              " 'путин заслушивать доклад первый вица премьера белоусова',\n",
              " 'солнечный парус бауманский спутник снова попробовать развертывать на орбита',\n",
              " 'прогерий как российский школьница жить в тело старушка фото',\n",
              " 'высоцкая раскрывать секрет идеальный пирожок тесто тонкий от начинка течь слюнки',\n",
              " 'помощница пугачева высказываться о срок пребывание певица в россия',\n",
              " 'турецкий провокатор петь вместе с мы на русский',\n",
              " 'в индия откладывать запуск ракета в рамка пилотировать космический программа',\n",
              " 'эксперт усомниться в улучшение отношение между сша и кнр в обозримый будущее',\n",
              " 'госдума одобрять проект о запрет маткапитал лицо без гражданство россия',\n",
              " 'путин ноябрь встречаться с член общественный палата',\n",
              " 'пенсионер и не только подписывать указ о новый льгота который затрагивать многий россиянин',\n",
              " 'сделать просто так как с помощь один кнопка вернуть карта который съедать банкомат',\n",
              " 'источник рассказывать когда запускать второй спутник арктика м',\n",
              " 'индийский луноход выезжать на поверхность спутник земля',\n",
              " 'помнить крикун из шоу шейнин и соловьев куда пропадать ковтун',\n",
              " 'в британия замечать как изменяться зеленский после разгром всу',\n",
              " 'пагубный пристрастие испортить жизнь портос на старость год скитаться по съемный квартира',\n",
              " 'в сочи открываться международный конкурс молодой балет мир',\n",
              " 'цена на какао побивать почти полувековой рекорд',\n",
              " 'силуанов отвечать на главный вопрос россиянин о бюджет страна',\n",
              " 'в ГД предлагать прекращать полномочие власов и белоусова с ноябрь',\n",
              " 'индийский аппарат находить на южный полюс луна сера и различный металл',\n",
              " 'школа смочь проверять уровень владение русский язык у ученик',\n",
              " 'российский нейросеть набирать необходимый для поступление в вуз балл на егэ',\n",
              " 'почему нельзя пить черный чай в пакетик',\n",
              " 'пугать цифра с что связанный глобальный всплеск рак среди молодой',\n",
              " 'вот что ивлев делать с молодой жена когда ребенок нет ахнуть',\n",
              " 'родитель пресняков в молодость быть горячий фото',\n",
              " 'почему украинский беженец возвращаться из европа',\n",
              " 'сми израильский банк начинать сегрегировать счет российский инвестор',\n",
              " 'китай никогда не ставить на то что сша проигрывать заявлять си цзиньпина',\n",
              " 'маск не сдерживать обещание предоставлять связь газ заявлять в палестина',\n",
              " 'что сообщать все юрист о суд валиева в',\n",
              " 'высотка с вид на море судя по вид из новый хор пугачев на кипр как сыр в масло кататься',\n",
              " 'прибор индийский миссия выявлять возможный сейсмоактивность на луна',\n",
              " 'российский сертификат халяль признавать в страна персидский залив',\n",
              " 'заглядывать в трудовой книжка один строчка мочь серьезно изменять размер пенсия',\n",
              " 'в россия научаться защищать труба изнутри',\n",
              " 'внезапный смерть не становиться любимый продюсер россиянин',\n",
              " 'поступок боярский на прощание с темирканов увидеть все',\n",
              " 'хамас и пна кто контролировать палестинский территория',\n",
              " 'кремль отвечать предупреждение на выпад дания',\n",
              " 'я погибать гузеев доводить до слеза прямо в эфир',\n",
              " 'индия проводить запуск ракета в рамка пилотировать космический программа',\n",
              " 'в япония появляться новый остров при извержение подводный вулкан',\n",
              " 'для это быть весь условие в соцфонд рассказывать у кто вырастать пенсия и пособие в год',\n",
              " 'темнокожий белоснежка и мультик про ЛГБТ как дисней ударяться в повестка',\n",
              " 'самый умный ребенок рождаться только под этот знак зодиак',\n",
              " 'шестнадцать знак кричать что умерший человек пытаться связываться с вы',\n",
              " 'мишустин давать старт движение по новый участок дорога в несколько регион',\n",
              " 'умирать один из основатель группа алиса андрей шаталин',\n",
              " 'в госдума допускать увеличение маткапитал сколько составлять',\n",
              " 'любимов поздравлять школа студия мхат с юбилей',\n",
              " 'курс доллар упасть ниже рубль впервые с июль',\n",
              " 'по два школа оон в сектор газа наносить удар быть пострадать',\n",
              " 'для гумоперация в газ нужно тысяча литр топливо в день заявлять бапор',\n",
              " 'киев начинать пугать европа новый поток мигрант и рост цена',\n",
              " 'ростеха анонсировать серийный поставка импортозамещенный в год',\n",
              " 'путин поблагодарить вологодский губернатор за работа',\n",
              " 'путин доверять процент россиянин показывать опрос',\n",
              " 'владимиров на ставрополье стартовать программа обновление детский площадка',\n",
              " 'в россия создавать компактный измеритель жирность молоко',\n",
              " 'эксперт последний проект запад в тот число тихановский проваливаться',\n",
              " 'уже миллион новый устройство в авто завоевывать россия',\n",
              " 'вернуться навсегда у они развод с галкин стас барецкий о причина приезд пугачева',\n",
              " 'умирать основоположник продюсерский образование в россия юрий орлов',\n",
              " 'в россия предлагать заменять зубной эмаль скорлупа куриный яйцо',\n",
              " 'премьер литва рассказывать о возможный процедура лишение лиепа гражданство',\n",
              " 'денежный неприятность чем опасный старый ковер в дом',\n",
              " 'называть симптом который возникать за несколько год до появление рак',\n",
              " 'перебивать все в киев раскрывать шокировать план зеленский по украина',\n",
              " 'прекрасный селедка под шуба раскрывать рецепт вкусный салат на новый год',\n",
              " 'опять в бега худяков выдавать секрет пугачева на весь страна',\n",
              " 'такой не скрывать новый поворот в дело дарья трепова',\n",
              " 'амфитеатр со сцена появляться на юго запад столица по просьба москвич',\n",
              " 'прийти вместе с пенсия в октябрь все кто получать пенсия ждать новый сюрприз',\n",
              " 'индийский аппарат подтверждать наличие сера на луна',\n",
              " 'токаев выражать соболезнование нурсултан назарбаев',\n",
              " 'этот имя веко называть только ведьма',\n",
              " 'триста громкий признание наемник из грузия доходить до весь',\n",
              " 'мишустин заявлять о важность национальный согласие и сплоченность',\n",
              " 'пить по черный кто главный звезда алкоголик',\n",
              " 'длинный волос такой хакамада помнить лишь единица фото',\n",
              " 'быть обнуление пенсионер с долг скоро ждать хороший бонус',\n",
              " 'путин сообщать о развитие зона где работать специалист космический отрасль',\n",
              " 'новый пассия непубличный шаврин объявляться в обнимка с шаляпин',\n",
              " 'не православный вот кто по национальность константин хабенский',\n",
              " 'вставать в один ряд с пугачева лолита четко обозначать позиция',\n",
              " 'в минкультуры рассказывать об условие хранение икона троица',\n",
              " 'вот кто байден называть си цзиньпина после рукопожатие',\n",
              " 'вот что ждать москвич уже в этот год собянин все раскрывать сам',\n",
              " 'россиянин идти на сво целый семья заявлять боец батальон скиф',\n",
              " 'азербайджан увеличивать расход на соцвыплата',\n",
              " 'итальянец разводиться с жена после год брак обомлевать узнавать причина',\n",
              " 'худой с удовольствие называть полезный сладость который помогать скидывать лишний вес',\n",
              " 'весь шокировать кто по национальность оказываться газманов',\n",
              " 'ребенок из благополучный семья все часто становиться закладчик заявлять в мвд',\n",
              " 'секрет раскрывать как приготавливать молочный коктейль из ссср который все обожать',\n",
              " 'госдума быть индексировать выплата работать пенсионер они очень нужный в экономика',\n",
              " 'он скончаться еще один смерть в дело татарский',\n",
              " 'не понимать что происходить в сша приходить в шок от ход путин на украина',\n",
              " 'запретный возраст почему нельзя отмечать год',\n",
              " 'умирать актриса из ат бат идти солдат нина кирьякова',\n",
              " 'в россия создавать система для моделирование полезный микроб',\n",
              " 'куда пропадать с экран рабыня изаура и ее мучитель сеньор леонсио',\n",
              " 'киев заявлять о возможный открытие гражданский аэропорт на украина',\n",
              " 'новосибирский филармония получать изготавливать монах в ЛНР скрипка',\n",
              " 'разлучать ребенок и находить приемный родитель у пугачева становиться на один проблема мало',\n",
              " 'как порезать лук без слеза проверенный метод от опытный повар',\n",
              " 'первый российский суперкар вот как выглядеть фото',\n",
              " 'малоизвестный факт который сломать судьба демьяненко',\n",
              " 'как получать прибавка к пенсия обращаться в бюро мсэ комментарий юрист',\n",
              " 'лишать ли нурсултан назарбаев весь привилегия в страна отвечать в минюст',\n",
              " 'умирать художник и поэт гавриил лубнина',\n",
              " 'российский ученый находить взаимосвязь между глаукома и депрессия',\n",
              " 'сотрудничество с россия в космический отрасль продолжаться сообщать путин',\n",
              " 'говорить с природа на ее язык что спасать человечество от биоугроза',\n",
              " 'путин ознакомляться с перспективный проект ракетный космический отрасль',\n",
              " 'редкость редкостный кто живьем захватить снайпер вс рф',\n",
              " 'указ подписывать в квитанция жкх вписывать новый граф оплата с декабрь',\n",
              " 'порча или сглаз срочно проверять ваш диван на осиновый щепка',\n",
              " 'как понимать что на помощь приходить душа усопший родственник',\n",
              " 'вот и сказочка конец петренко оставаться недолго скрываться от климова',\n",
              " 'путин называть интерес народ приоритет государство',\n",
              " 'запад советский культура как присуждать нобелевка по литература',\n",
              " 'не сметь говорить этот привычный слово на похороны вот почему',\n",
              " 'урок усваивать российский ученый раскрывать план полет к луна и венера',\n",
              " 'два филиал третьяковка в регион открываться в год',\n",
              " 'сша заинтересовывать в ослаблять кризис европа заявлять в совбез',\n",
              " 'все о польза рыбный консервы для здоровье сосуд секрет японский долгожитель',\n",
              " 'за этот закуска ребенок драться в ссср удивляться узнавать состав',\n",
              " 'эвакуировать из газ трехмесячный ребенок тяжело перенести рейс в москва',\n",
              " 'данила козловский входить в состав жюри кинофестиваль маяк',\n",
              " 'звезда сериал друг отреагировать на смерть мэттью перри',\n",
              " 'лавров встречаться с глава мид казахстан',\n",
              " 'ФРП выдавать подмосковный компания почти миллиард рубль льготный заем',\n",
              " 'кровь стыть в жила ученый воспроизводить самый страшный звук в мир',\n",
              " 'указ подписывать весь кто получать пенсия или соцвыплата ждать большой сюрприз с октябрь',\n",
              " 'путин рассказывать как космический проект получать название из за его оговорка',\n",
              " 'снимать в мариуполь сериал показывать в февраль год',\n",
              " 'байден заявлять о возобновление контакт с китай по военный линия',\n",
              " 'путин заявлять что любой вмешательство в выборы в россия быть пресекаться',\n",
              " 'приходить со я прощаться как душа умерший являться к мы',\n",
              " 'послание в бутылка плыть год содержание удивлять',\n",
              " 'боец мма стрикленд резко высказываться в сторона русский',\n",
              " 'в ингушетия обнаруживать древний подземный склеп',\n",
              " 'рубль зачислять каждый все у кто быть карта мир ждать сюрприз с ноябрь',\n",
              " 'сбербанк запускать вклад с самый высокий процентный ставка',\n",
              " 'овечкин получать опасный удар по шея что с он',\n",
              " 'актриса мария миронов уходить в история вот что случаться в звездный династия',\n",
              " 'источник называть новый возможный причина крушение луна',\n",
              " 'сказка с грустный конец брак с миллионер обертываться для звезда руслан и людмила горе',\n",
              " 'почему полезно кушать желтый арбуз ваш организм становиться чисто',\n",
              " 'космос как фабрика жизнь масштабный проект привлекать ученый в россия',\n",
              " 'очень скоро в сша раскрывать что случаться с всу на фронт',\n",
              " 'в московский зоопарк появляться самый большой аист в мир',\n",
              " 'как сделать макароны и рис полезный простой и легкий лайфхак от доктор мясников вы понравиться',\n",
              " 'в россия создавать виртуальный агроном для городской фермер',\n",
              " 'из суеверие почему буланова бояться из за беременность',\n",
              " 'сми россия выходить из довсе британия в паника',\n",
              " 'пушилин рассказывать о развитие инфраструктура в ДНР',\n",
              " 'цахал заявлять что уничтожать оружие вмс хамас в лагерь беженец аш шать',\n",
              " 'молдавия присоединяться к четыре из шесть пакет санкция против россия',\n",
              " 'указ подписывать пенсионер начинать выплачивать дополнительно рубль с декабрь',\n",
              " 'в зона риск многие называть возраст в который часто все мочь поражать инсульт',\n",
              " 'вот что ждать загранпаспорт россиянин в правительство задумываться',\n",
              " 'рецепт конфета от который не толстеть весь ингредиент и можно быть даже на диета',\n",
              " 'зачем в киев приходить в ярость из за статья о северный поток',\n",
              " 'вот что быть с рубль сразу после президентский выборы прогноз',\n",
              " 'раскрывать что байден нужно от си цзиньпина сми',\n",
              " 'раскрывать важный правда как точно обезопасить себя от мошенник',\n",
              " 'в чечня рассказывать на какой должность назначать сын кадыров',\n",
              " 'притягивать взгляд королева выставлять напоказ сочный грудь фото',\n",
              " 'без майка и трусов аршавин устраивать громкий выступление',\n",
              " 'ученый из ростов на дон научать программа выявлять фейковый видео',\n",
              " 'житель петербург получать год за совращение два девочка',\n",
              " 'какой кадр грудь загитова едва не выпрыгивать из платье',\n",
              " 'герой россия магасумов обвинять в убийство девушка что грозить',\n",
              " 'путин заявлять что ракетный космический отрасль нуждаться в разбюрокрачивание',\n",
              " 'как правильно покупать яйцо чтобы они быть свежий и вкусный',\n",
              " 'россиянин называть самый эффективный продукт для чистка желудок от вредный бактерия',\n",
              " 'путин обращаться к участник форум транспорт россия',\n",
              " 'командир ахмат выдавать весь правда о твориться на фронт',\n",
              " 'блистательный российский музыкант скончаться',\n",
              " 'указ подписывать пенсионер который от до год ждать неожиданный сюрприз с октябрь',\n",
              " 'все быть бесплатно с ноябрь для пенсионер новый льгота',\n",
              " 'николай плявин обнаруживать мертвый в москва',\n",
              " 'песков соглашаться со слово шойгу о столкновение ядерный держава',\n",
              " 'путин отменять соглашение о пенсионный право гражданин страна снг',\n",
              " 'горький признание летний краско облетелый весь россиянин',\n",
              " 'как доживать до глубокий старость полезный совет который использовать в япония',\n",
              " 'в канада арестовывать участник пропалестинский акция',\n",
              " 'путин прокомментировать использование современный технология на выборы',\n",
              " 'ск запланировать экспертиза по дело герой россия',\n",
              " 'сми посол страна ес планировать обсуждать й пакет санкция в пятница',\n",
              " 'в новгородский область устанавливать первый памятник собака санитар',\n",
              " 'путин проводить оперативный совещание с член совбез',\n",
              " 'кинотеатр мочь закрывать год с общий сборы в миллиард рубль',\n",
              " 'больше не быть называть жена а старый дело вот в что',\n",
              " 'путин планировать обсуждать с глава ржд сообщение с город циолковский',\n",
              " 'полагать это в ящик с картофель и он не быть гнить до весна хитрость о который знать немногие',\n",
              " 'он я сниться каждый ночь к что сниться покойник',\n",
              " 'минус кг вкусный салат для тот кто худеть можно быть хоть каждый день',\n",
              " 'сухонький старушка в парик резко постареть пугачев не узнавать даже сосед',\n",
              " 'атлантида тихий океан как наука проглядеть целый подводный материк',\n",
              " 'указ подписывать пенсионер у который накоплять непрерывный стаж год ждать сюрприз с октябрь',\n",
              " 'не позволять в киев обвинять сша в диверсия против украина',\n",
              " 'в кремль отвечать на вопрос о возможный визит аббас в россия',\n",
              " 'небензя рассказывать как из за сша СБ оон не требовать гумпауза в сектор газа',\n",
              " 'ученый обнаруживать простой но эффективный способ снижать давление вы точно понравиться',\n",
              " 'летопись на кость что стоять за открытие новый вид динозавр',\n",
              " 'россиянин рассказывать как мочь изменяться цена на электроэнергия в год',\n",
              " 'аншлаг артист программа который больше нет с мы',\n",
              " 'на глуховский составлять протокол за отсутствие плашка иноагент',\n",
              " 'красавец с чудовищный судьба что становиться с хороший актер ссср',\n",
              " 'путин утверждать поправка в закон о выборы президент',\n",
              " 'зря считать русский долина весь жизнь скрывать этот тайна',\n",
              " 'ученый рассказывать о работа аварийный комиссия луна',\n",
              " 'польза нет калория масса этот каша мясников называть самый вредный',\n",
              " 'доллар на московский биржа упасть ниже рубль',\n",
              " 'официально и достоверный пенсия в россия повышать еще на',\n",
              " 'страна нато становиться угрожать зеленский',\n",
              " 'в строительство пакша поучаствовать иностранный компания заявлять лихачев',\n",
              " 'ученый находить фрагмент большой русский засечный стена',\n",
              " 'бессонница исчезать навсегда какой продукт способный восстанавливать здоровый сон',\n",
              " 'указ подписывать пенсионер объявлять о разовый выплата и рубль с ноябрь',\n",
              " 'ученый предлагать готовить оборудование для анализ в микроволновка',\n",
              " 'нобелевский по химия кто и как в ссср открывать квантовый точка',\n",
              " 'в азербайджан размер адресный социальный помощь увеличиваться на',\n",
              " 'постоянно неловко из за отец какой расти бросать певец дочь фото',\n",
              " 'решение принимать называть дата если пенсия ниже рубль пожилой гражданин получать бонус',\n",
              " 'в следующий год размер среднемесячный пенсия в азербайджан составлять манат',\n",
              " 'ректор литинститут рассказывать о творчество тургенев',\n",
              " 'самый простой и быстрый рецепт приготовление малосольный огурчик',\n",
              " 'в иран задерживать ключевой фигурант дело об убийство режиссер мехрджуй',\n",
              " 'звучивать как путин отвечать на саботаж чиновник',\n",
              " 'путин заявлять о новый уровень военный сотрудничество между россия и китай',\n",
              " 'путин некоторый сила хотеть расширять конфликт на ближний восток',\n",
              " 'россиянин умирать после капельница на дом что с медсестра',\n",
              " 'путин предлагать дополнительно проиндексировать мрот на',\n",
              " 'лидер турецкий партия родина рассказывать о последствие расширение нато',\n",
              " 'сплошной мучение известный советский певица поведывать жуткий деталь о здоровье',\n",
              " 'сми одиннадцать человек погибать из за удар израиль по лагерь беженец',\n",
              " 'наследство градский что получать вдова и ребенок',\n",
              " 'путин призывать не снижать темп по борьба с рак в россия',\n",
              " 'думать что спать тайна гибель сын ирина безрукова',\n",
              " 'никогда не выбрасывать луковый шелуха в ресторан она на вес золото использовать также',\n",
              " 'источник тело предположительно режиссер никаноров находить в ленобласть',\n",
              " 'этот продукт увеличивать продолжительность жизнь включать в свой рацион',\n",
              " 'гопкинс и все подпрыгивать как шутить великий артист МХТ',\n",
              " 'алла пугачева пересекать граница россия',\n",
              " 'усугублять проблема со здоровье называть самый опасный ягода для пожилой человек',\n",
              " 'громкий заявление путин о соловьев облетать весь страна',\n",
              " 'в роскосмос допускать повторение миссия на южный полюс луна к год',\n",
              " 'бесценный украшение доставаться не называть дочь становиться известный последний воля вера васильева',\n",
              " 'гость не уходить пока не выпрашивать рецепт засолка сочный грудинка',\n",
              " 'расплата за приворот признак последствие история',\n",
              " 'оперный дива касьян я никогда не отказываться от дом и гражданство россия',\n",
              " 'два по цена один всплывать правда о заработок басков',\n",
              " 'залужный признавать в польша разбивать последний надежда зеленский',\n",
              " 'на земля вернуться капсула с грунт с астероид бенн',\n",
              " 'экс премьер польша моравецкий предлагать состав правительство в конец ноябрь',\n",
              " 'в самара создавать фабрика газотурбинный двигатель',\n",
              " 'наваливаться все в сша раскрывать с что вашингтон начинать третий мировой',\n",
              " 'в кремль раскрывать деталь встреча путин с представитель крупный бизнес',\n",
              " 'избавляться от они как можно скоро экстрасенс лобанов называть вещь отпугивать удача',\n",
              " 'тело военный летчик и его жена находить в собственный дом сми',\n",
              " 'даже не вздумать хранить помидор в холодильник причина знать единица',\n",
              " 'древний китайский мудрость какой фотография нужно повесить в дом для изобилие деньги',\n",
              " 'в турция призывать парламент обсуждать не членство швеция а выход из нато',\n",
              " 'приказ отдавать что начинать обучать школьник в россия',\n",
              " 'в британия сделать шокировать признание об украина',\n",
              " 'в кремль раскрывать деталь встреча путин с представитель крупный бизнес',\n",
              " 'у сша нет другой выход зеленский сообщать тревожный новость от байден',\n",
              " 'называть овощ который нужно употреблять человек за возвращать молодость',\n",
              " 'милон выдвигать предложение по повод сво о чем заявлять',\n",
              " 'никогда не варить яйцо полезный свойство испаряться из за высокий температура',\n",
              " 'как убиенный мочь указывать на свой убийца знак на похороны и визит к душегуб во сон',\n",
              " 'помолодеть еще год на близкий человек сливать в сеть свежий фото пугачева',\n",
              " 'об это знать единица из какой посуда никогда нельзя пить чай',\n",
              " 'пугачева лишать орбакайте наследство что происходить',\n",
              " 'и работать и неработающий пенсионер уже мочь получать хороший льгота',\n",
              " 'называть музыкальный жанр под который любить расслабляться россиянин',\n",
              " 'оппозиция считать что молдавия не готовый к переговоры о вступление в ес',\n",
              " 'перед актер красавец не устаивать даже гундарев какой сейчас',\n",
              " 'цб предлагать устанавливать правило онлайн продажа вклад и кредит',\n",
              " 'глава мид украина и британия обсуждать поставка оружие киев',\n",
              " 'юрист предупреждать о новый правило выезд россиянин за граница',\n",
              " 'весь декабрь быть аномальный синоптик давать новый прогноз на начало зима',\n",
              " 'в россия всегда добиваться результат заявлять путин',\n",
              " 'все слово что заявлять губерний о загитова',\n",
              " 'осуществлять четвертый коммерческий суборбитальный полет',\n",
              " 'мид россия отреагировать на заявление сша об арктик СПГ',\n",
              " 'акция яндекс расти на сообщение сми о план продавать актив в россия',\n",
              " 'в кремль оценивать развитие отношение казахстан с европа',\n",
              " 'в россия смочь создавать жаростойкий бетон из отходы металлургия',\n",
              " 'без косметика и после слезать волочков не побояться показывать себя без прикраса',\n",
              " 'экс посол россия называть условие для изменение китай позиция по сша',\n",
              " 'путин или ноябрь встречаться с член общественный палата',\n",
              " 'азаров рассказывать почему сша не готовый к госпереворот на украина',\n",
              " 'секрет вкусный каша из тыква простой и быстрый рецепт',\n",
              " 'лавров награждать глава башкирия за работа регион с зарубежный партнер',\n",
              " 'летчик всу отказываться взлетать после этот поступок вс рф',\n",
              " 'в москва в этот год отремонтировать много крыша жилой дом',\n",
              " 'пушка начало век находить в орел',\n",
              " 'еще порядок госуслуга впервые становиться доступный онлайн в подмосковье',\n",
              " 'желтый или зеленый раскрывать секрет какой банан полезно для человек',\n",
              " 'счастливый буланов сделать заявление о беременность',\n",
              " 'ученый из мифь объяснять присуждение нобелевский премия алексей екимов',\n",
              " 'что сделать с судья который выдавать орден на арест путин',\n",
              " 'останавливаться джо американец приходить в ужас из за решение байден по украина',\n",
              " 'указ вступать в сила пенсионер у который быть стаж год ждать приятный сюрприз от СФР',\n",
              " 'в нижний новгород состояться премьер опера евгений онегин',\n",
              " 'мы крутой на запад грубо отзываться об украинец из за победа россия',\n",
              " 'путин обсуждать с белоусов работа над проект о технологический политика',\n",
              " 'киностудия горький начало съемка фильм о раиса горбачева',\n",
              " 'сенатор спрашивать у какой фирма на украина получать средство от сша',\n",
              " 'в госдума отмечать феноменальный явка депутат на пленарный заседание',\n",
              " 'в британия проголосовать против призыв к перемирие в газ писать сми',\n",
              " 'они этот российский актер любить один женщина',\n",
              " 'пенсионный возраст снижать до год уже в следующий год россиянин ждать большой сюрприз',\n",
              " 'какой молочка хорошо все выбирать человек старший возраст совет врач',\n",
              " 'мэа россия наращивать добыча нефть в октябрь на тысяча баррель в сутки',\n",
              " 'вкусный магазинный этот нежный печение точно полюбить весь семья',\n",
              " 'указ подписывать все у кто быть квартира с ремонт ждать большой сюрприз с ноябрь',\n",
              " 'с понедельник запрещать садиться за руль автомобилист ждать неожиданный сюрприз',\n",
              " 'все рухнуть в декабрь зеленский сообщать ужасающий новость об украина',\n",
              " 'ученый приморье и кнр договариваться о совместный исследование',\n",
              " 'в рхта разрабатывать сверхточный сварка стекло с металл',\n",
              " 'чем отличаться белый желтый красный вид картофель правда знать единица',\n",
              " 'в россия находить способ спасать источник кавказский минеральный вода',\n",
              " 'ученый создавать долговечный и экологичный покрытие для кровля',\n",
              " 'в татарстан открывать завод по выпуск материнский плата',\n",
              " 'небензя рассказывать о приоритет режим прекращение огонь в сектор газа',\n",
              " 'госдума в четверг рассматривать во второй чтение проект о повышение мрот',\n",
              " 'известный актер побывать в забайкалье и сразу сделать заявление',\n",
              " 'день рождение дед мороз отмечать в парк подмосковье ноябрь',\n",
              " 'лавров заявлять что сша мочь хотеть еще больший кризис на ближний восток',\n",
              " 'уже не вернуться покидать россия леонтьев принимать окончательный решение',\n",
              " 'индексация пенсия в январь не быть пенсионер ждать неожиданный сюрприз',\n",
              " 'шойгу проводить переговоры с коллега из буркин фасо',\n",
              " 'в госдума находить деньги на повышение пенсия закон уже принимать',\n",
              " 'сми предложение ес по санкция включать человек и компания',\n",
              " 'навка проговариваться что происходить у они с песков',\n",
              " 'тайный становиться явный пугачева перезахоронить родные',\n",
              " 'на север израиль прозвучать сирена воздушный тревога сообщать сми',\n",
              " 'байден заявлять о продолжение контакт сша и китай после саммит',\n",
              " 'ничто плохой генерал всу неожиданно высказываться о россия',\n",
              " 'письмо тотем тайна зашифровывать послание ленин',\n",
              " 'озвучивать сумма за который пугачев готовый вернуться деньги приходиться платить россиянин',\n",
              " 'россия принимать известный бразилец хотеть становиться гражданин рф',\n",
              " 'этот продукт обожать пенсионер но они провоцировать образование холестериновый бляшка',\n",
              " 'все у кто пенсия низко рубль можно получать дополнительный выплата',\n",
              " 'внешность или личность ученый развенчивать популярный миф о любовь',\n",
              " 'патрушев считать что научный потенциал сибирь использоваться недостаточно',\n",
              " 'этот витамин приводить к образование тромбоз',\n",
              " 'ребенок уплетать этот закуска за оба щека легко делаться из пюре',\n",
              " 'виноватый родитель зачинать в пробирка ребенок пугачева грозить рак мозг',\n",
              " 'бабушкин рецепт пельмень получаться действительно вкусно',\n",
              " 'цб казахстан запускать цифровой тенге',\n",
              " 'цб продлять право банк не раскрывать чувствительный к санкция сведение',\n",
              " 'указ вступать в сила пенсионер у который быть стаж год ждать новый сюрприз',\n",
              " 'третьяковка впервые за год открывать выставка работа рерих',\n",
              " 'не выдерживать сердце норкин предпочитать молчать о свой горе',\n",
              " 'домострой что теперь быть учить в российский школа',\n",
              " 'в муравьевский парк приамурье снимать редкий кадр енотовидный собака',\n",
              " 'эксперт исключать версия об ошибка в расчет движение упавший луна',\n",
              " 'ученый заявлять что колебание на луна не повлиять на миссия россия',\n",
              " 'новороссийский боец замечать боевик всу что быть далеко',\n",
              " 'вынужденный подрабатывать главный кинобабушка россия взвывать из за мизерный пенсия',\n",
              " 'как увеличиваться пенсия и какой новый выплата появляться у россиянин в год',\n",
              " 'путин выражать соболезнование из за смерть темирканов',\n",
              " 'в россия создавать легкий бетон со скорлупа кокос',\n",
              " 'полстрана обманываться подруга пугачева выдавать настоящий возраст примадонна',\n",
              " 'секретный рецепт жареный пельмень этот хитрость сделать они хрустеть и вкусный',\n",
              " 'росстат предварительно оценивать рост ввп в квартал в процент',\n",
              " 'эксперт рассказывать об использование атомный станция на спутник будущее',\n",
              " 'этот звезда всегда восхвалять за красота какой становиться в фото',\n",
              " 'в россия придумывать как из микроводоросль получать биоводород',\n",
              " 'медведев называть сумма выручка резидент сколково в год',\n",
              " 'оверчук заявлять что встреча с сша на саммит атэс не планироваться',\n",
              " 'передовой наукоемкий технология представлять на конгресс молодой ученый',\n",
              " 'россиянка цурков признаваться в работа на цру',\n",
              " 'сша осуждать атака с воздух по больница в сектор газа',\n",
              " 'большой проблема в ноябрь глоба не становиться молчать кто касаться',\n",
              " 'рассада вырастать крепкий и здоровый вот где расти это удобрение',\n",
              " 'доктор умнов называть главный опасность самый вкусный часть курица рисковать не стоить',\n",
              " 'израильский военный взрывать здание парламент в сектор газа',\n",
              " 'кончаться любовь галкин внезапно высказываться о пугачева',\n",
              " 'глава россеть докладывать путин о достижение цель объединение с фск',\n",
              " 'количество лед в антарктида уменьшаться до рекордный уровень',\n",
              " 'эксперт эффективность российский препарат от рак мочь достигать',\n",
              " 'российский специалист обнаруживать у мона лиза признак алопеция',\n",
              " 'вологодский экс губернатор кувшинников становиться сенатор',\n",
              " 'израильский посол высказываться насчет ввод сила оон в газ после конфликт',\n",
              " 'в челябинск предотвращать теракт',\n",
              " 'путин на следующий неделя посещать казахстан',\n",
              " 'протестовать в белец потребовать отставка санд',\n",
              " 'вводиться ответственность за совершение никаха между лицо брак который не зарегистрировать',\n",
              " 'посол россия называть фактор обеспечивать стабильность отношение с китай',\n",
              " 'забывать про макароны и гречка самый полезный гарнир о который вы не слышать',\n",
              " 'российский участник астрономический олимпиада в пекин зарабатывать медаль',\n",
              " 'пугачев на кипр не задерживаться вот куда примадонна готовиться снова переезжать',\n",
              " 'платный возврат для покупатель на признавать законный',\n",
              " 'нато раскрывать дальнейший роль италия в большой план',\n",
              " 'подоляк уже объявлять весь мир что твориться на фронт',\n",
              " 'зеленский должный проигрывать запад неожиданно изменять подход к украина',\n",
              " 'к земля приближаться пропадать на год опасный астероид',\n",
              " 'важный помнить погибать в сан франциско русский моряк заявлять оверчук',\n",
              " 'оболгать на весь страна клара новиков вносить ясность в слух о свой пропажа',\n",
              " 'семья заложник хамас начинать марш в иерусалим',\n",
              " 'студент второгодник ВШЭ через суд доказывать право на отсрочка от армия',\n",
              " 'сибирский ученый предлагать новый вид лечение роговица глаз',\n",
              " 'это скрывать советский власть на место посадка самый большой нло твориться чудо',\n",
              " 'на мкс происходить утечка из радиатор на модуль наука',\n",
              " 'в госдума хотеть предоставлять пенсионер льгота на тысяча рубль кто это касаться',\n",
              " 'оверчук возлагать цветок к табличка русский моряк в сан франциско',\n",
              " 'вот что выдавать пугачев про выступление в россия объявлять все',\n",
              " 'в узбекистан быть назначать пенсия автоматически',\n",
              " 'в декабрь быть два большой доплата к пенсия пенсионер объявлять о приятный сюрприз',\n",
              " 'косачев от чествование нацист в канадский парламент содрогаться весь мир',\n",
              " 'компания показывать складной смартфон и',\n",
              " 'логотип национальный знак соответствие в оаэ быть изменять',\n",
              " 'на местный выборы в молдавия отмечать более нарушение',\n",
              " 'что вскрываться о девушка труп который находить в петербург',\n",
              " 'популярность электронный подпись с начало пандемия вырастать в раз',\n",
              " 'сколько должный быть получать грузин за каждый убивать русский',\n",
              " 'минюст анонсировать представление новый коап в год',\n",
              " 'кравцов призывать уделять внимание обновление фонд школьный библиотека',\n",
              " 'волос нет весь в татуировка с этот женщина фрик леонтьев жить много год',\n",
              " 'режиссер митта находиться в реанимация сообщать он помощник',\n",
              " 'ученый рассчитать как тепловой удар влиять на движение спутник',\n",
              " 'надо гнать за что россиянин взъедаться на александров',\n",
              " 'указ подписывать пенсионер у кто пенсия низко рубль ждать новый льгота',\n",
              " 'галкин не становиться скрывать как изменяться его дочь честный фото',\n",
              " 'россия доставлять новый партия гумпомощь для население сектор газа',\n",
              " 'милый только на экран за что коллега бояться олег даль',\n",
              " 'поклонник в шок оценивать как юлия пересильда сменить имидж',\n",
              " 'страна запад дружить между себя чтобы вытеснять россия заявлять песок',\n",
              " 'жизнь после смерть существовать михалков это доказывать',\n",
              " 'российский ученый находить способ предотвращать инфаркт',\n",
              " 'уже с сегодняшний день сбербанк предупреждать все у кто оставаться деньги на карта',\n",
              " 'россия увидеть угроза в этот решение германия',\n",
              " 'правда выходить наружу что раскрываться о журналистка соколовский',\n",
              " 'путин высказываться о нарушение на выборы',\n",
              " 'армия против президент решение зеленский вызывать на украина кризис',\n",
              " 'размер небольшой но хоть так этот сумма поступать весь без исключение пенсионер с октябрь',\n",
              " 'еврокомиссия улучшать прогноз по ввп россия',\n",
              " 'встреча путин с член общественный палата прямой трансляция',\n",
              " 'медведев рассказывать об использование российский технология в экономика',\n",
              " 'особенный дочь лолита производить фурор в сеть фото',\n",
              " 'мгновенный реакция симоньян на обращение к россиянин пугачева',\n",
              " 'поргин готовить к тяжелый операция озвучивать печальный диагноз врач',\n",
              " 'в россия предлагать брать с мигрант тысяча рубль за экзамен по русский',\n",
              " 'год спустя что становиться с россиянка который родиться без рука',\n",
              " 'должный быть примерно тысяча тенге депутат предлагать повышать размер МЗП в казахстан',\n",
              " 'российский ученый находить простой способ побеждать биообрастание водозабор',\n",
              " 'грясти темный время война в палестина останавливать весь сложно',\n",
              " 'в малый театр рассказывать о состояние юрий соломин',\n",
              " 'борисов высказываться о следующий миссия на луна',\n",
              " 'рябков контакт с сша на саммит атэс мочь состояться в тот или иной вид',\n",
              " 'в израиль называть условие окончание операция в сектор газа',\n",
              " 'путин поблагодарить избирком за выдержка и высокий уровень работа',\n",
              " 'си цзиньпина заявлять о надежда на отмена санкция сша',\n",
              " 'количество книжный магазин в россия за четыре год сокращаться на треть',\n",
              " 'расплата за ошибка раскрывать тайна бездетность вайкуле',\n",
              " 'быть тайный свадьба алентов неспроста носить роскошный обручальный кольцо',\n",
              " 'путин заявлять о готовность рф выстраивать взаимодействие с латинский америка',\n",
              " 'потерять здоровье раз и навсегда к что мочь приводить употребление черемуха в пища',\n",
              " 'уже с новый год вот что быть с пенсия россиянин',\n",
              " 'гоша куценко рассказывать о съемка откровенный сцена в фильм',\n",
              " 'выжигать земля ученый рассказывать о последствие лесной пожар',\n",
              " 'креативный директор модный дом умирать в возраст год',\n",
              " 'народный против народ и сво можно ли лишать артист звание и пенсия',\n",
              " 'владимир путин на встреча с ирек файзуллин прямой трансляция',\n",
              " 'называть причина отмена запуск первый японский лунный модуль',\n",
              " 'разнести в труха всу в ожидание мощный наступление вс рф',\n",
              " 'этот еда наносить вред сердце срочно исключать ее из рацион',\n",
              " 'убивать желчный пузырь называть продукт который способствовать развитие хронический панкреатит',\n",
              " 'убивать подруга и ее мать что твориться в зал суд',\n",
              " 'орбита мкс скорректировать для уклонение от космический мусор',\n",
              " 'умирать режиссер дубляж максаков',\n",
              " 'песков прокомментировать слово путин о святой земля',\n",
              " 'не завещание и не продажа дома вот зачем на самый дело пугачев приезжать в россия',\n",
              " 'голиков оценивать снижение уровень безработица в рф с начало х',\n",
              " 'байден в сопровождение десяток машина вернуться в отель',\n",
              " 'становиться известный о неожиданный польза червивый гриб',\n",
              " 'в мид проанализировать итог встреча байден и си цзиньпина',\n",
              " 'эксперт рассказывать о польза внедрение ия в медицина',\n",
              " 'в россия создавать аэростат для поиск месторождение нефть и золото',\n",
              " 'называть возраст женщина когда мужчина она уже не интересный',\n",
              " 'деревянный забор и вид на проезжий часть появляться снимок вилла пугачева на кипр',\n",
              " 'в кремль предупреждать чехия об ответ на заморозок российский актив',\n",
              " 'ничто не мочь сделать в киев забивать тревога из за чп на фронт',\n",
              " 'все умирать в сша испугаться смерть американский солдат из за украина',\n",
              " ...]"
            ]
          },
          "metadata": {},
          "execution_count": 41
        }
      ],
      "source": [
        "train_lem"
      ]
    },
    {
      "cell_type": "markdown",
      "id": "65753cbf",
      "metadata": {
        "id": "65753cbf"
      },
      "source": [
        "А теперь к уже обработанному корпусу применим векторизатор и построим модель."
      ]
    },
    {
      "cell_type": "code",
      "execution_count": 42,
      "id": "617befeb",
      "metadata": {
        "id": "617befeb"
      },
      "outputs": [],
      "source": [
        "tfidf_vectorizer = TfidfVectorizer(stop_words=stop_words)\n",
        "X_train_lem = tfidf_vectorizer.fit_transform(train_lem)\n",
        "X_test_lem = tfidf_vectorizer.transform(test_lem)"
      ]
    },
    {
      "cell_type": "code",
      "execution_count": 43,
      "id": "f27be0c4",
      "metadata": {
        "colab": {
          "base_uri": "https://localhost:8080/",
          "height": 628
        },
        "id": "f27be0c4",
        "outputId": "23ee14f9-1b41-4629-d447-64695f2a73ce"
      },
      "outputs": [
        {
          "output_type": "stream",
          "name": "stdout",
          "text": [
            "              precision    recall  f1-score   support\n",
            "\n",
            "           0       0.88      0.88      0.88       301\n",
            "           1       0.90      0.89      0.89       339\n",
            "\n",
            "    accuracy                           0.89       640\n",
            "   macro avg       0.89      0.89      0.89       640\n",
            "weighted avg       0.89      0.89      0.89       640\n",
            "\n"
          ]
        },
        {
          "output_type": "display_data",
          "data": {
            "text/plain": [
              "<Figure size 640x480 with 2 Axes>"
            ],
            "image/png": "[encoded data removed]"
          },
          "metadata": {}
        }
      ],
      "source": [
        "model = MultinomialNB()\n",
        "model.fit(X_train_lem, y_train)\n",
        "y_pred = model.predict(X_test_lem)\n",
        "metrics(y_test, y_pred)"
      ]
    },
    {
      "cell_type": "markdown",
      "id": "a7f8b527",
      "metadata": {
        "id": "a7f8b527"
      },
      "source": [
        "Результат стал даже чуть хуже, но вспомним об особенностях работы модели и попробуем это исправить. Попробуйте получить лучшие метрики."
      ]
    },
    {
      "cell_type": "code",
      "execution_count": 46,
      "id": "fe5e731b",
      "metadata": {
        "colab": {
          "base_uri": "https://localhost:8080/",
          "height": 628
        },
        "id": "fe5e731b",
        "outputId": "d65182e9-4a48-41c0-c3d5-cceb36c1d2d8"
      },
      "outputs": [
        {
          "output_type": "stream",
          "name": "stdout",
          "text": [
            "              precision    recall  f1-score   support\n",
            "\n",
            "           0       0.88      0.87      0.88       301\n",
            "           1       0.89      0.90      0.89       339\n",
            "\n",
            "    accuracy                           0.89       640\n",
            "   macro avg       0.89      0.89      0.89       640\n",
            "weighted avg       0.89      0.89      0.89       640\n",
            "\n"
          ]
        },
        {
          "output_type": "display_data",
          "data": {
            "text/plain": [
              "<Figure size 640x480 with 2 Axes>"
            ],
            "image/png": "[encoded data removed]"
          },
          "metadata": {}
        }
      ],
      "source": [
        "from sklearn.naive_bayes import MultinomialNB\n",
        "from sklearn.model_selection import GridSearchCV\n",
        "# Настройка параметров для GridSearch\n",
        "param_grid = {\n",
        "    'alpha': [0.1, 0.5, 1.0, 1.5, 2.0]\n",
        "}\n",
        "\n",
        "# Инициализация модели\n",
        "model = MultinomialNB()\n",
        "\n",
        "# Настройка GridSearch для поиска лучших параметров\n",
        "grid_search = GridSearchCV(model, param_grid, cv=5, scoring='f1_macro')\n",
        "grid_search.fit(X_train_lem, y_train)\n",
        "\n",
        "# Получение лучших параметров\n",
        "best_model = grid_search.best_estimator_\n",
        "\n",
        "# Прогнозирование\n",
        "y_pred = best_model.predict(X_test_lem)\n",
        "\n",
        "# Вывод метрик\n",
        "metrics(y_test, y_pred)"
      ]
    },
    {
      "cell_type": "markdown",
      "id": "7b7e4cd3",
      "metadata": {
        "id": "7b7e4cd3"
      },
      "source": [
        "## Logistic Regression\n",
        "\n",
        "---\n",
        "Переходим к следующей модели.\n",
        "\n",
        "Для обучения возьмем данные по диабету."
      ]
    },
    {
      "cell_type": "code",
      "execution_count": 49,
      "id": "ffb8fb94",
      "metadata": {
        "id": "ffb8fb94"
      },
      "outputs": [],
      "source": [
        "diabetes = pd.read_csv('diabetes_dataset.csv')"
      ]
    },
    {
      "cell_type": "code",
      "execution_count": 50,
      "id": "566e2381",
      "metadata": {
        "id": "566e2381"
      },
      "outputs": [],
      "source": [
        "X_train, X_test, y_train, y_test = train_test_split(diabetes.drop(['Outcome'], axis=1), diabetes['Outcome'], test_size=0.2, random_state=42)"
      ]
    },
    {
      "cell_type": "markdown",
      "id": "21b04a6d",
      "metadata": {
        "id": "21b04a6d"
      },
      "source": [
        "Для логистической регрессии обязательно нужно нормализовать данные."
      ]
    },
    {
      "cell_type": "code",
      "execution_count": 51,
      "id": "47253c11",
      "metadata": {
        "id": "47253c11"
      },
      "outputs": [],
      "source": [
        "from sklearn.preprocessing import StandardScaler"
      ]
    },
    {
      "cell_type": "code",
      "execution_count": 52,
      "id": "111c2fcb",
      "metadata": {
        "id": "111c2fcb"
      },
      "outputs": [],
      "source": [
        "scaler = StandardScaler()\n",
        "X_train = scaler.fit_transform(X_train)\n",
        "X_test = scaler.transform(X_test)"
      ]
    },
    {
      "cell_type": "code",
      "execution_count": 53,
      "id": "7556e2ae",
      "metadata": {
        "id": "7556e2ae"
      },
      "outputs": [],
      "source": [
        "from sklearn.linear_model import LogisticRegression"
      ]
    },
    {
      "cell_type": "code",
      "execution_count": 54,
      "id": "6b5f8e56",
      "metadata": {
        "id": "6b5f8e56"
      },
      "outputs": [],
      "source": [
        "clf = LogisticRegression(random_state=42).fit(X_train, y_train)"
      ]
    },
    {
      "cell_type": "code",
      "execution_count": 55,
      "id": "f006a65f",
      "metadata": {
        "colab": {
          "base_uri": "https://localhost:8080/",
          "height": 628
        },
        "id": "f006a65f",
        "outputId": "679176c2-f33e-452e-9ced-b16fc474a066"
      },
      "outputs": [
        {
          "output_type": "stream",
          "name": "stdout",
          "text": [
            "              precision    recall  f1-score   support\n",
            "\n",
            "           0       0.99      1.00      0.99      1275\n",
            "           1       1.00      0.98      0.99       633\n",
            "\n",
            "    accuracy                           0.99      1908\n",
            "   macro avg       0.99      0.99      0.99      1908\n",
            "weighted avg       0.99      0.99      0.99      1908\n",
            "\n"
          ]
        },
        {
          "output_type": "display_data",
          "data": {
            "text/plain": [
              "<Figure size 640x480 with 2 Axes>"
            ],
            "image/png": "[encoded data removed]"
          },
          "metadata": {}
        }
      ],
      "source": [
        "y_pred = clf.predict(X_test)\n",
        "metrics(y_test, y_pred)"
      ]
    },
    {
      "cell_type": "markdown",
      "id": "cbc45a38",
      "metadata": {
        "id": "cbc45a38"
      },
      "source": [
        "Однако, вы помните, что классы в этом датасете несббалансированны, а это не очень хорошо. Но логистическая модель может сама обучаться с поправкой на дисбаланс, главное указать это в аргументах."
      ]
    },
    {
      "cell_type": "code",
      "execution_count": 56,
      "id": "f81378cd",
      "metadata": {
        "id": "f81378cd"
      },
      "outputs": [],
      "source": [
        "clf = LogisticRegression(class_weight='balanced', random_state=42).fit(X_train, y_train)"
      ]
    },
    {
      "cell_type": "code",
      "execution_count": 57,
      "id": "557965cd",
      "metadata": {
        "colab": {
          "base_uri": "https://localhost:8080/",
          "height": 628
        },
        "id": "557965cd",
        "outputId": "1350e53b-fc56-424c-9245-9a747ce1b7ca"
      },
      "outputs": [
        {
          "output_type": "stream",
          "name": "stdout",
          "text": [
            "              precision    recall  f1-score   support\n",
            "\n",
            "           0       0.99      1.00      1.00      1275\n",
            "           1       1.00      0.99      0.99       633\n",
            "\n",
            "    accuracy                           1.00      1908\n",
            "   macro avg       1.00      0.99      0.99      1908\n",
            "weighted avg       1.00      1.00      1.00      1908\n",
            "\n"
          ]
        },
        {
          "output_type": "display_data",
          "data": {
            "text/plain": [
              "<Figure size 640x480 with 2 Axes>"
            ],
            "image/png": "[encoded data removed]"
          },
          "metadata": {}
        }
      ],
      "source": [
        "y_pred = clf.predict(X_test)\n",
        "metrics(y_test, y_pred)"
      ]
    },
    {
      "cell_type": "markdown",
      "id": "83377048",
      "metadata": {
        "id": "83377048"
      },
      "source": [
        "Рассмотрим ещё две метрики, позволяющие оценить качество модели. ROC-кривая и ROC-AUC.\n",
        "\n",
        "---\n",
        "Для построения этих показателей необходимо рассмотреть изменение порога классификации. Поскольку у нас всего два класса, можно рассматривать вероятность получения класса \"1\". По умолчанию порог равен 0.5 - получили значение выше 0.5, класс \"1\", ниже - \"0\".\n",
        "\n",
        "Но этот порог можно изменять. Как будут вести себя точность и полнота, если снизить порог до 0.3? А если повысить до 0.8?\n",
        "\n",
        "У логистической регрессии есть метод `predict_proba`, который автоматически считает вероятности для классов при различном пороге классификации."
      ]
    },
    {
      "cell_type": "code",
      "execution_count": 58,
      "id": "fc8bfee1",
      "metadata": {
        "id": "fc8bfee1"
      },
      "outputs": [],
      "source": [
        "from sklearn.metrics import roc_curve, roc_auc_score"
      ]
    },
    {
      "cell_type": "code",
      "execution_count": 59,
      "id": "37e9005c",
      "metadata": {
        "id": "37e9005c"
      },
      "outputs": [],
      "source": [
        "proba = clf.predict_proba(X_test)\n",
        "proba_one = proba[:, 1]"
      ]
    },
    {
      "cell_type": "code",
      "execution_count": 60,
      "id": "fdb2e6ac",
      "metadata": {
        "colab": {
          "base_uri": "https://localhost:8080/"
        },
        "id": "fdb2e6ac",
        "outputId": "e0bb3004-0fc4-4f1f-fb43-4f391b4f7921"
      },
      "outputs": [
        {
          "output_type": "execute_result",
          "data": {
            "text/plain": [
              "array([[8.78218188e-01, 1.21781812e-01],\n",
              "       [3.10591431e-08, 9.99999969e-01],\n",
              "       [9.94601126e-01, 5.39887441e-03],\n",
              "       ...,\n",
              "       [9.95488567e-01, 4.51143275e-03],\n",
              "       [1.17832488e-06, 9.99998822e-01],\n",
              "       [9.99281435e-01, 7.18565234e-04]])"
            ]
          },
          "metadata": {},
          "execution_count": 60
        }
      ],
      "source": [
        "proba"
      ]
    },
    {
      "cell_type": "code",
      "execution_count": 61,
      "id": "bda8a6fc",
      "metadata": {
        "colab": {
          "base_uri": "https://localhost:8080/"
        },
        "id": "bda8a6fc",
        "outputId": "adce34d7-d2d9-4586-ccdd-3093a1bec732"
      },
      "outputs": [
        {
          "output_type": "execute_result",
          "data": {
            "text/plain": [
              "array([1.21781812e-01, 9.99999969e-01, 5.39887441e-03, ...,\n",
              "       4.51143275e-03, 9.99998822e-01, 7.18565234e-04])"
            ]
          },
          "metadata": {},
          "execution_count": 61
        }
      ],
      "source": [
        "proba_one"
      ]
    },
    {
      "cell_type": "markdown",
      "id": "db888508",
      "metadata": {
        "id": "db888508"
      },
      "source": [
        "Нам нужны два важных значения. Вспомним матрицу ошибок\n",
        "\n",
        "---\n",
        "|           | Predicted: 0 | Predicted:1 |\n",
        "|-----------|:------------:|:-----------:|\n",
        "| Actual: 0 | TN           | FP          |\n",
        "| Actual: 1 | FN           | TP          |\n",
        "\n",
        "---\n",
        "$TPR = \\frac{TP}{TP+FN}$\n",
        "\n",
        "$FPR = \\frac{FP}{FP+TN}$\n",
        "\n",
        "Что отражают TPR и FPR?"
      ]
    },
    {
      "cell_type": "code",
      "execution_count": 62,
      "id": "a54234fa",
      "metadata": {
        "id": "a54234fa"
      },
      "outputs": [],
      "source": [
        "fpr, tpr, thresholds = roc_curve(y_test, proba_one)"
      ]
    },
    {
      "cell_type": "code",
      "execution_count": 63,
      "id": "2366b68f",
      "metadata": {
        "colab": {
          "base_uri": "https://localhost:8080/",
          "height": 489
        },
        "id": "2366b68f",
        "outputId": "8d4a2f13-f7bf-42cc-d51b-e7aee910230b"
      },
      "outputs": [
        {
          "output_type": "execute_result",
          "data": {
            "text/plain": [
              "Text(0.5, 1.0, 'ROC-кривая')"
            ]
          },
          "metadata": {},
          "execution_count": 63
        },
        {
          "output_type": "display_data",
          "data": {
            "text/plain": [
              "<Figure size 640x480 with 1 Axes>"
            ],
            "image/png": "[encoded data removed]"
          },
          "metadata": {}
        }
      ],
      "source": [
        "plt.figure()\n",
        "plt.plot(fpr, tpr)\n",
        "\n",
        "# ROC-кривая случайной модели (выглядит как прямая)\n",
        "plt.plot([0, 1], [0, 1], linestyle='--')\n",
        "\n",
        "plt.xlim([0, 1])\n",
        "plt.ylim([0, 1])\n",
        "\n",
        "plt.xlabel('False Positive Rate')\n",
        "plt.ylabel('True Positive Rate')\n",
        "plt.title('ROC-кривая')"
      ]
    },
    {
      "cell_type": "markdown",
      "id": "a257e91b",
      "metadata": {
        "id": "a257e91b"
      },
      "source": [
        "Для данной модели ROC-кривая почти идеальна, это замечательно. А метрика AUC-ROC - это площадь под ROC-кривой."
      ]
    },
    {
      "cell_type": "code",
      "execution_count": 64,
      "id": "51722b88",
      "metadata": {
        "colab": {
          "base_uri": "https://localhost:8080/"
        },
        "id": "51722b88",
        "outputId": "5176e4cd-cb57-40ff-e6ab-7d6d296db313"
      },
      "outputs": [
        {
          "output_type": "stream",
          "name": "stdout",
          "text": [
            "AUC-ROC: 0.993686460366137\n"
          ]
        }
      ],
      "source": [
        "auc_roc = roc_auc_score(y_test, y_pred)\n",
        "print('AUC-ROC:',auc_roc)"
      ]
    },
    {
      "cell_type": "code",
      "execution_count": null,
      "id": "8b5a898e",
      "metadata": {
        "id": "8b5a898e"
      },
      "outputs": [],
      "source": []
    },
    {
      "cell_type": "markdown",
      "id": "8481b98b",
      "metadata": {
        "id": "8481b98b"
      },
      "source": [
        "## Random Forest\n",
        "\n",
        "---\n",
        "Переходим к ансамблевому методу обучения.\n",
        "\n",
        "Что такое ансамбль? Нет, не песни и пляски, а применительно к нашей теме.\n",
        "\n",
        "> Ансамблевый метод - метод машинного обучения, где несколько моделей обучаются для решения одной и той же проблемы и объединяются для получения лучших результатов.\n",
        "\n",
        "---\n",
        "Есть два наиболее популярных класса ансаблевых методов: бэггинг и бустинг. О первом мы поговорим сейчас, а второй оставим на будущие темы.\n",
        "\n",
        "> Бэггинг (от англ. bootstrap aggregating, бутстрэп-агрегирование) — ансамблевый метаалгоритм, предназначенный для улучшения стабильности и точности алгоритмов машинного обучения, используемых в задачах классификации и регрессии. Алгоритм также уменьшает дисперсию и помогает избежать переобучения.\n",
        "\n",
        "Если задан стандартный тренировочный набор $D$ размера $n$, бэггинг образует $m$ новых тренировочных наборов $D_i$, каждый размером $n′$, путём выборки из $D$ равномерно и с возвратом. При семплинге с возвратом некоторые наблюдения могут быть повторены в каждой $D_i$. Этот вид семплинга известен как бутстрэп-семплинг. Эти $m$ моделей сглаживаются с помощью вышеупомянутых $m$ бутстрэп-выборок и комбинируются путём усреднения (для регрессии) или голосования (для классификации).\n",
        "\n",
        "---\n",
        "Именно так и устроен случайный лес. Но прежде чем обратиться к обучению моделей, пара слов о подготовке данных и выборе признаков. Используем всё те же данные по диабету."
      ]
    },
    {
      "cell_type": "code",
      "execution_count": 65,
      "id": "eede9724",
      "metadata": {
        "colab": {
          "base_uri": "https://localhost:8080/",
          "height": 424
        },
        "id": "eede9724",
        "outputId": "632db9d4-8b07-4810-c77e-947e5bdd8a6f"
      },
      "outputs": [
        {
          "output_type": "execute_result",
          "data": {
            "text/plain": [
              "      Age  Pregnancies    BMI  Glucose  BloodPressure  HbA1c    LDL   HDL  \\\n",
              "0      69            5  28.39    130.1           77.0    5.4  130.4  44.0   \n",
              "1      32            1  26.49    116.5           72.0    4.5   87.4  54.2   \n",
              "2      89           13  25.34    101.0           82.0    4.9  112.5  56.8   \n",
              "3      78           13  29.91    146.0          104.0    5.7   50.7  39.1   \n",
              "4      38            8  24.56    103.2           74.0    4.7  102.5  29.1   \n",
              "...   ...          ...    ...      ...            ...    ...    ...   ...   \n",
              "9533   32            3  23.00    102.3           62.0    4.1  109.3  47.8   \n",
              "9534   74            0  24.29    125.8           93.0    5.3   95.8  66.6   \n",
              "9535   75            6  26.10    107.6           75.0    5.0  168.5  62.3   \n",
              "9536   52            1  25.88     99.3           96.0    4.6   70.0  48.4   \n",
              "9537   33            3  25.61     69.1           65.0    4.0   69.0  59.4   \n",
              "\n",
              "      Triglycerides  WaistCircumference  HipCircumference   WHR  \\\n",
              "0              50.0                90.5             107.9  0.84   \n",
              "1             129.9               113.3              81.4  1.39   \n",
              "2             177.6                84.7             107.2  0.79   \n",
              "3             117.0               108.9             110.0  0.99   \n",
              "4             145.9                84.1              92.8  0.91   \n",
              "...             ...                 ...               ...   ...   \n",
              "9533           76.7                86.8             115.0  0.75   \n",
              "9534          103.7                90.1              94.3  0.96   \n",
              "9535          149.8                84.0             114.9  0.73   \n",
              "9536          122.9                97.5              88.7  1.10   \n",
              "9537          169.5                79.7             101.1  0.79   \n",
              "\n",
              "      FamilyHistory  DietType  Hypertension  MedicationUse  Outcome  \n",
              "0                 0         0             0              1        0  \n",
              "1                 0         0             0              0        0  \n",
              "2                 0         0             0              1        0  \n",
              "3                 0         0             0              1        1  \n",
              "4                 0         1             0              0        0  \n",
              "...             ...       ...           ...            ...      ...  \n",
              "9533              0         0             0              0        0  \n",
              "9534              1         0             0              1        1  \n",
              "9535              0         0             0              1        0  \n",
              "9536              1         0             0              0        1  \n",
              "9537              0         1             0              0        0  \n",
              "\n",
              "[9538 rows x 17 columns]"
            ],
            "text/html": [
              "\n",
              "  <div id=\"df-5ecfca28-e29d-46c5-ace9-830c37b6d072\" class=\"colab-df-container\">\n",
              "    <div>\n",
              "<style scoped>\n",
              "    .dataframe tbody tr th:only-of-type {\n",
              "        vertical-align: middle;\n",
              "    }\n",
              "\n",
              "    .dataframe tbody tr th {\n",
              "        vertical-align: top;\n",
              "    }\n",
              "\n",
              "    .dataframe thead th {\n",
              "        text-align: right;\n",
              "    }\n",
              "</style>\n",
              "<table border=\"1\" class=\"dataframe\">\n",
              "  <thead>\n",
              "    <tr style=\"text-align: right;\">\n",
              "      <th></th>\n",
              "      <th>Age</th>\n",
              "      <th>Pregnancies</th>\n",
              "      <th>BMI</th>\n",
              "      <th>Glucose</th>\n",
              "      <th>BloodPressure</th>\n",
              "      <th>HbA1c</th>\n",
              "      <th>LDL</th>\n",
              "      <th>HDL</th>\n",
              "      <th>Triglycerides</th>\n",
              "      <th>WaistCircumference</th>\n",
              "      <th>HipCircumference</th>\n",
              "      <th>WHR</th>\n",
              "      <th>FamilyHistory</th>\n",
              "      <th>DietType</th>\n",
              "      <th>Hypertension</th>\n",
              "      <th>MedicationUse</th>\n",
              "      <th>Outcome</th>\n",
              "    </tr>\n",
              "  </thead>\n",
              "  <tbody>\n",
              "    <tr>\n",
              "      <th>0</th>\n",
              "      <td>69</td>\n",
              "      <td>5</td>\n",
              "      <td>28.39</td>\n",
              "      <td>130.1</td>\n",
              "      <td>77.0</td>\n",
              "      <td>5.4</td>\n",
              "      <td>130.4</td>\n",
              "      <td>44.0</td>\n",
              "      <td>50.0</td>\n",
              "      <td>90.5</td>\n",
              "      <td>107.9</td>\n",
              "      <td>0.84</td>\n",
              "      <td>0</td>\n",
              "      <td>0</td>\n",
              "      <td>0</td>\n",
              "      <td>1</td>\n",
              "      <td>0</td>\n",
              "    </tr>\n",
              "    <tr>\n",
              "      <th>1</th>\n",
              "      <td>32</td>\n",
              "      <td>1</td>\n",
              "      <td>26.49</td>\n",
              "      <td>116.5</td>\n",
              "      <td>72.0</td>\n",
              "      <td>4.5</td>\n",
              "      <td>87.4</td>\n",
              "      <td>54.2</td>\n",
              "      <td>129.9</td>\n",
              "      <td>113.3</td>\n",
              "      <td>81.4</td>\n",
              "      <td>1.39</td>\n",
              "      <td>0</td>\n",
              "      <td>0</td>\n",
              "      <td>0</td>\n",
              "      <td>0</td>\n",
              "      <td>0</td>\n",
              "    </tr>\n",
              "    <tr>\n",
              "      <th>2</th>\n",
              "      <td>89</td>\n",
              "      <td>13</td>\n",
              "      <td>25.34</td>\n",
              "      <td>101.0</td>\n",
              "      <td>82.0</td>\n",
              "      <td>4.9</td>\n",
              "      <td>112.5</td>\n",
              "      <td>56.8</td>\n",
              "      <td>177.6</td>\n",
              "      <td>84.7</td>\n",
              "      <td>107.2</td>\n",
              "      <td>0.79</td>\n",
              "      <td>0</td>\n",
              "      <td>0</td>\n",
              "      <td>0</td>\n",
              "      <td>1</td>\n",
              "      <td>0</td>\n",
              "    </tr>\n",
              "    <tr>\n",
              "      <th>3</th>\n",
              "      <td>78</td>\n",
              "      <td>13</td>\n",
              "      <td>29.91</td>\n",
              "      <td>146.0</td>\n",
              "      <td>104.0</td>\n",
              "      <td>5.7</td>\n",
              "      <td>50.7</td>\n",
              "      <td>39.1</td>\n",
              "      <td>117.0</td>\n",
              "      <td>108.9</td>\n",
              "      <td>110.0</td>\n",
              "      <td>0.99</td>\n",
              "      <td>0</td>\n",
              "      <td>0</td>\n",
              "      <td>0</td>\n",
              "      <td>1</td>\n",
              "      <td>1</td>\n",
              "    </tr>\n",
              "    <tr>\n",
              "      <th>4</th>\n",
              "      <td>38</td>\n",
              "      <td>8</td>\n",
              "      <td>24.56</td>\n",
              "      <td>103.2</td>\n",
              "      <td>74.0</td>\n",
              "      <td>4.7</td>\n",
              "      <td>102.5</td>\n",
              "      <td>29.1</td>\n",
              "      <td>145.9</td>\n",
              "      <td>84.1</td>\n",
              "      <td>92.8</td>\n",
              "      <td>0.91</td>\n",
              "      <td>0</td>\n",
              "      <td>1</td>\n",
              "      <td>0</td>\n",
              "      <td>0</td>\n",
              "      <td>0</td>\n",
              "    </tr>\n",
              "    <tr>\n",
              "      <th>...</th>\n",
              "      <td>...</td>\n",
              "      <td>...</td>\n",
              "      <td>...</td>\n",
              "      <td>...</td>\n",
              "      <td>...</td>\n",
              "      <td>...</td>\n",
              "      <td>...</td>\n",
              "      <td>...</td>\n",
              "      <td>...</td>\n",
              "      <td>...</td>\n",
              "      <td>...</td>\n",
              "      <td>...</td>\n",
              "      <td>...</td>\n",
              "      <td>...</td>\n",
              "      <td>...</td>\n",
              "      <td>...</td>\n",
              "      <td>...</td>\n",
              "    </tr>\n",
              "    <tr>\n",
              "      <th>9533</th>\n",
              "      <td>32</td>\n",
              "      <td>3</td>\n",
              "      <td>23.00</td>\n",
              "      <td>102.3</td>\n",
              "      <td>62.0</td>\n",
              "      <td>4.1</td>\n",
              "      <td>109.3</td>\n",
              "      <td>47.8</td>\n",
              "      <td>76.7</td>\n",
              "      <td>86.8</td>\n",
              "      <td>115.0</td>\n",
              "      <td>0.75</td>\n",
              "      <td>0</td>\n",
              "      <td>0</td>\n",
              "      <td>0</td>\n",
              "      <td>0</td>\n",
              "      <td>0</td>\n",
              "    </tr>\n",
              "    <tr>\n",
              "      <th>9534</th>\n",
              "      <td>74</td>\n",
              "      <td>0</td>\n",
              "      <td>24.29</td>\n",
              "      <td>125.8</td>\n",
              "      <td>93.0</td>\n",
              "      <td>5.3</td>\n",
              "      <td>95.8</td>\n",
              "      <td>66.6</td>\n",
              "      <td>103.7</td>\n",
              "      <td>90.1</td>\n",
              "      <td>94.3</td>\n",
              "      <td>0.96</td>\n",
              "      <td>1</td>\n",
              "      <td>0</td>\n",
              "      <td>0</td>\n",
              "      <td>1</td>\n",
              "      <td>1</td>\n",
              "    </tr>\n",
              "    <tr>\n",
              "      <th>9535</th>\n",
              "      <td>75</td>\n",
              "      <td>6</td>\n",
              "      <td>26.10</td>\n",
              "      <td>107.6</td>\n",
              "      <td>75.0</td>\n",
              "      <td>5.0</td>\n",
              "      <td>168.5</td>\n",
              "      <td>62.3</td>\n",
              "      <td>149.8</td>\n",
              "      <td>84.0</td>\n",
              "      <td>114.9</td>\n",
              "      <td>0.73</td>\n",
              "      <td>0</td>\n",
              "      <td>0</td>\n",
              "      <td>0</td>\n",
              "      <td>1</td>\n",
              "      <td>0</td>\n",
              "    </tr>\n",
              "    <tr>\n",
              "      <th>9536</th>\n",
              "      <td>52</td>\n",
              "      <td>1</td>\n",
              "      <td>25.88</td>\n",
              "      <td>99.3</td>\n",
              "      <td>96.0</td>\n",
              "      <td>4.6</td>\n",
              "      <td>70.0</td>\n",
              "      <td>48.4</td>\n",
              "      <td>122.9</td>\n",
              "      <td>97.5</td>\n",
              "      <td>88.7</td>\n",
              "      <td>1.10</td>\n",
              "      <td>1</td>\n",
              "      <td>0</td>\n",
              "      <td>0</td>\n",
              "      <td>0</td>\n",
              "      <td>1</td>\n",
              "    </tr>\n",
              "    <tr>\n",
              "      <th>9537</th>\n",
              "      <td>33</td>\n",
              "      <td>3</td>\n",
              "      <td>25.61</td>\n",
              "      <td>69.1</td>\n",
              "      <td>65.0</td>\n",
              "      <td>4.0</td>\n",
              "      <td>69.0</td>\n",
              "      <td>59.4</td>\n",
              "      <td>169.5</td>\n",
              "      <td>79.7</td>\n",
              "      <td>101.1</td>\n",
              "      <td>0.79</td>\n",
              "      <td>0</td>\n",
              "      <td>1</td>\n",
              "      <td>0</td>\n",
              "      <td>0</td>\n",
              "      <td>0</td>\n",
              "    </tr>\n",
              "  </tbody>\n",
              "</table>\n",
              "<p>9538 rows × 17 columns</p>\n",
              "</div>\n",
              "    <div class=\"colab-df-buttons\">\n",
              "\n",
              "  <div class=\"colab-df-container\">\n",
              "    <button class=\"colab-df-convert\" onclick=\"convertToInteractive('df-5ecfca28-e29d-46c5-ace9-830c37b6d072')\"\n",
              "            title=\"Convert this dataframe to an interactive table.\"\n",
              "            style=\"display:none;\">\n",
              "\n",
              "  <svg xmlns=\"http://www.w3.org/2000/svg\" height=\"24px\" viewBox=\"0 -960 960 960\">\n",
              "    <path d=\"M120-120v-720h720v720H120Zm60-500h600v-160H180v160Zm220 220h160v-160H400v160Zm0 220h160v-160H400v160ZM180-400h160v-160H180v160Zm440 0h160v-160H620v160ZM180-180h160v-160H180v160Zm440 0h160v-160H620v160Z\"/>\n",
              "  </svg>\n",
              "    </button>\n",
              "\n",
              "  <style>\n",
              "    .colab-df-container {\n",
              "      display:flex;\n",
              "      gap: 12px;\n",
              "    }\n",
              "\n",
              "    .colab-df-convert {\n",
              "      background-color: #E8F0FE;\n",
              "      border: none;\n",
              "      border-radius: 50%;\n",
              "      cursor: pointer;\n",
              "      display: none;\n",
              "      fill: #1967D2;\n",
              "      height: 32px;\n",
              "      padding: 0 0 0 0;\n",
              "      width: 32px;\n",
              "    }\n",
              "\n",
              "    .colab-df-convert:hover {\n",
              "      background-color: #E2EBFA;\n",
              "      box-shadow: 0px 1px 2px rgba(60, 64, 67, 0.3), 0px 1px 3px 1px rgba(60, 64, 67, 0.15);\n",
              "      fill: #174EA6;\n",
              "    }\n",
              "\n",
              "    .colab-df-buttons div {\n",
              "      margin-bottom: 4px;\n",
              "    }\n",
              "\n",
              "    [theme=dark] .colab-df-convert {\n",
              "      background-color: #3B4455;\n",
              "      fill: #D2E3FC;\n",
              "    }\n",
              "\n",
              "    [theme=dark] .colab-df-convert:hover {\n",
              "      background-color: #434B5C;\n",
              "      box-shadow: 0px 1px 3px 1px rgba(0, 0, 0, 0.15);\n",
              "      filter: drop-shadow(0px 1px 2px rgba(0, 0, 0, 0.3));\n",
              "      fill: #FFFFFF;\n",
              "    }\n",
              "  </style>\n",
              "\n",
              "    <script>\n",
              "      const buttonEl =\n",
              "        document.querySelector('#df-5ecfca28-e29d-46c5-ace9-830c37b6d072 button.colab-df-convert');\n",
              "      buttonEl.style.display =\n",
              "        google.colab.kernel.accessAllowed ? 'block' : 'none';\n",
              "\n",
              "      async function convertToInteractive(key) {\n",
              "        const element = document.querySelector('#df-5ecfca28-e29d-46c5-ace9-830c37b6d072');\n",
              "        const dataTable =\n",
              "          await google.colab.kernel.invokeFunction('convertToInteractive',\n",
              "                                                    [key], {});\n",
              "        if (!dataTable) return;\n",
              "\n",
              "        const docLinkHtml = 'Like what you see? Visit the ' +\n",
              "          '<a target=\"_blank\" href=https://colab.research.google.com/notebooks/data_table.ipynb>data table notebook</a>'\n",
              "          + ' to learn more about interactive tables.';\n",
              "        element.innerHTML = '';\n",
              "        dataTable['output_type'] = 'display_data';\n",
              "        await google.colab.output.renderOutput(dataTable, element);\n",
              "        const docLink = document.createElement('div');\n",
              "        docLink.innerHTML = docLinkHtml;\n",
              "        element.appendChild(docLink);\n",
              "      }\n",
              "    </script>\n",
              "  </div>\n",
              "\n",
              "\n",
              "<div id=\"df-cb4513eb-b94f-4460-9869-89d69c9c9e1f\">\n",
              "  <button class=\"colab-df-quickchart\" onclick=\"quickchart('df-cb4513eb-b94f-4460-9869-89d69c9c9e1f')\"\n",
              "            title=\"Suggest charts\"\n",
              "            style=\"display:none;\">\n",
              "\n",
              "<svg xmlns=\"http://www.w3.org/2000/svg\" height=\"24px\"viewBox=\"0 0 24 24\"\n",
              "     width=\"24px\">\n",
              "    <g>\n",
              "        <path d=\"M19 3H5c-1.1 0-2 .9-2 2v14c0 1.1.9 2 2 2h14c1.1 0 2-.9 2-2V5c0-1.1-.9-2-2-2zM9 17H7v-7h2v7zm4 0h-2V7h2v10zm4 0h-2v-4h2v4z\"/>\n",
              "    </g>\n",
              "</svg>\n",
              "  </button>\n",
              "\n",
              "<style>\n",
              "  .colab-df-quickchart {\n",
              "      --bg-color: #E8F0FE;\n",
              "      --fill-color: #1967D2;\n",
              "      --hover-bg-color: #E2EBFA;\n",
              "      --hover-fill-color: #174EA6;\n",
              "      --disabled-fill-color: #AAA;\n",
              "      --disabled-bg-color: #DDD;\n",
              "  }\n",
              "\n",
              "  [theme=dark] .colab-df-quickchart {\n",
              "      --bg-color: #3B4455;\n",
              "      --fill-color: #D2E3FC;\n",
              "      --hover-bg-color: #434B5C;\n",
              "      --hover-fill-color: #FFFFFF;\n",
              "      --disabled-bg-color: #3B4455;\n",
              "      --disabled-fill-color: #666;\n",
              "  }\n",
              "\n",
              "  .colab-df-quickchart {\n",
              "    background-color: var(--bg-color);\n",
              "    border: none;\n",
              "    border-radius: 50%;\n",
              "    cursor: pointer;\n",
              "    display: none;\n",
              "    fill: var(--fill-color);\n",
              "    height: 32px;\n",
              "    padding: 0;\n",
              "    width: 32px;\n",
              "  }\n",
              "\n",
              "  .colab-df-quickchart:hover {\n",
              "    background-color: var(--hover-bg-color);\n",
              "    box-shadow: 0 1px 2px rgba(60, 64, 67, 0.3), 0 1px 3px 1px rgba(60, 64, 67, 0.15);\n",
              "    fill: var(--button-hover-fill-color);\n",
              "  }\n",
              "\n",
              "  .colab-df-quickchart-complete:disabled,\n",
              "  .colab-df-quickchart-complete:disabled:hover {\n",
              "    background-color: var(--disabled-bg-color);\n",
              "    fill: var(--disabled-fill-color);\n",
              "    box-shadow: none;\n",
              "  }\n",
              "\n",
              "  .colab-df-spinner {\n",
              "    border: 2px solid var(--fill-color);\n",
              "    border-color: transparent;\n",
              "    border-bottom-color: var(--fill-color);\n",
              "    animation:\n",
              "      spin 1s steps(1) infinite;\n",
              "  }\n",
              "\n",
              "  @keyframes spin {\n",
              "    0% {\n",
              "      border-color: transparent;\n",
              "      border-bottom-color: var(--fill-color);\n",
              "      border-left-color: var(--fill-color);\n",
              "    }\n",
              "    20% {\n",
              "      border-color: transparent;\n",
              "      border-left-color: var(--fill-color);\n",
              "      border-top-color: var(--fill-color);\n",
              "    }\n",
              "    30% {\n",
              "      border-color: transparent;\n",
              "      border-left-color: var(--fill-color);\n",
              "      border-top-color: var(--fill-color);\n",
              "      border-right-color: var(--fill-color);\n",
              "    }\n",
              "    40% {\n",
              "      border-color: transparent;\n",
              "      border-right-color: var(--fill-color);\n",
              "      border-top-color: var(--fill-color);\n",
              "    }\n",
              "    60% {\n",
              "      border-color: transparent;\n",
              "      border-right-color: var(--fill-color);\n",
              "    }\n",
              "    80% {\n",
              "      border-color: transparent;\n",
              "      border-right-color: var(--fill-color);\n",
              "      border-bottom-color: var(--fill-color);\n",
              "    }\n",
              "    90% {\n",
              "      border-color: transparent;\n",
              "      border-bottom-color: var(--fill-color);\n",
              "    }\n",
              "  }\n",
              "</style>\n",
              "\n",
              "  <script>\n",
              "    async function quickchart(key) {\n",
              "      const quickchartButtonEl =\n",
              "        document.querySelector('#' + key + ' button');\n",
              "      quickchartButtonEl.disabled = true;  // To prevent multiple clicks.\n",
              "      quickchartButtonEl.classList.add('colab-df-spinner');\n",
              "      try {\n",
              "        const charts = await google.colab.kernel.invokeFunction(\n",
              "            'suggestCharts', [key], {});\n",
              "      } catch (error) {\n",
              "        console.error('Error during call to suggestCharts:', error);\n",
              "      }\n",
              "      quickchartButtonEl.classList.remove('colab-df-spinner');\n",
              "      quickchartButtonEl.classList.add('colab-df-quickchart-complete');\n",
              "    }\n",
              "    (() => {\n",
              "      let quickchartButtonEl =\n",
              "        document.querySelector('#df-cb4513eb-b94f-4460-9869-89d69c9c9e1f button');\n",
              "      quickchartButtonEl.style.display =\n",
              "        google.colab.kernel.accessAllowed ? 'block' : 'none';\n",
              "    })();\n",
              "  </script>\n",
              "</div>\n",
              "    </div>\n",
              "  </div>\n"
            ],
            "application/vnd.google.colaboratory.intrinsic+json": {
              "type": "dataframe",
              "variable_name": "diabetes",
              "summary": "{\n  \"name\": \"diabetes\",\n  \"rows\": 9538,\n  \"fields\": [\n    {\n      \"column\": \"Age\",\n      \"properties\": {\n        \"dtype\": \"number\",\n        \"std\": 20,\n        \"min\": 18,\n        \"max\": 89,\n        \"num_unique_values\": 72,\n        \"samples\": [\n          38,\n          85,\n          59\n        ],\n        \"semantic_type\": \"\",\n        \"description\": \"\"\n      }\n    },\n    {\n      \"column\": \"Pregnancies\",\n      \"properties\": {\n        \"dtype\": \"number\",\n        \"std\": 4,\n        \"min\": 0,\n        \"max\": 16,\n        \"num_unique_values\": 17,\n        \"samples\": [\n          5,\n          1,\n          16\n        ],\n        \"semantic_type\": \"\",\n        \"description\": \"\"\n      }\n    },\n    {\n      \"column\": \"BMI\",\n      \"properties\": {\n        \"dtype\": \"number\",\n        \"std\": 5.927954732374203,\n        \"min\": 15.0,\n        \"max\": 49.66,\n        \"num_unique_values\": 2378,\n        \"samples\": [\n          36.05,\n          22.71,\n          29.48\n        ],\n        \"semantic_type\": \"\",\n        \"description\": \"\"\n      }\n    },\n    {\n      \"column\": \"Glucose\",\n      \"properties\": {\n        \"dtype\": \"number\",\n        \"std\": 21.918589644226522,\n        \"min\": 50.0,\n        \"max\": 207.2,\n        \"num_unique_values\": 1098,\n        \"samples\": [\n          143.6,\n          106.0,\n          133.3\n        ],\n        \"semantic_type\": \"\",\n        \"description\": \"\"\n      }\n    },\n    {\n      \"column\": \"BloodPressure\",\n      \"properties\": {\n        \"dtype\": \"number\",\n        \"std\": 14.12347957887136,\n        \"min\": 60.0,\n        \"max\": 138.0,\n        \"num_unique_values\": 77,\n        \"samples\": [\n          74.0,\n          85.0,\n          93.0\n        ],\n        \"semantic_type\": \"\",\n        \"description\": \"\"\n      }\n    },\n    {\n      \"column\": \"HbA1c\",\n      \"properties\": {\n        \"dtype\": \"number\",\n        \"std\": 0.4763947518652073,\n        \"min\": 4.0,\n        \"max\": 6.9,\n        \"num_unique_values\": 28,\n        \"samples\": [\n          4.1,\n          6.5,\n          5.2\n        ],\n        \"semantic_type\": \"\",\n        \"description\": \"\"\n      }\n    },\n    {\n      \"column\": \"LDL\",\n      \"properties\": {\n        \"dtype\": \"number\",\n        \"std\": 29.911909664230937,\n        \"min\": -12.0,\n        \"max\": 202.2,\n        \"num_unique_values\": 1457,\n        \"samples\": [\n          139.9,\n          55.0,\n          104.5\n        ],\n        \"semantic_type\": \"\",\n        \"description\": \"\"\n      }\n    },\n    {\n      \"column\": \"HDL\",\n      \"properties\": {\n        \"dtype\": \"number\",\n        \"std\": 15.242193544329657,\n        \"min\": -9.2,\n        \"max\": 107.8,\n        \"num_unique_values\": 832,\n        \"samples\": [\n          36.5,\n          101.8,\n          54.0\n        ],\n        \"semantic_type\": \"\",\n        \"description\": \"\"\n      }\n    },\n    {\n      \"column\": \"Triglycerides\",\n      \"properties\": {\n        \"dtype\": \"number\",\n        \"std\": 48.951627346960535,\n        \"min\": 50.0,\n        \"max\": 345.8,\n        \"num_unique_values\": 2046,\n        \"samples\": [\n          129.2,\n          196.4,\n          112.7\n        ],\n        \"semantic_type\": \"\",\n        \"description\": \"\"\n      }\n    },\n    {\n      \"column\": \"WaistCircumference\",\n      \"properties\": {\n        \"dtype\": \"number\",\n        \"std\": 15.59446839415095,\n        \"min\": 40.3,\n        \"max\": 163.0,\n        \"num_unique_values\": 839,\n        \"samples\": [\n          94.0,\n          139.3,\n          81.1\n        ],\n        \"semantic_type\": \"\",\n        \"description\": \"\"\n      }\n    },\n    {\n      \"column\": \"HipCircumference\",\n      \"properties\": {\n        \"dtype\": \"number\",\n        \"std\": 13.438826909111093,\n        \"min\": 54.8,\n        \"max\": 156.6,\n        \"num_unique_values\": 742,\n        \"samples\": [\n          105.1,\n          96.5,\n          88.5\n        ],\n        \"semantic_type\": \"\",\n        \"description\": \"\"\n      }\n    },\n    {\n      \"column\": \"WHR\",\n      \"properties\": {\n        \"dtype\": \"number\",\n        \"std\": 0.14082804481695735,\n        \"min\": 0.42,\n        \"max\": 1.49,\n        \"num_unique_values\": 102,\n        \"samples\": [\n          0.98,\n          0.49,\n          0.64\n        ],\n        \"semantic_type\": \"\",\n        \"description\": \"\"\n      }\n    },\n    {\n      \"column\": \"FamilyHistory\",\n      \"properties\": {\n        \"dtype\": \"number\",\n        \"std\": 0,\n        \"min\": 0,\n        \"max\": 1,\n        \"num_unique_values\": 2,\n        \"samples\": [\n          1,\n          0\n        ],\n        \"semantic_type\": \"\",\n        \"description\": \"\"\n      }\n    },\n    {\n      \"column\": \"DietType\",\n      \"properties\": {\n        \"dtype\": \"number\",\n        \"std\": 0,\n        \"min\": 0,\n        \"max\": 2,\n        \"num_unique_values\": 3,\n        \"samples\": [\n          0,\n          1\n        ],\n        \"semantic_type\": \"\",\n        \"description\": \"\"\n      }\n    },\n    {\n      \"column\": \"Hypertension\",\n      \"properties\": {\n        \"dtype\": \"number\",\n        \"std\": 0,\n        \"min\": 0,\n        \"max\": 1,\n        \"num_unique_values\": 2,\n        \"samples\": [\n          1,\n          0\n        ],\n        \"semantic_type\": \"\",\n        \"description\": \"\"\n      }\n    },\n    {\n      \"column\": \"MedicationUse\",\n      \"properties\": {\n        \"dtype\": \"number\",\n        \"std\": 0,\n        \"min\": 0,\n        \"max\": 1,\n        \"num_unique_values\": 2,\n        \"samples\": [\n          0,\n          1\n        ],\n        \"semantic_type\": \"\",\n        \"description\": \"\"\n      }\n    },\n    {\n      \"column\": \"Outcome\",\n      \"properties\": {\n        \"dtype\": \"number\",\n        \"std\": 0,\n        \"min\": 0,\n        \"max\": 1,\n        \"num_unique_values\": 2,\n        \"samples\": [\n          1,\n          0\n        ],\n        \"semantic_type\": \"\",\n        \"description\": \"\"\n      }\n    }\n  ]\n}"
            }
          },
          "metadata": {},
          "execution_count": 65
        }
      ],
      "source": [
        "diabetes"
      ]
    },
    {
      "cell_type": "markdown",
      "id": "8e3cfa9e",
      "metadata": {
        "id": "8e3cfa9e"
      },
      "source": [
        "Конечно, мы схитрим и изначально не будем использовать признак `FamilyHistory`, чтобы заведемо снизить качество модели.\n",
        "\n",
        "Но у нас остаётся ещё 15 признаков. Да, это не так уж много, это не 200 признаков, когда их число точно хочется сократить. Но иногда и при небольшом количестве признаков стоит подумать и, возможно, от чего-то избавиться.\n",
        "\n",
        "Один из простых шагов - убрать сильно коррелированные переменные.\n",
        "\n",
        "Сильно коррелированные друг с другом переменные дают модели одну и ту же информацию, следовательно, для анализа не нужно использовать их все. Например, если набор данных (dataset) содержит признаки «Время в сети» и «Использованный трафик», можно предположить, что они будут в некоторой степени коррелированы, и мы увидим сильную корреляцию, даже если выберем непредвзятый образец данных. В таком случае в модели нужна только одна из этих переменных. Если использовать обе, то модель окажется переобучена (overfit) и предвзята относительно одного отдельного признака.\n",
        "\n",
        "Посмотрите на корреляционную матрицу и поищите, какие признаки могут быть удалены."
      ]
    },
    {
      "cell_type": "code",
      "execution_count": 66,
      "id": "34edea65",
      "metadata": {
        "colab": {
          "base_uri": "https://localhost:8080/",
          "height": 995
        },
        "id": "34edea65",
        "outputId": "7f834554-ce8f-4f96-d5f1-d99dd8b290ae"
      },
      "outputs": [
        {
          "output_type": "execute_result",
          "data": {
            "text/plain": [
              "<Axes: title={'center': 'Корреляционная матрица'}>"
            ]
          },
          "metadata": {},
          "execution_count": 66
        },
        {
          "output_type": "display_data",
          "data": {
            "text/plain": [
              "<Figure size 1200x1000 with 2 Axes>"
            ],
            "image/png": "[encoded data removed]"
          },
          "metadata": {}
        }
      ],
      "source": [
        "plt.figure(figsize=(12,10))\n",
        "plt.title('Корреляционная матрица')\n",
        "sns.heatmap(diabetes.corr(), cmap='bwr', center=0, annot=True, fmt='.2f')"
      ]
    },
    {
      "cell_type": "markdown",
      "id": "03f75c44",
      "metadata": {
        "id": "03f75c44"
      },
      "source": [
        "Обучим простую модель случайного леса. Исключаю `FamilyHistory` для снижения метрик, глубину деревьев беру рандомно, число никак не подбиралось."
      ]
    },
    {
      "cell_type": "code",
      "execution_count": 67,
      "id": "edc8666c",
      "metadata": {
        "id": "edc8666c"
      },
      "outputs": [],
      "source": [
        "from sklearn.ensemble import RandomForestClassifier"
      ]
    },
    {
      "cell_type": "code",
      "execution_count": 68,
      "id": "9ecb883a",
      "metadata": {
        "id": "9ecb883a"
      },
      "outputs": [],
      "source": [
        "X_train, X_test, y_train, y_test = train_test_split(diabetes.drop(['Outcome', 'FamilyHistory'], axis=1), diabetes['Outcome'], test_size=0.2, random_state=42)"
      ]
    },
    {
      "cell_type": "code",
      "execution_count": 69,
      "id": "c4d20d25",
      "metadata": {
        "id": "c4d20d25"
      },
      "outputs": [],
      "source": [
        "rf = RandomForestClassifier(max_depth=8, random_state=42).fit(X_train, y_train)"
      ]
    },
    {
      "cell_type": "code",
      "execution_count": 70,
      "id": "e2528fa5",
      "metadata": {
        "colab": {
          "base_uri": "https://localhost:8080/",
          "height": 628
        },
        "id": "e2528fa5",
        "outputId": "13a7fa66-d82a-453d-a635-0d4f84fe70a0"
      },
      "outputs": [
        {
          "output_type": "stream",
          "name": "stdout",
          "text": [
            "              precision    recall  f1-score   support\n",
            "\n",
            "           0       0.71      1.00      0.83      1275\n",
            "           1       0.96      0.17      0.29       633\n",
            "\n",
            "    accuracy                           0.72      1908\n",
            "   macro avg       0.84      0.58      0.56      1908\n",
            "weighted avg       0.79      0.72      0.65      1908\n",
            "\n"
          ]
        },
        {
          "output_type": "display_data",
          "data": {
            "text/plain": [
              "<Figure size 640x480 with 2 Axes>"
            ],
            "image/png": "[encoded data removed]"
          },
          "metadata": {}
        }
      ],
      "source": [
        "metrics(y_test, rf.predict(X_test))"
      ]
    },
    {
      "cell_type": "markdown",
      "id": "ca1dbafd",
      "metadata": {
        "id": "ca1dbafd"
      },
      "source": [
        "А теперь повторим процесс, но из признаков исключим также `HbA1c`. Он сильно коррелирует с `Glucose`, а значит, они несут очень схожую информацию для модели. Посмотрим, к чему это приведет."
      ]
    },
    {
      "cell_type": "code",
      "execution_count": 71,
      "id": "a2066ea3",
      "metadata": {
        "id": "a2066ea3"
      },
      "outputs": [],
      "source": [
        "X_train, X_test, y_train, y_test = train_test_split(diabetes.drop(['Outcome', 'FamilyHistory', 'HbA1c'], axis=1), diabetes['Outcome'], test_size=0.2, random_state=42)"
      ]
    },
    {
      "cell_type": "code",
      "execution_count": 72,
      "id": "f3edf138",
      "metadata": {
        "id": "f3edf138"
      },
      "outputs": [],
      "source": [
        "rf = RandomForestClassifier(max_depth=8, random_state=42).fit(X_train, y_train)"
      ]
    },
    {
      "cell_type": "code",
      "execution_count": 73,
      "id": "71013c86",
      "metadata": {
        "colab": {
          "base_uri": "https://localhost:8080/",
          "height": 628
        },
        "id": "71013c86",
        "outputId": "cdf7e708-ed34-4fab-841e-6de4956f2c8b"
      },
      "outputs": [
        {
          "output_type": "stream",
          "name": "stdout",
          "text": [
            "              precision    recall  f1-score   support\n",
            "\n",
            "           0       0.71      1.00      0.83      1275\n",
            "           1       0.97      0.17      0.29       633\n",
            "\n",
            "    accuracy                           0.72      1908\n",
            "   macro avg       0.84      0.58      0.56      1908\n",
            "weighted avg       0.80      0.72      0.65      1908\n",
            "\n"
          ]
        },
        {
          "output_type": "display_data",
          "data": {
            "text/plain": [
              "<Figure size 640x480 with 2 Axes>"
            ],
            "image/png": "[encoded data removed]"
          },
          "metadata": {}
        }
      ],
      "source": [
        "metrics(y_test, rf.predict(X_test))"
      ]
    },
    {
      "cell_type": "markdown",
      "id": "13c1b525",
      "metadata": {
        "id": "13c1b525"
      },
      "source": [
        "Изменения почти отсутсвуют, но всё же есть, и в лучшую сторону. Значит такой подход к выбору признаков работает.\n",
        "\n",
        "Есть множество способов отбора признаков, о некоторых поговорим, когда будем работать с регрессией.\n",
        "\n",
        "А ещё можно посмотреть на важность признаков в обученной модели с помощью метода `feature_importances_`."
      ]
    },
    {
      "cell_type": "code",
      "execution_count": 74,
      "id": "ed660772",
      "metadata": {
        "colab": {
          "base_uri": "https://localhost:8080/",
          "height": 523
        },
        "id": "ed660772",
        "outputId": "2f6e5083-4853-4ad3-b4e5-3b96205267d0"
      },
      "outputs": [
        {
          "output_type": "execute_result",
          "data": {
            "text/plain": [
              "Glucose               0.510425\n",
              "BMI                   0.075237\n",
              "WaistCircumference    0.057818\n",
              "HipCircumference      0.055166\n",
              "HDL                   0.050402\n",
              "Age                   0.046472\n",
              "LDL                   0.044828\n",
              "BloodPressure         0.044731\n",
              "Triglycerides         0.043186\n",
              "WHR                   0.034389\n",
              "Pregnancies           0.021499\n",
              "DietType              0.008048\n",
              "MedicationUse         0.007577\n",
              "Hypertension          0.000222\n",
              "dtype: float64"
            ],
            "text/html": [
              "<div>\n",
              "<style scoped>\n",
              "    .dataframe tbody tr th:only-of-type {\n",
              "        vertical-align: middle;\n",
              "    }\n",
              "\n",
              "    .dataframe tbody tr th {\n",
              "        vertical-align: top;\n",
              "    }\n",
              "\n",
              "    .dataframe thead th {\n",
              "        text-align: right;\n",
              "    }\n",
              "</style>\n",
              "<table border=\"1\" class=\"dataframe\">\n",
              "  <thead>\n",
              "    <tr style=\"text-align: right;\">\n",
              "      <th></th>\n",
              "      <th>0</th>\n",
              "    </tr>\n",
              "  </thead>\n",
              "  <tbody>\n",
              "    <tr>\n",
              "      <th>Glucose</th>\n",
              "      <td>0.510425</td>\n",
              "    </tr>\n",
              "    <tr>\n",
              "      <th>BMI</th>\n",
              "      <td>0.075237</td>\n",
              "    </tr>\n",
              "    <tr>\n",
              "      <th>WaistCircumference</th>\n",
              "      <td>0.057818</td>\n",
              "    </tr>\n",
              "    <tr>\n",
              "      <th>HipCircumference</th>\n",
              "      <td>0.055166</td>\n",
              "    </tr>\n",
              "    <tr>\n",
              "      <th>HDL</th>\n",
              "      <td>0.050402</td>\n",
              "    </tr>\n",
              "    <tr>\n",
              "      <th>Age</th>\n",
              "      <td>0.046472</td>\n",
              "    </tr>\n",
              "    <tr>\n",
              "      <th>LDL</th>\n",
              "      <td>0.044828</td>\n",
              "    </tr>\n",
              "    <tr>\n",
              "      <th>BloodPressure</th>\n",
              "      <td>0.044731</td>\n",
              "    </tr>\n",
              "    <tr>\n",
              "      <th>Triglycerides</th>\n",
              "      <td>0.043186</td>\n",
              "    </tr>\n",
              "    <tr>\n",
              "      <th>WHR</th>\n",
              "      <td>0.034389</td>\n",
              "    </tr>\n",
              "    <tr>\n",
              "      <th>Pregnancies</th>\n",
              "      <td>0.021499</td>\n",
              "    </tr>\n",
              "    <tr>\n",
              "      <th>DietType</th>\n",
              "      <td>0.008048</td>\n",
              "    </tr>\n",
              "    <tr>\n",
              "      <th>MedicationUse</th>\n",
              "      <td>0.007577</td>\n",
              "    </tr>\n",
              "    <tr>\n",
              "      <th>Hypertension</th>\n",
              "      <td>0.000222</td>\n",
              "    </tr>\n",
              "  </tbody>\n",
              "</table>\n",
              "</div><br><label><b>dtype:</b> float64</label>"
            ]
          },
          "metadata": {},
          "execution_count": 74
        }
      ],
      "source": [
        "pd.Series(data=rf.feature_importances_, index=X_train.columns).sort_values(ascending=False)"
      ]
    },
    {
      "cell_type": "markdown",
      "id": "eaac4587",
      "metadata": {
        "id": "eaac4587"
      },
      "source": [
        "Попробуйте построить ту же модель, исключив неважные признаки, изменится ли качество."
      ]
    },
    {
      "cell_type": "code",
      "execution_count": 79,
      "id": "6bb62f3a",
      "metadata": {
        "colab": {
          "base_uri": "https://localhost:8080/"
        },
        "id": "6bb62f3a",
        "outputId": "a78983ff-09f9-4a4c-d79d-5734471bec56"
      },
      "outputs": [
        {
          "output_type": "stream",
          "name": "stdout",
          "text": [
            "Важность признаков:\n",
            "Glucose               0.477840\n",
            "HbA1c                 0.108520\n",
            "BMI                   0.058385\n",
            "HipCircumference      0.050953\n",
            "WaistCircumference    0.045301\n",
            "LDL                   0.041415\n",
            "BloodPressure         0.039434\n",
            "HDL                   0.039241\n",
            "Triglycerides         0.037594\n",
            "Age                   0.035978\n",
            "WHR                   0.031951\n",
            "Pregnancies           0.019013\n",
            "DietType              0.007189\n",
            "MedicationUse         0.007026\n",
            "Hypertension          0.000160\n",
            "dtype: float64\n",
            "              precision    recall  f1-score   support\n",
            "\n",
            "           0       0.71      1.00      0.83      1275\n",
            "           1       0.98      0.17      0.28       633\n",
            "\n",
            "    accuracy                           0.72      1908\n",
            "   macro avg       0.84      0.58      0.56      1908\n",
            "weighted avg       0.80      0.72      0.65      1908\n",
            "\n",
            "[[1273    2]\n",
            " [ 528  105]]\n"
          ]
        }
      ],
      "source": [
        "# Разделение данных на обучающую и тестовую выборки\n",
        "X = diabetes.drop(['Outcome', 'FamilyHistory'], axis=1)\n",
        "y = diabetes['Outcome']\n",
        "X_train, X_test, y_train, y_test = train_test_split(X, y, test_size=0.2, random_state=42)\n",
        "\n",
        "# Обучаем модель случайного леса\n",
        "rf = RandomForestClassifier(max_depth=8, random_state=42).fit(X_train, y_train)\n",
        "\n",
        "# Получаем важность признаков\n",
        "importances = rf.feature_importances_\n",
        "\n",
        "# Создаем DataFrame с важностью признаков\n",
        "feature_names = X.columns  # Используем X.columns, чтобы получить правильные названия признаков\n",
        "feature_importances = pd.Series(data=importances, index=feature_names).sort_values(ascending=False)\n",
        "\n",
        "# Выводим важность признаков\n",
        "print(\"Важность признаков:\")\n",
        "print(feature_importances)\n",
        "\n",
        "# Определяем порог для исключения неважных признаков\n",
        "threshold = 0.05  # Вы можете изменить этот порог по своему усмотрению\n",
        "important_features = feature_importances[feature_importances > threshold].index\n",
        "\n",
        "# Обучаем модель, исключая неважные признаки\n",
        "X_train_important = X_train[important_features]\n",
        "X_test_important = X_test[important_features]\n",
        "\n",
        "# Обучаем модель на отобранных признаках\n",
        "rf_important = RandomForestClassifier(max_depth=8, random_state=42).fit(X_train_important, y_train)\n",
        "\n",
        "# Оцениваем качество модели\n",
        "y_pred = rf_important.predict(X_test_important)\n",
        "print(classification_report(y_test, y_pred))\n",
        "print(confusion_matrix(y_test, y_pred))"
      ]
    },
    {
      "cell_type": "markdown",
      "id": "ebb5241f",
      "metadata": {
        "id": "ebb5241f"
      },
      "source": [
        "Также посмотрим на ROC-кривую для такой модели (у случайного леса тоже есть такие методы)."
      ]
    },
    {
      "cell_type": "code",
      "execution_count": 80,
      "id": "cdeed949",
      "metadata": {
        "id": "cdeed949"
      },
      "outputs": [],
      "source": [
        "fpr, tpr, thresholds = roc_curve(y_test, rf.predict_proba(X_test)[:, 1])"
      ]
    },
    {
      "cell_type": "code",
      "execution_count": 81,
      "id": "8af350aa",
      "metadata": {
        "colab": {
          "base_uri": "https://localhost:8080/",
          "height": 489
        },
        "id": "8af350aa",
        "outputId": "3561406b-c8a9-487f-ce2c-267b5d5f27f5"
      },
      "outputs": [
        {
          "output_type": "execute_result",
          "data": {
            "text/plain": [
              "Text(0.5, 1.0, 'ROC-кривая')"
            ]
          },
          "metadata": {},
          "execution_count": 81
        },
        {
          "output_type": "display_data",
          "data": {
            "text/plain": [
              "<Figure size 640x480 with 1 Axes>"
            ],
            "image/png": "[encoded data removed]"
          },
          "metadata": {}
        }
      ],
      "source": [
        "plt.figure()\n",
        "plt.plot(fpr, tpr)\n",
        "\n",
        "# ROC-кривая случайной модели (выглядит как прямая)\n",
        "plt.plot([0, 1], [0, 1], linestyle='--')\n",
        "\n",
        "plt.xlim([0, 1])\n",
        "plt.ylim([0, 1])\n",
        "\n",
        "plt.xlabel('False Positive Rate')\n",
        "plt.ylabel('True Positive Rate')\n",
        "plt.title('ROC-кривая')"
      ]
    },
    {
      "cell_type": "code",
      "execution_count": 82,
      "id": "f4702114",
      "metadata": {
        "colab": {
          "base_uri": "https://localhost:8080/"
        },
        "id": "f4702114",
        "outputId": "61418820-5412-4904-b322-ffb94e24e537"
      },
      "outputs": [
        {
          "output_type": "stream",
          "name": "stdout",
          "text": [
            "0.5821596505900938\n"
          ]
        }
      ],
      "source": [
        "auc_roc = roc_auc_score(y_test, rf.predict(X_test))\n",
        "print(auc_roc)"
      ]
    },
    {
      "cell_type": "markdown",
      "id": "f8a261af",
      "metadata": {
        "id": "f8a261af"
      },
      "source": [
        "## GridSearchCV\n",
        "\n",
        "---\n",
        "В прошлый раз мы говорили о кросс-валидации, которая помогает получить более правильные метрики при усреднении нескольких моделей.\n",
        "\n",
        "Но куда важнее для модели подобрать нужные гиперпараметры, от этого зависит очень многое, метрики могут отличаться значительно. Самое простое, что можно сделать - ручной перебор, меняем гиперпараметр, обучаем, проверяем, и так по кругу, пока не получим оптимальный результат. Но, это скучно и утомительно, поэтому можно воспользоваться `GridSearchCV`, который проделает тот же процесс самостоятельно. Более того, он попутно проводит и кросс-валидацию."
      ]
    },
    {
      "cell_type": "code",
      "execution_count": 83,
      "id": "fcd74dbc",
      "metadata": {
        "id": "fcd74dbc"
      },
      "outputs": [],
      "source": [
        "X_train, X_test, y_train, y_test = train_test_split(diabetes.drop(['Outcome', 'FamilyHistory'], axis=1), diabetes['Outcome'], test_size=0.2, random_state=42)"
      ]
    },
    {
      "cell_type": "code",
      "execution_count": 84,
      "id": "40513e79",
      "metadata": {
        "id": "40513e79"
      },
      "outputs": [],
      "source": [
        "rf = RandomForestClassifier()"
      ]
    },
    {
      "cell_type": "code",
      "execution_count": 85,
      "id": "94096314",
      "metadata": {
        "id": "94096314"
      },
      "outputs": [],
      "source": [
        "from sklearn.model_selection import GridSearchCV"
      ]
    },
    {
      "cell_type": "markdown",
      "id": "916f36b4",
      "metadata": {
        "id": "916f36b4"
      },
      "source": [
        "В `SridSearchCV` мы передаем нужную нам модель и перечень гиперпараметров, которые хотим варьировать, с желаемыми значениями. Также можно указать, на сколько частей бить данные при кросс-валидации, и желаемую метрику. Сколько раз будет обучаться модель при следующих параметрах?"
      ]
    },
    {
      "cell_type": "code",
      "execution_count": 86,
      "id": "2a0ab0bf",
      "metadata": {
        "colab": {
          "base_uri": "https://localhost:8080/",
          "height": 166
        },
        "id": "2a0ab0bf",
        "outputId": "f2ed64a2-e8ac-424b-8b61-055e4313dd6e"
      },
      "outputs": [
        {
          "output_type": "execute_result",
          "data": {
            "text/plain": [
              "GridSearchCV(cv=5, estimator=RandomForestClassifier(),\n",
              "             param_grid={'max_depth': [5, 8], 'n_estimators': [50, 100],\n",
              "                         'random_state': [42]},\n",
              "             scoring='roc_auc')"
            ],
            "text/html": [
              "<style>#sk-container-id-2 {\n",
              "  /* Definition of color scheme common for light and dark mode */\n",
              "  --sklearn-color-text: #000;\n",
              "  --sklearn-color-text-muted: #666;\n",
              "  --sklearn-color-line: gray;\n",
              "  /* Definition of color scheme for unfitted estimators */\n",
              "  --sklearn-color-unfitted-level-0: #fff5e6;\n",
              "  --sklearn-color-unfitted-level-1: #f6e4d2;\n",
              "  --sklearn-color-unfitted-level-2: #ffe0b3;\n",
              "  --sklearn-color-unfitted-level-3: chocolate;\n",
              "  /* Definition of color scheme for fitted estimators */\n",
              "  --sklearn-color-fitted-level-0: #f0f8ff;\n",
              "  --sklearn-color-fitted-level-1: #d4ebff;\n",
              "  --sklearn-color-fitted-level-2: #b3dbfd;\n",
              "  --sklearn-color-fitted-level-3: cornflowerblue;\n",
              "\n",
              "  /* Specific color for light theme */\n",
              "  --sklearn-color-text-on-default-background: var(--sg-text-color, var(--theme-code-foreground, var(--jp-content-font-color1, black)));\n",
              "  --sklearn-color-background: var(--sg-background-color, var(--theme-background, var(--jp-layout-color0, white)));\n",
              "  --sklearn-color-border-box: var(--sg-text-color, var(--theme-code-foreground, var(--jp-content-font-color1, black)));\n",
              "  --sklearn-color-icon: #696969;\n",
              "\n",
              "  @media (prefers-color-scheme: dark) {\n",
              "    /* Redefinition of color scheme for dark theme */\n",
              "    --sklearn-color-text-on-default-background: var(--sg-text-color, var(--theme-code-foreground, var(--jp-content-font-color1, white)));\n",
              "    --sklearn-color-background: var(--sg-background-color, var(--theme-background, var(--jp-layout-color0, #111)));\n",
              "    --sklearn-color-border-box: var(--sg-text-color, var(--theme-code-foreground, var(--jp-content-font-color1, white)));\n",
              "    --sklearn-color-icon: #878787;\n",
              "  }\n",
              "}\n",
              "\n",
              "#sk-container-id-2 {\n",
              "  color: var(--sklearn-color-text);\n",
              "}\n",
              "\n",
              "#sk-container-id-2 pre {\n",
              "  padding: 0;\n",
              "}\n",
              "\n",
              "#sk-container-id-2 input.sk-hidden--visually {\n",
              "  border: 0;\n",
              "  clip: rect(1px 1px 1px 1px);\n",
              "  clip: rect(1px, 1px, 1px, 1px);\n",
              "  height: 1px;\n",
              "  margin: -1px;\n",
              "  overflow: hidden;\n",
              "  padding: 0;\n",
              "  position: absolute;\n",
              "  width: 1px;\n",
              "}\n",
              "\n",
              "#sk-container-id-2 div.sk-dashed-wrapped {\n",
              "  border: 1px dashed var(--sklearn-color-line);\n",
              "  margin: 0 0.4em 0.5em 0.4em;\n",
              "  box-sizing: border-box;\n",
              "  padding-bottom: 0.4em;\n",
              "  background-color: var(--sklearn-color-background);\n",
              "}\n",
              "\n",
              "#sk-container-id-2 div.sk-container {\n",
              "  /* jupyter's `normalize.less` sets `[hidden] { display: none; }`\n",
              "     but bootstrap.min.css set `[hidden] { display: none !important; }`\n",
              "     so we also need the `!important` here to be able to override the\n",
              "     default hidden behavior on the sphinx rendered scikit-learn.org.\n",
              "     See: https://github.com/scikit-learn/scikit-learn/issues/21755 */\n",
              "  display: inline-block !important;\n",
              "  position: relative;\n",
              "}\n",
              "\n",
              "#sk-container-id-2 div.sk-text-repr-fallback {\n",
              "  display: none;\n",
              "}\n",
              "\n",
              "div.sk-parallel-item,\n",
              "div.sk-serial,\n",
              "div.sk-item {\n",
              "  /* draw centered vertical line to link estimators */\n",
              "  background-image: linear-gradient(var(--sklearn-color-text-on-default-background), var(--sklearn-color-text-on-default-background));\n",
              "  background-size: 2px 100%;\n",
              "  background-repeat: no-repeat;\n",
              "  background-position: center center;\n",
              "}\n",
              "\n",
              "/* Parallel-specific style estimator block */\n",
              "\n",
              "#sk-container-id-2 div.sk-parallel-item::after {\n",
              "  content: \"\";\n",
              "  width: 100%;\n",
              "  border-bottom: 2px solid var(--sklearn-color-text-on-default-background);\n",
              "  flex-grow: 1;\n",
              "}\n",
              "\n",
              "#sk-container-id-2 div.sk-parallel {\n",
              "  display: flex;\n",
              "  align-items: stretch;\n",
              "  justify-content: center;\n",
              "  background-color: var(--sklearn-color-background);\n",
              "  position: relative;\n",
              "}\n",
              "\n",
              "#sk-container-id-2 div.sk-parallel-item {\n",
              "  display: flex;\n",
              "  flex-direction: column;\n",
              "}\n",
              "\n",
              "#sk-container-id-2 div.sk-parallel-item:first-child::after {\n",
              "  align-self: flex-end;\n",
              "  width: 50%;\n",
              "}\n",
              "\n",
              "#sk-container-id-2 div.sk-parallel-item:last-child::after {\n",
              "  align-self: flex-start;\n",
              "  width: 50%;\n",
              "}\n",
              "\n",
              "#sk-container-id-2 div.sk-parallel-item:only-child::after {\n",
              "  width: 0;\n",
              "}\n",
              "\n",
              "/* Serial-specific style estimator block */\n",
              "\n",
              "#sk-container-id-2 div.sk-serial {\n",
              "  display: flex;\n",
              "  flex-direction: column;\n",
              "  align-items: center;\n",
              "  background-color: var(--sklearn-color-background);\n",
              "  padding-right: 1em;\n",
              "  padding-left: 1em;\n",
              "}\n",
              "\n",
              "\n",
              "/* Toggleable style: style used for estimator/Pipeline/ColumnTransformer box that is\n",
              "clickable and can be expanded/collapsed.\n",
              "- Pipeline and ColumnTransformer use this feature and define the default style\n",
              "- Estimators will overwrite some part of the style using the `sk-estimator` class\n",
              "*/\n",
              "\n",
              "/* Pipeline and ColumnTransformer style (default) */\n",
              "\n",
              "#sk-container-id-2 div.sk-toggleable {\n",
              "  /* Default theme specific background. It is overwritten whether we have a\n",
              "  specific estimator or a Pipeline/ColumnTransformer */\n",
              "  background-color: var(--sklearn-color-background);\n",
              "}\n",
              "\n",
              "/* Toggleable label */\n",
              "#sk-container-id-2 label.sk-toggleable__label {\n",
              "  cursor: pointer;\n",
              "  display: flex;\n",
              "  width: 100%;\n",
              "  margin-bottom: 0;\n",
              "  padding: 0.5em;\n",
              "  box-sizing: border-box;\n",
              "  text-align: center;\n",
              "  align-items: start;\n",
              "  justify-content: space-between;\n",
              "  gap: 0.5em;\n",
              "}\n",
              "\n",
              "#sk-container-id-2 label.sk-toggleable__label .caption {\n",
              "  font-size: 0.6rem;\n",
              "  font-weight: lighter;\n",
              "  color: var(--sklearn-color-text-muted);\n",
              "}\n",
              "\n",
              "#sk-container-id-2 label.sk-toggleable__label-arrow:before {\n",
              "  /* Arrow on the left of the label */\n",
              "  content: \"▸\";\n",
              "  float: left;\n",
              "  margin-right: 0.25em;\n",
              "  color: var(--sklearn-color-icon);\n",
              "}\n",
              "\n",
              "#sk-container-id-2 label.sk-toggleable__label-arrow:hover:before {\n",
              "  color: var(--sklearn-color-text);\n",
              "}\n",
              "\n",
              "/* Toggleable content - dropdown */\n",
              "\n",
              "#sk-container-id-2 div.sk-toggleable__content {\n",
              "  max-height: 0;\n",
              "  max-width: 0;\n",
              "  overflow: hidden;\n",
              "  text-align: left;\n",
              "  /* unfitted */\n",
              "  background-color: var(--sklearn-color-unfitted-level-0);\n",
              "}\n",
              "\n",
              "#sk-container-id-2 div.sk-toggleable__content.fitted {\n",
              "  /* fitted */\n",
              "  background-color: var(--sklearn-color-fitted-level-0);\n",
              "}\n",
              "\n",
              "#sk-container-id-2 div.sk-toggleable__content pre {\n",
              "  margin: 0.2em;\n",
              "  border-radius: 0.25em;\n",
              "  color: var(--sklearn-color-text);\n",
              "  /* unfitted */\n",
              "  background-color: var(--sklearn-color-unfitted-level-0);\n",
              "}\n",
              "\n",
              "#sk-container-id-2 div.sk-toggleable__content.fitted pre {\n",
              "  /* unfitted */\n",
              "  background-color: var(--sklearn-color-fitted-level-0);\n",
              "}\n",
              "\n",
              "#sk-container-id-2 input.sk-toggleable__control:checked~div.sk-toggleable__content {\n",
              "  /* Expand drop-down */\n",
              "  max-height: 200px;\n",
              "  max-width: 100%;\n",
              "  overflow: auto;\n",
              "}\n",
              "\n",
              "#sk-container-id-2 input.sk-toggleable__control:checked~label.sk-toggleable__label-arrow:before {\n",
              "  content: \"▾\";\n",
              "}\n",
              "\n",
              "/* Pipeline/ColumnTransformer-specific style */\n",
              "\n",
              "#sk-container-id-2 div.sk-label input.sk-toggleable__control:checked~label.sk-toggleable__label {\n",
              "  color: var(--sklearn-color-text);\n",
              "  background-color: var(--sklearn-color-unfitted-level-2);\n",
              "}\n",
              "\n",
              "#sk-container-id-2 div.sk-label.fitted input.sk-toggleable__control:checked~label.sk-toggleable__label {\n",
              "  background-color: var(--sklearn-color-fitted-level-2);\n",
              "}\n",
              "\n",
              "/* Estimator-specific style */\n",
              "\n",
              "/* Colorize estimator box */\n",
              "#sk-container-id-2 div.sk-estimator input.sk-toggleable__control:checked~label.sk-toggleable__label {\n",
              "  /* unfitted */\n",
              "  background-color: var(--sklearn-color-unfitted-level-2);\n",
              "}\n",
              "\n",
              "#sk-container-id-2 div.sk-estimator.fitted input.sk-toggleable__control:checked~label.sk-toggleable__label {\n",
              "  /* fitted */\n",
              "  background-color: var(--sklearn-color-fitted-level-2);\n",
              "}\n",
              "\n",
              "#sk-container-id-2 div.sk-label label.sk-toggleable__label,\n",
              "#sk-container-id-2 div.sk-label label {\n",
              "  /* The background is the default theme color */\n",
              "  color: var(--sklearn-color-text-on-default-background);\n",
              "}\n",
              "\n",
              "/* On hover, darken the color of the background */\n",
              "#sk-container-id-2 div.sk-label:hover label.sk-toggleable__label {\n",
              "  color: var(--sklearn-color-text);\n",
              "  background-color: var(--sklearn-color-unfitted-level-2);\n",
              "}\n",
              "\n",
              "/* Label box, darken color on hover, fitted */\n",
              "#sk-container-id-2 div.sk-label.fitted:hover label.sk-toggleable__label.fitted {\n",
              "  color: var(--sklearn-color-text);\n",
              "  background-color: var(--sklearn-color-fitted-level-2);\n",
              "}\n",
              "\n",
              "/* Estimator label */\n",
              "\n",
              "#sk-container-id-2 div.sk-label label {\n",
              "  font-family: monospace;\n",
              "  font-weight: bold;\n",
              "  display: inline-block;\n",
              "  line-height: 1.2em;\n",
              "}\n",
              "\n",
              "#sk-container-id-2 div.sk-label-container {\n",
              "  text-align: center;\n",
              "}\n",
              "\n",
              "/* Estimator-specific */\n",
              "#sk-container-id-2 div.sk-estimator {\n",
              "  font-family: monospace;\n",
              "  border: 1px dotted var(--sklearn-color-border-box);\n",
              "  border-radius: 0.25em;\n",
              "  box-sizing: border-box;\n",
              "  margin-bottom: 0.5em;\n",
              "  /* unfitted */\n",
              "  background-color: var(--sklearn-color-unfitted-level-0);\n",
              "}\n",
              "\n",
              "#sk-container-id-2 div.sk-estimator.fitted {\n",
              "  /* fitted */\n",
              "  background-color: var(--sklearn-color-fitted-level-0);\n",
              "}\n",
              "\n",
              "/* on hover */\n",
              "#sk-container-id-2 div.sk-estimator:hover {\n",
              "  /* unfitted */\n",
              "  background-color: var(--sklearn-color-unfitted-level-2);\n",
              "}\n",
              "\n",
              "#sk-container-id-2 div.sk-estimator.fitted:hover {\n",
              "  /* fitted */\n",
              "  background-color: var(--sklearn-color-fitted-level-2);\n",
              "}\n",
              "\n",
              "/* Specification for estimator info (e.g. \"i\" and \"?\") */\n",
              "\n",
              "/* Common style for \"i\" and \"?\" */\n",
              "\n",
              ".sk-estimator-doc-link,\n",
              "a:link.sk-estimator-doc-link,\n",
              "a:visited.sk-estimator-doc-link {\n",
              "  float: right;\n",
              "  font-size: smaller;\n",
              "  line-height: 1em;\n",
              "  font-family: monospace;\n",
              "  background-color: var(--sklearn-color-background);\n",
              "  border-radius: 1em;\n",
              "  height: 1em;\n",
              "  width: 1em;\n",
              "  text-decoration: none !important;\n",
              "  margin-left: 0.5em;\n",
              "  text-align: center;\n",
              "  /* unfitted */\n",
              "  border: var(--sklearn-color-unfitted-level-1) 1pt solid;\n",
              "  color: var(--sklearn-color-unfitted-level-1);\n",
              "}\n",
              "\n",
              ".sk-estimator-doc-link.fitted,\n",
              "a:link.sk-estimator-doc-link.fitted,\n",
              "a:visited.sk-estimator-doc-link.fitted {\n",
              "  /* fitted */\n",
              "  border: var(--sklearn-color-fitted-level-1) 1pt solid;\n",
              "  color: var(--sklearn-color-fitted-level-1);\n",
              "}\n",
              "\n",
              "/* On hover */\n",
              "div.sk-estimator:hover .sk-estimator-doc-link:hover,\n",
              ".sk-estimator-doc-link:hover,\n",
              "div.sk-label-container:hover .sk-estimator-doc-link:hover,\n",
              ".sk-estimator-doc-link:hover {\n",
              "  /* unfitted */\n",
              "  background-color: var(--sklearn-color-unfitted-level-3);\n",
              "  color: var(--sklearn-color-background);\n",
              "  text-decoration: none;\n",
              "}\n",
              "\n",
              "div.sk-estimator.fitted:hover .sk-estimator-doc-link.fitted:hover,\n",
              ".sk-estimator-doc-link.fitted:hover,\n",
              "div.sk-label-container:hover .sk-estimator-doc-link.fitted:hover,\n",
              ".sk-estimator-doc-link.fitted:hover {\n",
              "  /* fitted */\n",
              "  background-color: var(--sklearn-color-fitted-level-3);\n",
              "  color: var(--sklearn-color-background);\n",
              "  text-decoration: none;\n",
              "}\n",
              "\n",
              "/* Span, style for the box shown on hovering the info icon */\n",
              ".sk-estimator-doc-link span {\n",
              "  display: none;\n",
              "  z-index: 9999;\n",
              "  position: relative;\n",
              "  font-weight: normal;\n",
              "  right: .2ex;\n",
              "  padding: .5ex;\n",
              "  margin: .5ex;\n",
              "  width: min-content;\n",
              "  min-width: 20ex;\n",
              "  max-width: 50ex;\n",
              "  color: var(--sklearn-color-text);\n",
              "  box-shadow: 2pt 2pt 4pt #999;\n",
              "  /* unfitted */\n",
              "  background: var(--sklearn-color-unfitted-level-0);\n",
              "  border: .5pt solid var(--sklearn-color-unfitted-level-3);\n",
              "}\n",
              "\n",
              ".sk-estimator-doc-link.fitted span {\n",
              "  /* fitted */\n",
              "  background: var(--sklearn-color-fitted-level-0);\n",
              "  border: var(--sklearn-color-fitted-level-3);\n",
              "}\n",
              "\n",
              ".sk-estimator-doc-link:hover span {\n",
              "  display: block;\n",
              "}\n",
              "\n",
              "/* \"?\"-specific style due to the `<a>` HTML tag */\n",
              "\n",
              "#sk-container-id-2 a.estimator_doc_link {\n",
              "  float: right;\n",
              "  font-size: 1rem;\n",
              "  line-height: 1em;\n",
              "  font-family: monospace;\n",
              "  background-color: var(--sklearn-color-background);\n",
              "  border-radius: 1rem;\n",
              "  height: 1rem;\n",
              "  width: 1rem;\n",
              "  text-decoration: none;\n",
              "  /* unfitted */\n",
              "  color: var(--sklearn-color-unfitted-level-1);\n",
              "  border: var(--sklearn-color-unfitted-level-1) 1pt solid;\n",
              "}\n",
              "\n",
              "#sk-container-id-2 a.estimator_doc_link.fitted {\n",
              "  /* fitted */\n",
              "  border: var(--sklearn-color-fitted-level-1) 1pt solid;\n",
              "  color: var(--sklearn-color-fitted-level-1);\n",
              "}\n",
              "\n",
              "/* On hover */\n",
              "#sk-container-id-2 a.estimator_doc_link:hover {\n",
              "  /* unfitted */\n",
              "  background-color: var(--sklearn-color-unfitted-level-3);\n",
              "  color: var(--sklearn-color-background);\n",
              "  text-decoration: none;\n",
              "}\n",
              "\n",
              "#sk-container-id-2 a.estimator_doc_link.fitted:hover {\n",
              "  /* fitted */\n",
              "  background-color: var(--sklearn-color-fitted-level-3);\n",
              "}\n",
              "</style><div id=\"sk-container-id-2\" class=\"sk-top-container\"><div class=\"sk-text-repr-fallback\"><pre>GridSearchCV(cv=5, estimator=RandomForestClassifier(),\n",
              "             param_grid={&#x27;max_depth&#x27;: [5, 8], &#x27;n_estimators&#x27;: [50, 100],\n",
              "                         &#x27;random_state&#x27;: [42]},\n",
              "             scoring=&#x27;roc_auc&#x27;)</pre><b>In a Jupyter environment, please rerun this cell to show the HTML representation or trust the notebook. <br />On GitHub, the HTML representation is unable to render, please try loading this page with nbviewer.org.</b></div><div class=\"sk-container\" hidden><div class=\"sk-item sk-dashed-wrapped\"><div class=\"sk-label-container\"><div class=\"sk-label fitted sk-toggleable\"><input class=\"sk-toggleable__control sk-hidden--visually\" id=\"sk-estimator-id-2\" type=\"checkbox\" ><label for=\"sk-estimator-id-2\" class=\"sk-toggleable__label fitted sk-toggleable__label-arrow\"><div><div>GridSearchCV</div></div><div><a class=\"sk-estimator-doc-link fitted\" rel=\"noreferrer\" target=\"_blank\" href=\"https://scikit-learn.org/1.6/modules/generated/sklearn.model_selection.GridSearchCV.html\">?<span>Documentation for GridSearchCV</span></a><span class=\"sk-estimator-doc-link fitted\">i<span>Fitted</span></span></div></label><div class=\"sk-toggleable__content fitted\"><pre>GridSearchCV(cv=5, estimator=RandomForestClassifier(),\n",
              "             param_grid={&#x27;max_depth&#x27;: [5, 8], &#x27;n_estimators&#x27;: [50, 100],\n",
              "                         &#x27;random_state&#x27;: [42]},\n",
              "             scoring=&#x27;roc_auc&#x27;)</pre></div> </div></div><div class=\"sk-parallel\"><div class=\"sk-parallel-item\"><div class=\"sk-item\"><div class=\"sk-label-container\"><div class=\"sk-label fitted sk-toggleable\"><input class=\"sk-toggleable__control sk-hidden--visually\" id=\"sk-estimator-id-3\" type=\"checkbox\" ><label for=\"sk-estimator-id-3\" class=\"sk-toggleable__label fitted sk-toggleable__label-arrow\"><div><div>best_estimator_: RandomForestClassifier</div></div></label><div class=\"sk-toggleable__content fitted\"><pre>RandomForestClassifier(max_depth=8, random_state=42)</pre></div> </div></div><div class=\"sk-serial\"><div class=\"sk-item\"><div class=\"sk-estimator fitted sk-toggleable\"><input class=\"sk-toggleable__control sk-hidden--visually\" id=\"sk-estimator-id-4\" type=\"checkbox\" ><label for=\"sk-estimator-id-4\" class=\"sk-toggleable__label fitted sk-toggleable__label-arrow\"><div><div>RandomForestClassifier</div></div><div><a class=\"sk-estimator-doc-link fitted\" rel=\"noreferrer\" target=\"_blank\" href=\"https://scikit-learn.org/1.6/modules/generated/sklearn.ensemble.RandomForestClassifier.html\">?<span>Documentation for RandomForestClassifier</span></a></div></label><div class=\"sk-toggleable__content fitted\"><pre>RandomForestClassifier(max_depth=8, random_state=42)</pre></div> </div></div></div></div></div></div></div></div></div>"
            ]
          },
          "metadata": {},
          "execution_count": 86
        }
      ],
      "source": [
        "parameters = {'max_depth': [5, 8], 'n_estimators': [50, 100], 'random_state': [42]}\n",
        "clf = GridSearchCV(rf, parameters, cv=5, scoring='roc_auc')\n",
        "clf.fit(X_train, y_train)"
      ]
    },
    {
      "cell_type": "markdown",
      "id": "91800b54",
      "metadata": {
        "id": "91800b54"
      },
      "source": [
        "А после обучения можно посмотреть на лучшую оценку, лучшую модель и просто посмотреть на все результаты обучения."
      ]
    },
    {
      "cell_type": "code",
      "execution_count": 87,
      "id": "f7b26348",
      "metadata": {
        "colab": {
          "base_uri": "https://localhost:8080/"
        },
        "id": "f7b26348",
        "outputId": "2e87b94f-1a2c-44b0-f5fc-16cdd1b422f7"
      },
      "outputs": [
        {
          "output_type": "execute_result",
          "data": {
            "text/plain": [
              "np.float64(0.5953933447533425)"
            ]
          },
          "metadata": {},
          "execution_count": 87
        }
      ],
      "source": [
        "clf.best_score_"
      ]
    },
    {
      "cell_type": "code",
      "execution_count": 88,
      "id": "0fa4a813",
      "metadata": {
        "colab": {
          "base_uri": "https://localhost:8080/"
        },
        "id": "0fa4a813",
        "outputId": "d2c3210b-a47c-4b4c-8277-ba997f088ffa"
      },
      "outputs": [
        {
          "output_type": "execute_result",
          "data": {
            "text/plain": [
              "{'max_depth': 8, 'n_estimators': 100, 'random_state': 42}"
            ]
          },
          "metadata": {},
          "execution_count": 88
        }
      ],
      "source": [
        "clf.best_params_"
      ]
    },
    {
      "cell_type": "code",
      "execution_count": 89,
      "id": "15a58b8e",
      "metadata": {
        "colab": {
          "base_uri": "https://localhost:8080/"
        },
        "id": "15a58b8e",
        "outputId": "77c907cc-bf81-481e-932a-6a7d4fb35b4c"
      },
      "outputs": [
        {
          "output_type": "execute_result",
          "data": {
            "text/plain": [
              "{'mean_fit_time': array([0.32828803, 0.63752108, 0.45139747, 1.12800164]),\n",
              " 'std_fit_time': array([0.01579613, 0.01714949, 0.00754081, 0.1424468 ]),\n",
              " 'mean_score_time': array([0.01115851, 0.01893978, 0.01331878, 0.02614493]),\n",
              " 'std_score_time': array([0.00082581, 0.00262234, 0.00097804, 0.00247106]),\n",
              " 'param_max_depth': masked_array(data=[5, 5, 8, 8],\n",
              "              mask=[False, False, False, False],\n",
              "        fill_value=999999),\n",
              " 'param_n_estimators': masked_array(data=[50, 100, 50, 100],\n",
              "              mask=[False, False, False, False],\n",
              "        fill_value=999999),\n",
              " 'param_random_state': masked_array(data=[42, 42, 42, 42],\n",
              "              mask=[False, False, False, False],\n",
              "        fill_value=999999),\n",
              " 'params': [{'max_depth': 5, 'n_estimators': 50, 'random_state': 42},\n",
              "  {'max_depth': 5, 'n_estimators': 100, 'random_state': 42},\n",
              "  {'max_depth': 8, 'n_estimators': 50, 'random_state': 42},\n",
              "  {'max_depth': 8, 'n_estimators': 100, 'random_state': 42}],\n",
              " 'split0_test_score': array([0.59865039, 0.59160847, 0.59550675, 0.58713949]),\n",
              " 'split1_test_score': array([0.60755096, 0.61485565, 0.61216943, 0.62540729]),\n",
              " 'split2_test_score': array([0.58550807, 0.58521255, 0.5863738 , 0.59327499]),\n",
              " 'split3_test_score': array([0.59622263, 0.58811093, 0.59567326, 0.59823255]),\n",
              " 'split4_test_score': array([0.58052398, 0.5775574 , 0.56187202, 0.5729124 ]),\n",
              " 'mean_test_score': array([0.59369121, 0.591469  , 0.59031905, 0.59539334]),\n",
              " 'std_test_score': array([0.0096274 , 0.01257702, 0.01647919, 0.01724473]),\n",
              " 'rank_test_score': array([2, 3, 4, 1], dtype=int32)}"
            ]
          },
          "metadata": {},
          "execution_count": 89
        }
      ],
      "source": [
        "clf.cv_results_"
      ]
    },
    {
      "cell_type": "markdown",
      "id": "9bf2a0eb",
      "metadata": {
        "id": "9bf2a0eb"
      },
      "source": [
        "Попробуйте использовать `GridSearchCV` с тем набором признаков, который считаете оптимальным. Подберите лучший набор гиперпараметров, выберите метрику и посмотрите, какого результата сможете достичь.\n",
        "\n",
        "Метрики можно посмотреть тут: [scoring-parameter](https://scikit-learn.org/stable/modules/model_evaluation.html#scoring-parameter)"
      ]
    },
    {
      "cell_type": "code",
      "execution_count": 90,
      "id": "991f8594",
      "metadata": {
        "colab": {
          "base_uri": "https://localhost:8080/"
        },
        "id": "991f8594",
        "outputId": "71fefecb-f8ff-4d02-83ae-b357d0292b1b"
      },
      "outputs": [
        {
          "output_type": "stream",
          "name": "stdout",
          "text": [
            "CPU times: user 4 µs, sys: 0 ns, total: 4 µs\n",
            "Wall time: 9.06 µs\n"
          ]
        }
      ],
      "source": [
        "%time\n",
        "# этот код позволяет вывести итоговое время выполнения ячейки, если вам интересно засечь время обучения"
      ]
    },
    {
      "cell_type": "code",
      "execution_count": 91,
      "id": "10790d9f",
      "metadata": {
        "colab": {
          "base_uri": "https://localhost:8080/",
          "height": 891
        },
        "id": "10790d9f",
        "outputId": "48775e2b-d2fc-4093-91a8-5313e9a6f338"
      },
      "outputs": [
        {
          "output_type": "stream",
          "name": "stdout",
          "text": [
            "CPU times: user 45.5 s, sys: 114 ms, total: 45.6 s\n",
            "Wall time: 46.3 s\n",
            "Лучший ROC AUC: 0.5967185633090616\n",
            "Лучшие параметры: {'max_depth': 10, 'n_estimators': 100}\n",
            "Результаты кросс-валидации: {'mean_fit_time': array([0.51204963, 0.72459221, 1.16310668, 0.45286317, 0.90068016,\n",
            "       1.57777371, 0.5477181 , 1.1107399 , 1.80413442]), 'std_fit_time': array([0.0537436 , 0.16446331, 0.18452851, 0.01115364, 0.01950375,\n",
            "       0.23526431, 0.01295093, 0.04605459, 0.2441925 ]), 'mean_score_time': array([0.01945243, 0.01984296, 0.02914839, 0.01343718, 0.02363248,\n",
            "       0.03325815, 0.01475945, 0.02644019, 0.0352396 ]), 'std_score_time': array([0.00263598, 0.00321278, 0.0043874 , 0.0019359 , 0.0023939 ,\n",
            "       0.00372102, 0.00103073, 0.00251876, 0.00374438]), 'param_max_depth': masked_array(data=[5, 5, 5, 8, 8, 8, 10, 10, 10],\n",
            "             mask=[False, False, False, False, False, False, False, False,\n",
            "                   False],\n",
            "       fill_value=999999), 'param_n_estimators': masked_array(data=[50, 100, 150, 50, 100, 150, 50, 100, 150],\n",
            "             mask=[False, False, False, False, False, False, False, False,\n",
            "                   False],\n",
            "       fill_value=999999), 'params': [{'max_depth': 5, 'n_estimators': 50}, {'max_depth': 5, 'n_estimators': 100}, {'max_depth': 5, 'n_estimators': 150}, {'max_depth': 8, 'n_estimators': 50}, {'max_depth': 8, 'n_estimators': 100}, {'max_depth': 8, 'n_estimators': 150}, {'max_depth': 10, 'n_estimators': 50}, {'max_depth': 10, 'n_estimators': 100}, {'max_depth': 10, 'n_estimators': 150}], 'split0_test_score': array([0.59865039, 0.59160847, 0.5867527 , 0.59550675, 0.58713949,\n",
            "       0.5935159 , 0.59026797, 0.5888137 , 0.58680958]), 'split1_test_score': array([0.60755096, 0.61485565, 0.61402023, 0.61216943, 0.62540729,\n",
            "       0.6224426 , 0.61938319, 0.62574449, 0.61960105]), 'split2_test_score': array([0.58550807, 0.58521255, 0.58695537, 0.5863738 , 0.59327499,\n",
            "       0.59063613, 0.59293779, 0.59515041, 0.59895052]), 'split3_test_score': array([0.59622263, 0.58811093, 0.5893328 , 0.59567326, 0.59823255,\n",
            "       0.59504622, 0.59508979, 0.59980488, 0.59743123]), 'split4_test_score': array([0.58052398, 0.5775574 , 0.57693415, 0.56187202, 0.5729124 ,\n",
            "       0.57231757, 0.57197659, 0.57407934, 0.57210161]), 'mean_test_score': array([0.59369121, 0.591469  , 0.59079905, 0.59031905, 0.59539334,\n",
            "       0.59479168, 0.59393107, 0.59671856, 0.5949788 ]), 'std_test_score': array([0.0096274 , 0.01257702, 0.01236734, 0.01647919, 0.01724473,\n",
            "       0.01605378, 0.01513643, 0.01690864, 0.01560862]), 'rank_test_score': array([6, 7, 8, 9, 2, 4, 5, 1, 3], dtype=int32)}\n",
            "ROC AUC на тестовой выборке: 0.5629774184555338\n"
          ]
        },
        {
          "output_type": "display_data",
          "data": {
            "text/plain": [
              "<Figure size 640x480 with 1 Axes>"
            ],
            "image/png": "[encoded data removed]"
          },
          "metadata": {}
        }
      ],
      "source": [
        "# Разделение данных на обучающую и тестовую выборки\n",
        "X = diabetes.drop(['Outcome', 'FamilyHistory'], axis=1)\n",
        "y = diabetes['Outcome']\n",
        "X_train, X_test, y_train, y_test = train_test_split(X, y, test_size=0.2, random_state=42)\n",
        "\n",
        "# Определяем модель случайного леса\n",
        "rf = RandomForestClassifier(random_state=42)\n",
        "\n",
        "# Определяем параметры для GridSearchCV\n",
        "parameters = {\n",
        "    'max_depth': [5, 8, 10],\n",
        "    'n_estimators': [50, 100, 150]\n",
        "}\n",
        "\n",
        "# Инициализация GridSearchCV\n",
        "clf = GridSearchCV(rf, parameters, cv=5, scoring='roc_auc')\n",
        "\n",
        "# Обучение модели\n",
        "%time clf.fit(X_train, y_train)\n",
        "\n",
        "# Выводим результаты\n",
        "print(\"Лучший ROC AUC:\", clf.best_score_)\n",
        "print(\"Лучшие параметры:\", clf.best_params_)\n",
        "print(\"Результаты кросс-валидации:\", clf.cv_results_)\n",
        "\n",
        "# Оценка на тестовой выборке\n",
        "y_pred_proba = clf.predict_proba(X_test)[:, 1]\n",
        "auc_roc = roc_auc_score(y_test, y_pred_proba)\n",
        "print(\"ROC AUC на тестовой выборке:\", auc_roc)\n",
        "\n",
        "# Построение ROC-кривой\n",
        "fpr, tpr, thresholds = roc_curve(y_test, y_pred_proba)\n",
        "plt.figure()\n",
        "plt.plot(fpr, tpr, label='ROC-кривая (AUC = {:.2f})'.format(auc_roc))\n",
        "plt.plot([0, 1], [0, 1], linestyle='--')\n",
        "plt.xlim([0, 1])\n",
        "plt.ylim([0, 1])\n",
        "plt.xlabel('False Positive Rate')\n",
        "plt.ylabel('True Positive Rate')\n",
        "plt.title('ROC-кривая')\n",
        "plt.legend()\n",
        "plt.show()"
      ]
    },
    {
      "cell_type": "markdown",
      "id": "b81aec8e",
      "metadata": {
        "id": "b81aec8e"
      },
      "source": [
        "## Multiclass classification\n",
        "\n",
        "---\n",
        "Всюду до этого мы рассматривали случаи бинарной классификации, где у нас были только два класса. Однако зачастую нам нужно классифицировать данные по нескольким группам. Есть два подхода к использванию бинарных классификаторов для многоклассовой классификации.\n",
        "\n",
        "> Один против всех (One-versus-all, OvA или один против остальных, One-versus-rest, OvR). Для каждого класса строится один бинарный классификатор. При этом примеры класса определяются как «положительные», а всех других — как «отрицательные». Итоговый результат формируется по принципу «победитель получает все»: объект будет отнесен к классу, для которого бинарный классификатор даст большее число «положительных» примеров.\n",
        "\n",
        "> Один против одного (One versus One, OvO). Строится $k(k−1)$ классификаторов, позволяющих различить любую пару примеров разных классов. Алгоритм просматривает все пары примеров с разными метками классов и для каждой решает бинарную задачу $f_{ij}$. В каждом случае для пар $(i,j)$ положительные — все примеры с метками $i$, а отрицательными — с $j$.\n",
        "\n",
        "Какие недостатки можно отметить у обоих способов?"
      ]
    },
    {
      "cell_type": "markdown",
      "id": "65642301",
      "metadata": {
        "id": "65642301"
      },
      "source": [
        "Но многие модели просто умеют работать с несколькими классами. Например, случайный лес делает это легко.\n",
        "\n",
        "Для демонстрации загрузим новые данные.\n",
        "\n",
        "Этот набор данных содержит исчерпывающую информацию о 2392 учениках старших классов, в которой подробно описываются их демографические данные, привычки в учебе, участие родителей, внеклассные мероприятия и успеваемость. Целевая переменная, `GradeClass`, классифицирует оценки учеников по отдельным категориям, предоставляя надежный набор данных для образовательных исследований, прогнозного моделирования и статистического анализа."
      ]
    },
    {
      "cell_type": "code",
      "execution_count": 93,
      "id": "5bf78bb5",
      "metadata": {
        "id": "5bf78bb5"
      },
      "outputs": [],
      "source": [
        "stud = pd.read_csv('Student_performance_data.csv')"
      ]
    },
    {
      "cell_type": "code",
      "execution_count": null,
      "id": "f7b24b69",
      "metadata": {
        "id": "f7b24b69"
      },
      "outputs": [],
      "source": [
        "stud"
      ]
    },
    {
      "cell_type": "markdown",
      "id": "f91c7485",
      "metadata": {
        "id": "f91c7485"
      },
      "source": [
        "Теперь обучим модель и посмотрим на метрики."
      ]
    },
    {
      "cell_type": "code",
      "execution_count": 94,
      "id": "183649ae",
      "metadata": {
        "id": "183649ae"
      },
      "outputs": [],
      "source": [
        "X_train, X_test, y_train, y_test = train_test_split(stud.drop(['GradeClass'], axis=1), stud['GradeClass'], test_size=0.2, random_state=42)"
      ]
    },
    {
      "cell_type": "code",
      "execution_count": 95,
      "id": "aac5c4f6",
      "metadata": {
        "id": "aac5c4f6"
      },
      "outputs": [],
      "source": [
        "rf = RandomForestClassifier(max_depth=8).fit(X_train, y_train)"
      ]
    },
    {
      "cell_type": "code",
      "execution_count": 96,
      "id": "8cec2899",
      "metadata": {
        "colab": {
          "base_uri": "https://localhost:8080/",
          "height": 680
        },
        "id": "8cec2899",
        "outputId": "ea6f3413-cce5-4283-af4a-b0a9163f2f69"
      },
      "outputs": [
        {
          "output_type": "stream",
          "name": "stdout",
          "text": [
            "              precision    recall  f1-score   support\n",
            "\n",
            "         0.0       1.00      0.23      0.37        22\n",
            "         1.0       0.70      0.88      0.78        49\n",
            "         2.0       0.90      0.87      0.89        85\n",
            "         3.0       0.89      0.91      0.90        86\n",
            "         4.0       0.95      0.98      0.97       237\n",
            "\n",
            "    accuracy                           0.90       479\n",
            "   macro avg       0.89      0.77      0.78       479\n",
            "weighted avg       0.91      0.90      0.89       479\n",
            "\n"
          ]
        },
        {
          "output_type": "display_data",
          "data": {
            "text/plain": [
              "<Figure size 640x480 with 2 Axes>"
            ],
            "image/png": "[encoded data removed]"
          },
          "metadata": {}
        }
      ],
      "source": [
        "metrics(y_test, rf.predict(X_test))"
      ]
    },
    {
      "cell_type": "markdown",
      "id": "adcc4379",
      "metadata": {
        "id": "adcc4379"
      },
      "source": [
        "Как видим, теперь для каждого класса у нас есть набор метрик, а также общие оценки.\n",
        "\n",
        "И тепловая карта с матрицей ошибок выглядит лучше. Однако на ней заметен дисбаланс классов. А когда мы хотим оценить, где модель делает наибольшие ошибки, нам лучше занулить диагональ. Для этого в нашей функции `metrics` предусмотрен код."
      ]
    },
    {
      "cell_type": "code",
      "execution_count": 97,
      "id": "62ebffb8",
      "metadata": {
        "colab": {
          "base_uri": "https://localhost:8080/",
          "height": 680
        },
        "id": "62ebffb8",
        "outputId": "e2d60629-1387-4898-e928-a838239675c7"
      },
      "outputs": [
        {
          "output_type": "stream",
          "name": "stdout",
          "text": [
            "              precision    recall  f1-score   support\n",
            "\n",
            "         0.0       1.00      0.23      0.37        22\n",
            "         1.0       0.70      0.88      0.78        49\n",
            "         2.0       0.90      0.87      0.89        85\n",
            "         3.0       0.89      0.91      0.90        86\n",
            "         4.0       0.95      0.98      0.97       237\n",
            "\n",
            "    accuracy                           0.90       479\n",
            "   macro avg       0.89      0.77      0.78       479\n",
            "weighted avg       0.91      0.90      0.89       479\n",
            "\n"
          ]
        },
        {
          "output_type": "display_data",
          "data": {
            "text/plain": [
              "<Figure size 640x480 with 2 Axes>"
            ],
            "image/png": "[encoded data removed]"
          },
          "metadata": {}
        }
      ],
      "source": [
        "metrics(y_test, rf.predict(X_test), True)"
      ]
    },
    {
      "cell_type": "markdown",
      "id": "46075984",
      "metadata": {
        "id": "46075984"
      },
      "source": [
        "Тут видно, где модель ошибается боьше всего.\n",
        "\n",
        "В завершение предлагаю вам настроить и эту модель, подобрав лучшие гиперпараметры."
      ]
    },
    {
      "cell_type": "code",
      "execution_count": 100,
      "id": "d43203a0",
      "metadata": {
        "colab": {
          "base_uri": "https://localhost:8080/",
          "height": 936
        },
        "id": "d43203a0",
        "outputId": "757b99c8-939c-4d47-d3cb-4ca3639a7aeb"
      },
      "outputs": [
        {
          "output_type": "stream",
          "name": "stdout",
          "text": [
            "CPU times: user 56.7 s, sys: 182 ms, total: 56.9 s\n",
            "Wall time: 57.4 s\n",
            "Лучший accuracy: 0.9247248916654136\n",
            "Лучшие параметры: {'max_depth': 10, 'min_samples_leaf': 1, 'min_samples_split': 5, 'n_estimators': 50}\n",
            "Accuracy на тестовой выборке: 0.9144050104384134\n",
            "              precision    recall  f1-score   support\n",
            "\n",
            "         0.0       0.91      0.45      0.61        22\n",
            "         1.0       0.80      0.90      0.85        49\n",
            "         2.0       0.91      0.88      0.90        85\n",
            "         3.0       0.85      0.88      0.87        86\n",
            "         4.0       0.96      0.98      0.97       237\n",
            "\n",
            "    accuracy                           0.91       479\n",
            "   macro avg       0.89      0.82      0.84       479\n",
            "weighted avg       0.92      0.91      0.91       479\n",
            "\n"
          ]
        },
        {
          "output_type": "display_data",
          "data": {
            "text/plain": [
              "<Figure size 1000x700 with 2 Axes>"
            ],
            "image/png": "[encoded data removed]"
          },
          "metadata": {}
        }
      ],
      "source": [
        "from sklearn.model_selection import train_test_split, GridSearchCV\n",
        "from sklearn.ensemble import RandomForestClassifier\n",
        "from sklearn.metrics import classification_report, confusion_matrix, accuracy_score\n",
        "import seaborn as sns\n",
        "import matplotlib.pyplot as plt\n",
        "\n",
        "# Разделение данных на обучающую и тестовую выборки\n",
        "X = stud.drop(['GradeClass'], axis=1)\n",
        "y = stud['GradeClass']\n",
        "X_train, X_test, y_train, y_test = train_test_split(X, y, test_size=0.2, random_state=42)\n",
        "\n",
        "# Определяем модель случайного леса\n",
        "rf = RandomForestClassifier(random_state=42)\n",
        "\n",
        "# Определяем параметры для GridSearchCV\n",
        "parameters = {\n",
        "    'max_depth': [5, 8, 10],\n",
        "    'n_estimators': [50, 100, 150],\n",
        "    'min_samples_split': [2, 5],\n",
        "    'min_samples_leaf': [1, 2]\n",
        "}\n",
        "\n",
        "# Инициализация GridSearchCV\n",
        "clf = GridSearchCV(rf, parameters, cv=5, scoring='accuracy')\n",
        "\n",
        "# Обучение модели\n",
        "%time clf.fit(X_train, y_train)\n",
        "\n",
        "# Выводим результаты\n",
        "print(\"Лучший accuracy:\", clf.best_score_)\n",
        "print(\"Лучшие параметры:\", clf.best_params_)\n",
        "\n",
        "# Оценка на тестовой выборке\n",
        "y_pred = clf.predict(X_test)\n",
        "print(\"Accuracy на тестовой выборке:\", accuracy_score(y_test, y_pred))\n",
        "print(classification_report(y_test, y_pred))\n",
        "\n",
        "# Построение матрицы ошибок\n",
        "conf_matrix = confusion_matrix(y_test, y_pred)\n",
        "plt.figure(figsize=(10, 7))\n",
        "sns.heatmap(conf_matrix, annot=True, fmt='d', cmap='Blues', xticklabels=clf.classes_, yticklabels=clf.classes_)\n",
        "plt.xlabel('Предсказанные классы')\n",
        "plt.ylabel('Истинные классы')\n",
        "plt.title('Матрица ошибок')\n",
        "plt.show()"
      ]
    },
    {
      "cell_type": "code",
      "execution_count": null,
      "id": "f84fccdd",
      "metadata": {
        "id": "f84fccdd"
      },
      "outputs": [],
      "source": []
    }
  ],
  "metadata": {
    "kernelspec": {
      "display_name": "Python 3 (ipykernel)",
      "language": "python",
      "name": "python3"
    },
    "language_info": {
      "codemirror_mode": {
        "name": "ipython",
        "version": 3
      },
      "file_extension": ".py",
      "mimetype": "text/x-python",
      "name": "python",
      "nbconvert_exporter": "python",
      "pygments_lexer": "ipython3",
      "version": "3.9.18"
    },
    "toc": {
      "base_numbering": 1,
      "nav_menu": {},
      "number_sections": true,
      "sideBar": true,
      "skip_h1_title": false,
      "title_cell": "Table of Contents",
      "title_sidebar": "Contents",
      "toc_cell": false,
      "toc_position": {},
      "toc_section_display": true,
      "toc_window_display": false
    },
    "colab": {
      "provenance": []
    }
  },
  "nbformat": 4,
  "nbformat_minor": 5
}