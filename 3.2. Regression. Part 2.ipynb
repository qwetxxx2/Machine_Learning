{
 "cells": [
  {
   "cell_type": "markdown",
   "id": "bcde6052-1a37-460b-9bdb-3e55461952cf",
   "metadata": {},
   "source": [
    "# Regression. Part 2\n",
    "\n",
    "---\n",
    "Author: Durkin Anatoliy\n",
    "\n",
    "Updated: 31.03.2025\n",
    "\n",
    "---\n",
    "В данном ноутбуке ..."
   ]
  },
  {
   "cell_type": "code",
   "execution_count": null,
   "id": "62c1f4d8-8d38-46b7-bf44-2c9ae1ec669d",
   "metadata": {},
   "outputs": [],
   "source": [
    "import pandas as pd\n",
    "from sklearn.model_selection import train_test_split\n",
    "from sklearn.metrics import r2_score, mean_absolute_error, mean_squared_error"
   ]
  },
  {
   "cell_type": "code",
   "execution_count": null,
   "id": "40345595-5a2d-4fac-85ab-2b68c861fefb",
   "metadata": {},
   "outputs": [],
   "source": [
    "def metrics(true, pred):\n",
    "    print('R2:', r2_score(true, pred))\n",
    "    print('MAE:', mean_absolute_error(true, pred))\n",
    "    print('RMSE:', mean_squared_error(true, pred)**0.5)"
   ]
  },
  {
   "cell_type": "code",
   "execution_count": null,
   "id": "b6a2385c-0e17-453e-a412-a4c5847b0ea4",
   "metadata": {},
   "outputs": [],
   "source": [
    "df = pd.read_csv('house_price_regression_dataset.csv')"
   ]
  },
  {
   "cell_type": "code",
   "execution_count": null,
   "id": "48793792-b3cc-4dce-9ba8-9c195d85d836",
   "metadata": {},
   "outputs": [],
   "source": [
    "df.head()"
   ]
  },
  {
   "cell_type": "code",
   "execution_count": null,
   "id": "cc692a57-219d-4cb8-b4ce-e487047ccef3",
   "metadata": {},
   "outputs": [],
   "source": [
    "df.info()"
   ]
  },
  {
   "cell_type": "code",
   "execution_count": null,
   "id": "b7127ac4-451e-4d8e-a9b8-146937923b52",
   "metadata": {},
   "outputs": [],
   "source": [
    "X_train, X_test, y_train, y_test = train_test_split(df.drop(['House_Price'], axis=1), df['House_Price'], test_size=0.2, random_state=42)"
   ]
  },
  {
   "cell_type": "markdown",
   "id": "d9cf733d-6c15-4af2-a4bd-418b29599e5a",
   "metadata": {},
   "source": [
    "# Модели"
   ]
  },
  {
   "cell_type": "code",
   "execution_count": null,
   "id": "09617c9b-ce44-4951-872d-60dc4418be46",
   "metadata": {},
   "outputs": [],
   "source": [
    "from sklearn.linear_model import LinearRegression"
   ]
  },
  {
   "cell_type": "code",
   "execution_count": null,
   "id": "550813cf-03f8-4eb0-8a56-206b05508362",
   "metadata": {},
   "outputs": [],
   "source": [
    "lr = LinearRegression().fit(X_train, y_train)"
   ]
  },
  {
   "cell_type": "code",
   "execution_count": null,
   "id": "0326894f-c0cd-4338-9adc-4af25480cefe",
   "metadata": {},
   "outputs": [],
   "source": [
    "metrics(y_test, lr.predict(X_test))"
   ]
  },
  {
   "cell_type": "code",
   "execution_count": null,
   "id": "64e51926-fcc9-4c0b-b89b-75d70574607e",
   "metadata": {},
   "outputs": [],
   "source": [
    "from sklearn.ensemble import RandomForestRegressor"
   ]
  },
  {
   "cell_type": "code",
   "execution_count": null,
   "id": "91c89cb4-a198-4f68-bdb9-87566401c8c2",
   "metadata": {},
   "outputs": [],
   "source": [
    "rf = RandomForestRegressor().fit(X_train, y_train)"
   ]
  },
  {
   "cell_type": "code",
   "execution_count": null,
   "id": "1960f367-bd8c-436c-9d63-15ae264619ce",
   "metadata": {},
   "outputs": [],
   "source": [
    "metrics(y_test, rf.predict(X_test))"
   ]
  },
  {
   "cell_type": "code",
   "execution_count": null,
   "id": "22e98913-3b09-4927-a646-95bc3efcc321",
   "metadata": {},
   "outputs": [],
   "source": []
  },
  {
   "cell_type": "code",
   "execution_count": null,
   "id": "c7e241d2-249d-49e7-9c5e-ed68e7afcf51",
   "metadata": {},
   "outputs": [],
   "source": [
    "from sklearn.ensemble import GradientBoostingRegressor"
   ]
  },
  {
   "cell_type": "code",
   "execution_count": null,
   "id": "18273da3-03fe-4163-8710-0448e7b8ad46",
   "metadata": {},
   "outputs": [],
   "source": [
    "gbr = GradientBoostingRegressor().fit(X_train, y_train)"
   ]
  },
  {
   "cell_type": "code",
   "execution_count": null,
   "id": "4f12f59e-c5de-403f-9b2a-03585eaeb869",
   "metadata": {},
   "outputs": [],
   "source": [
    "metrics(y_test, gbr.predict(X_test))"
   ]
  },
  {
   "cell_type": "code",
   "execution_count": null,
   "id": "cf982adf-cb78-4f42-97a4-819c66fc3343",
   "metadata": {},
   "outputs": [],
   "source": []
  },
  {
   "cell_type": "code",
   "execution_count": null,
   "id": "464d2e4e-50c9-4b4f-95f9-95c2a9a2b860",
   "metadata": {},
   "outputs": [],
   "source": [
    "from catboost import CatBoostRegressor"
   ]
  },
  {
   "cell_type": "code",
   "execution_count": null,
   "id": "62ffedd6-fedf-480e-8b65-6e5df8da2716",
   "metadata": {
    "scrolled": true
   },
   "outputs": [],
   "source": [
    "cb = CatBoostRegressor().fit(X_train, y_train, verbose=False)"
   ]
  },
  {
   "cell_type": "code",
   "execution_count": null,
   "id": "30aed0e4-1d51-4954-805f-6db686a4d0f1",
   "metadata": {},
   "outputs": [],
   "source": [
    "metrics(y_test, cb.predict(X_test))"
   ]
  },
  {
   "cell_type": "code",
   "execution_count": null,
   "id": "ac37e8e0-ebff-48a4-8dca-e72a6b3ce3c0",
   "metadata": {},
   "outputs": [],
   "source": []
  },
  {
   "cell_type": "markdown",
   "id": "bc819744-bdc4-4e74-96e8-f03dc928e1ef",
   "metadata": {},
   "source": [
    "# Отбор признаков"
   ]
  },
  {
   "cell_type": "markdown",
   "id": "eff7862c-9e46-4ee3-ae2e-5d6752831646",
   "metadata": {},
   "source": [
    "## Прямой отбор"
   ]
  },
  {
   "cell_type": "code",
   "execution_count": null,
   "id": "e1863108-68da-45d5-9efb-5eaeba1be038",
   "metadata": {},
   "outputs": [],
   "source": [
    "from sklearn.feature_selection import SequentialFeatureSelector"
   ]
  },
  {
   "cell_type": "code",
   "execution_count": null,
   "id": "d8f32625-a07b-426f-98fd-f72bf7e318a7",
   "metadata": {},
   "outputs": [],
   "source": [
    "cb = CatBoostRegressor(verbose=False)\n",
    "sfs = SequentialFeatureSelector(cb, direction='forward')\n",
    "sfs.fit(X_train, y_train)"
   ]
  },
  {
   "cell_type": "code",
   "execution_count": null,
   "id": "fc3a4447-f259-498f-b163-f61481b30866",
   "metadata": {},
   "outputs": [],
   "source": [
    "sfs.get_support()"
   ]
  },
  {
   "cell_type": "code",
   "execution_count": null,
   "id": "37356670-bbab-49c6-bf89-4c620bb18357",
   "metadata": {},
   "outputs": [],
   "source": [
    "sfs.get_params()"
   ]
  },
  {
   "cell_type": "code",
   "execution_count": null,
   "id": "14616c4b-9c73-46ae-aed1-d5e5b0fafdf6",
   "metadata": {
    "scrolled": true
   },
   "outputs": [],
   "source": [
    "sfs.transform(X_test)"
   ]
  },
  {
   "cell_type": "markdown",
   "id": "b1ca52bc-49fb-4df1-b2e5-83de236ce76e",
   "metadata": {},
   "source": [
    "## Последовательный отбор"
   ]
  },
  {
   "cell_type": "code",
   "execution_count": null,
   "id": "cf0e7bea-5321-45d5-bd88-1744d7c86517",
   "metadata": {},
   "outputs": [],
   "source": [
    "cb = CatBoostRegressor(verbose=False)\n",
    "sfs = SequentialFeatureSelector(cb, direction='backward')\n",
    "sfs.fit(X_train, y_train)"
   ]
  },
  {
   "cell_type": "code",
   "execution_count": null,
   "id": "a3abe304-bb30-4080-a0a6-9f30fb782807",
   "metadata": {},
   "outputs": [],
   "source": [
    "sfs.get_support()"
   ]
  },
  {
   "cell_type": "markdown",
   "id": "4287dc73-de67-4ca5-8064-c785db6c1a30",
   "metadata": {},
   "source": [
    "## Исчерпывающий выбор"
   ]
  },
  {
   "cell_type": "code",
   "execution_count": null,
   "id": "e8170118-043d-4cbe-9c51-d39e9fc23b65",
   "metadata": {},
   "outputs": [],
   "source": [
    "from mlxtend.feature_selection import ExhaustiveFeatureSelector"
   ]
  },
  {
   "cell_type": "code",
   "execution_count": null,
   "id": "497b1895-079a-4793-bdc6-95f9bb78db49",
   "metadata": {},
   "outputs": [],
   "source": [
    "cb = CatBoostRegressor(verbose=False)\n",
    "efs = ExhaustiveFeatureSelector(cb, min_features=1, max_features=7, scoring='r2', cv=5)\n",
    "efs.fit(X_train, y_train)"
   ]
  },
  {
   "cell_type": "code",
   "execution_count": null,
   "id": "a06917df-3b9e-4810-b462-ede2983c4bb2",
   "metadata": {},
   "outputs": [],
   "source": [
    "efs.best_score_"
   ]
  },
  {
   "cell_type": "code",
   "execution_count": null,
   "id": "049b3b23-22fb-49f6-a2a7-090da361c523",
   "metadata": {},
   "outputs": [],
   "source": [
    "efs.best_feature_names_"
   ]
  },
  {
   "cell_type": "code",
   "execution_count": null,
   "id": "12cb7d5a-869f-430f-bf61-833792bbae76",
   "metadata": {
    "scrolled": true
   },
   "outputs": [],
   "source": [
    "efs.subsets_"
   ]
  },
  {
   "cell_type": "code",
   "execution_count": null,
   "id": "4924e848-16bf-4f48-b25e-3159164395b9",
   "metadata": {},
   "outputs": [],
   "source": []
  },
  {
   "cell_type": "markdown",
   "id": "f480a3da-a45e-4f6a-938c-8890e9bbe551",
   "metadata": {},
   "source": [
    "# Pipeline"
   ]
  },
  {
   "cell_type": "markdown",
   "id": "3fa4ea91-f78d-452f-a3d4-5d7206bc7467",
   "metadata": {},
   "source": [
    "## Pipeline as transformer"
   ]
  },
  {
   "cell_type": "code",
   "execution_count": null,
   "id": "2e9e60e4-aafd-42a7-8558-78ab60f0004b",
   "metadata": {},
   "outputs": [],
   "source": [
    "from sklearn.pipeline import Pipeline\n",
    "from sklearn.impute import SimpleImputer\n",
    "from sklearn.preprocessing import MinMaxScaler"
   ]
  },
  {
   "cell_type": "code",
   "execution_count": null,
   "id": "2cc14aee-120e-4ad2-b837-2d1683763374",
   "metadata": {},
   "outputs": [],
   "source": [
    "simple_imputer = SimpleImputer(strategy='mean')\n",
    "scaler = MinMaxScaler()"
   ]
  },
  {
   "cell_type": "code",
   "execution_count": null,
   "id": "b16a441d-f8f5-438f-935a-7c380719e1e4",
   "metadata": {},
   "outputs": [],
   "source": [
    "pipe = Pipeline(steps=[('imputer', simple_imputer), ('scaler', scaler)])"
   ]
  },
  {
   "cell_type": "code",
   "execution_count": null,
   "id": "1f0730fc-095f-4ccd-8877-9a313eb0d75d",
   "metadata": {},
   "outputs": [],
   "source": [
    "pipe.fit(X_train)"
   ]
  },
  {
   "cell_type": "code",
   "execution_count": null,
   "id": "f0e52f19-446d-406a-a1c4-84027a1556f5",
   "metadata": {},
   "outputs": [],
   "source": [
    "pipe.transform(X_test)"
   ]
  },
  {
   "cell_type": "markdown",
   "id": "7cdfd1da-3cfc-467f-8122-f3ef061d554c",
   "metadata": {},
   "source": [
    "## Pipeline as model"
   ]
  },
  {
   "cell_type": "code",
   "execution_count": null,
   "id": "54bdb33a-f44d-4570-b88a-b715dbb71b97",
   "metadata": {},
   "outputs": [],
   "source": [
    "model = LinearRegression()"
   ]
  },
  {
   "cell_type": "code",
   "execution_count": null,
   "id": "dc579b9a-dda9-4476-9916-9e29a3184369",
   "metadata": {},
   "outputs": [],
   "source": [
    "pipe = Pipeline(steps=[('imputer', simple_imputer), ('scaler', scaler), ('model', model)])"
   ]
  },
  {
   "cell_type": "code",
   "execution_count": null,
   "id": "31a8114f-63b1-45e8-a36d-92f3486f846f",
   "metadata": {},
   "outputs": [],
   "source": [
    "pipe.fit(X_train, y_train)"
   ]
  },
  {
   "cell_type": "code",
   "execution_count": null,
   "id": "2985ecbe-9754-42f8-b5c4-c87ae9804673",
   "metadata": {},
   "outputs": [],
   "source": [
    "metrics(y_test, pipe.predict(X_test))"
   ]
  },
  {
   "cell_type": "markdown",
   "id": "fd3fab77-cd0f-4244-9f58-19de050460af",
   "metadata": {},
   "source": [
    "## Обработка разнородных данных"
   ]
  },
  {
   "cell_type": "code",
   "execution_count": null,
   "id": "cd9caa9b-aa3d-45a5-b83b-a630822fcc0e",
   "metadata": {},
   "outputs": [],
   "source": [
    "df = pd.read_csv('insurance.csv')"
   ]
  },
  {
   "cell_type": "code",
   "execution_count": null,
   "id": "a7cf3041-d2c8-491c-aee3-d9c760536818",
   "metadata": {},
   "outputs": [],
   "source": [
    "df.head()"
   ]
  },
  {
   "cell_type": "code",
   "execution_count": null,
   "id": "b62805aa-9b35-4280-b547-cb986e6f4dcd",
   "metadata": {},
   "outputs": [],
   "source": [
    "X_train, X_test, y_train, y_test = train_test_split(df.drop(['charges'], axis=1), df['charges'], test_size=0.2, random_state=42)"
   ]
  },
  {
   "cell_type": "code",
   "execution_count": null,
   "id": "a2ddbd7b-fecc-4da8-95aa-71fb5ef4e329",
   "metadata": {},
   "outputs": [],
   "source": [
    "from sklearn.compose import ColumnTransformer\n",
    "from sklearn.preprocessing import OneHotEncoder"
   ]
  },
  {
   "cell_type": "code",
   "execution_count": null,
   "id": "ce156a49-b766-40de-b41c-23d4f67e191f",
   "metadata": {},
   "outputs": [],
   "source": [
    "col_transformer = ColumnTransformer([('num_preproc', MinMaxScaler(), [x for x in X_train.columns if X_train[x].dtype!='object']),\n",
    "                                     ('cat_preproc', OneHotEncoder(dtype='int'), [x for x in X_train.columns if X_train[x].dtype=='object'])])"
   ]
  },
  {
   "cell_type": "code",
   "execution_count": null,
   "id": "793e584d-88eb-4682-a997-18ec86df0a84",
   "metadata": {},
   "outputs": [],
   "source": [
    "pipe = Pipeline([('preproc', col_transformer), ('LR', LinearRegression())])"
   ]
  },
  {
   "cell_type": "code",
   "execution_count": null,
   "id": "d797d7b6-e625-41e5-8471-bb79332a271d",
   "metadata": {},
   "outputs": [],
   "source": [
    "pipe.fit(X_train, y_train)"
   ]
  },
  {
   "cell_type": "code",
   "execution_count": null,
   "id": "6224bac5-ef52-4747-8656-546662e012c6",
   "metadata": {},
   "outputs": [],
   "source": [
    "metrics(y_test, pipe.predict(X_test))"
   ]
  },
  {
   "cell_type": "markdown",
   "id": "514d98ee-56cb-48a4-ba66-77fa3f9772ae",
   "metadata": {},
   "source": [
    "## Подбор гиперпараметров"
   ]
  },
  {
   "cell_type": "code",
   "execution_count": null,
   "id": "cc59fab1-f457-4dc4-8646-390fa0e5fdcb",
   "metadata": {},
   "outputs": [],
   "source": [
    "from sklearn.model_selection import GridSearchCV"
   ]
  },
  {
   "cell_type": "code",
   "execution_count": null,
   "id": "980f59c0-dd2c-4ef4-afee-e651aba8845e",
   "metadata": {},
   "outputs": [],
   "source": [
    "pipe = Pipeline([('preproc', col_transformer), ('CatBoost', CatBoostRegressor(verbose=False))])"
   ]
  },
  {
   "cell_type": "code",
   "execution_count": null,
   "id": "9df1709b-605f-4811-8252-5fd33ca95370",
   "metadata": {},
   "outputs": [],
   "source": [
    "pipe.fit(X_train, y_train)"
   ]
  },
  {
   "cell_type": "code",
   "execution_count": null,
   "id": "154c1e2c-e4df-4f13-96a9-7f3f5530888a",
   "metadata": {},
   "outputs": [],
   "source": [
    "pipe.score(X_test, y_test)"
   ]
  },
  {
   "cell_type": "code",
   "execution_count": null,
   "id": "15a37997-c233-46f2-84f6-7c38be7e9570",
   "metadata": {},
   "outputs": [],
   "source": [
    "param_grid = {\n",
    "    \"CatBoost__iterations\": [1000, 2000],\n",
    "    \"CatBoost__learning_rate\": [0.01, 0.05],\n",
    "    \"CatBoost__depth\": [3, 5, 7]\n",
    "}\n",
    "search = GridSearchCV(pipe, param_grid)"
   ]
  },
  {
   "cell_type": "code",
   "execution_count": null,
   "id": "b6f3c14a-7b3f-4ca8-b8b1-fd74232f4534",
   "metadata": {},
   "outputs": [],
   "source": [
    "search.fit(X_train, y_train)"
   ]
  },
  {
   "cell_type": "code",
   "execution_count": null,
   "id": "7a21ae34-962d-4b38-8060-3c724771a4b4",
   "metadata": {},
   "outputs": [],
   "source": [
    "search.best_score_"
   ]
  },
  {
   "cell_type": "code",
   "execution_count": null,
   "id": "fb70cb01-8691-438e-9099-08a4b9e9138d",
   "metadata": {},
   "outputs": [],
   "source": [
    "search.best_params_"
   ]
  },
  {
   "cell_type": "code",
   "execution_count": null,
   "id": "5c51e6ab-3743-44e6-9694-ee30313611ba",
   "metadata": {},
   "outputs": [],
   "source": []
  }
 ],
 "metadata": {
  "kernelspec": {
   "display_name": "Python [conda env:base] *",
   "language": "python",
   "name": "conda-base-py"
  },
  "language_info": {
   "codemirror_mode": {
    "name": "ipython",
    "version": 3
   },
   "file_extension": ".py",
   "mimetype": "text/x-python",
   "name": "python",
   "nbconvert_exporter": "python",
   "pygments_lexer": "ipython3",
   "version": "3.9.18"
  }
 },
 "nbformat": 4,
 "nbformat_minor": 5
}
